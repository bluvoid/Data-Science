{
 "cells": [
  {
   "cell_type": "markdown",
   "metadata": {},
   "source": [
    "#  <span style=\"color:#3366ff\"> <strong> Moteur de Recommandations de films (Arnaud ROUSSEAU) </strong>"
   ]
  },
  {
   "cell_type": "markdown",
   "metadata": {},
   "source": [
    "# <span style=\"color:#3366ff\"> 29 mai 2018 (Part 1 NonCleanée)"
   ]
  },
  {
   "cell_type": "markdown",
   "metadata": {},
   "source": [
    "<span style=\"color:#3366ff\"> Ce notebook est dédié au nettoyage de la base de donnée \"imdb-5000-movie-dataset\", et à la création de nouvelles bases de données exploitables (numériques ou alphanumériques)."
   ]
  },
  {
   "cell_type": "markdown",
   "metadata": {},
   "source": [
    "### Importation des librairies"
   ]
  },
  {
   "cell_type": "code",
   "execution_count": 1,
   "metadata": {},
   "outputs": [],
   "source": [
    "import matplotlib.pyplot as plt\n",
    "%matplotlib inline\n",
    "import numpy as np\n",
    "import pandas as pd\n",
    "from collections import Counter"
   ]
  },
  {
   "cell_type": "markdown",
   "metadata": {},
   "source": [
    "## Chargement de la base et description"
   ]
  },
  {
   "cell_type": "code",
   "execution_count": 2,
   "metadata": {},
   "outputs": [],
   "source": [
    "data_films_raw = pd.read_csv(\n",
    "    'DATA/movie_metadata.csv', \n",
    "    #sep='\\t', \n",
    "    encoding='utf-8', \n",
    "    low_memory = False)"
   ]
  },
  {
   "cell_type": "code",
   "execution_count": 3,
   "metadata": {},
   "outputs": [
    {
     "name": "stdout",
     "output_type": "stream",
     "text": [
      "Cette base de données contient 5043 films décrits avec 28 paramètres (dont cases vides).\n"
     ]
    }
   ],
   "source": [
    "shape = data_films_raw.shape\n",
    "\n",
    "print(\"Cette base de données contient\",shape[0], \n",
    "      \"films décrits avec\", shape[1], \"paramètres (dont cases vides).\")"
   ]
  },
  {
   "cell_type": "code",
   "execution_count": 4,
   "metadata": {},
   "outputs": [
    {
     "data": {
      "text/html": [
       "<div>\n",
       "<style scoped>\n",
       "    .dataframe tbody tr th:only-of-type {\n",
       "        vertical-align: middle;\n",
       "    }\n",
       "\n",
       "    .dataframe tbody tr th {\n",
       "        vertical-align: top;\n",
       "    }\n",
       "\n",
       "    .dataframe thead th {\n",
       "        text-align: right;\n",
       "    }\n",
       "</style>\n",
       "<table border=\"1\" class=\"dataframe\">\n",
       "  <thead>\n",
       "    <tr style=\"text-align: right;\">\n",
       "      <th></th>\n",
       "      <th>0</th>\n",
       "      <th>1</th>\n",
       "      <th>2</th>\n",
       "      <th>3</th>\n",
       "      <th>4</th>\n",
       "      <th>5</th>\n",
       "      <th>6</th>\n",
       "      <th>7</th>\n",
       "      <th>8</th>\n",
       "      <th>9</th>\n",
       "    </tr>\n",
       "  </thead>\n",
       "  <tbody>\n",
       "    <tr>\n",
       "      <th>color</th>\n",
       "      <td>Color</td>\n",
       "      <td>Color</td>\n",
       "      <td>Color</td>\n",
       "      <td>Color</td>\n",
       "      <td>NaN</td>\n",
       "      <td>Color</td>\n",
       "      <td>Color</td>\n",
       "      <td>Color</td>\n",
       "      <td>Color</td>\n",
       "      <td>Color</td>\n",
       "    </tr>\n",
       "    <tr>\n",
       "      <th>director_name</th>\n",
       "      <td>James Cameron</td>\n",
       "      <td>Gore Verbinski</td>\n",
       "      <td>Sam Mendes</td>\n",
       "      <td>Christopher Nolan</td>\n",
       "      <td>Doug Walker</td>\n",
       "      <td>Andrew Stanton</td>\n",
       "      <td>Sam Raimi</td>\n",
       "      <td>Nathan Greno</td>\n",
       "      <td>Joss Whedon</td>\n",
       "      <td>David Yates</td>\n",
       "    </tr>\n",
       "    <tr>\n",
       "      <th>num_critic_for_reviews</th>\n",
       "      <td>723</td>\n",
       "      <td>302</td>\n",
       "      <td>602</td>\n",
       "      <td>813</td>\n",
       "      <td>NaN</td>\n",
       "      <td>462</td>\n",
       "      <td>392</td>\n",
       "      <td>324</td>\n",
       "      <td>635</td>\n",
       "      <td>375</td>\n",
       "    </tr>\n",
       "    <tr>\n",
       "      <th>duration</th>\n",
       "      <td>178</td>\n",
       "      <td>169</td>\n",
       "      <td>148</td>\n",
       "      <td>164</td>\n",
       "      <td>NaN</td>\n",
       "      <td>132</td>\n",
       "      <td>156</td>\n",
       "      <td>100</td>\n",
       "      <td>141</td>\n",
       "      <td>153</td>\n",
       "    </tr>\n",
       "    <tr>\n",
       "      <th>director_facebook_likes</th>\n",
       "      <td>0</td>\n",
       "      <td>563</td>\n",
       "      <td>0</td>\n",
       "      <td>22000</td>\n",
       "      <td>131</td>\n",
       "      <td>475</td>\n",
       "      <td>0</td>\n",
       "      <td>15</td>\n",
       "      <td>0</td>\n",
       "      <td>282</td>\n",
       "    </tr>\n",
       "    <tr>\n",
       "      <th>actor_3_facebook_likes</th>\n",
       "      <td>855</td>\n",
       "      <td>1000</td>\n",
       "      <td>161</td>\n",
       "      <td>23000</td>\n",
       "      <td>NaN</td>\n",
       "      <td>530</td>\n",
       "      <td>4000</td>\n",
       "      <td>284</td>\n",
       "      <td>19000</td>\n",
       "      <td>10000</td>\n",
       "    </tr>\n",
       "    <tr>\n",
       "      <th>actor_2_name</th>\n",
       "      <td>Joel David Moore</td>\n",
       "      <td>Orlando Bloom</td>\n",
       "      <td>Rory Kinnear</td>\n",
       "      <td>Christian Bale</td>\n",
       "      <td>Rob Walker</td>\n",
       "      <td>Samantha Morton</td>\n",
       "      <td>James Franco</td>\n",
       "      <td>Donna Murphy</td>\n",
       "      <td>Robert Downey Jr.</td>\n",
       "      <td>Daniel Radcliffe</td>\n",
       "    </tr>\n",
       "    <tr>\n",
       "      <th>actor_1_facebook_likes</th>\n",
       "      <td>1000</td>\n",
       "      <td>40000</td>\n",
       "      <td>11000</td>\n",
       "      <td>27000</td>\n",
       "      <td>131</td>\n",
       "      <td>640</td>\n",
       "      <td>24000</td>\n",
       "      <td>799</td>\n",
       "      <td>26000</td>\n",
       "      <td>25000</td>\n",
       "    </tr>\n",
       "    <tr>\n",
       "      <th>gross</th>\n",
       "      <td>7.60506e+08</td>\n",
       "      <td>3.09404e+08</td>\n",
       "      <td>2.00074e+08</td>\n",
       "      <td>4.48131e+08</td>\n",
       "      <td>NaN</td>\n",
       "      <td>7.30587e+07</td>\n",
       "      <td>3.3653e+08</td>\n",
       "      <td>2.00807e+08</td>\n",
       "      <td>4.58992e+08</td>\n",
       "      <td>3.01957e+08</td>\n",
       "    </tr>\n",
       "    <tr>\n",
       "      <th>genres</th>\n",
       "      <td>Action|Adventure|Fantasy|Sci-Fi</td>\n",
       "      <td>Action|Adventure|Fantasy</td>\n",
       "      <td>Action|Adventure|Thriller</td>\n",
       "      <td>Action|Thriller</td>\n",
       "      <td>Documentary</td>\n",
       "      <td>Action|Adventure|Sci-Fi</td>\n",
       "      <td>Action|Adventure|Romance</td>\n",
       "      <td>Adventure|Animation|Comedy|Family|Fantasy|Musi...</td>\n",
       "      <td>Action|Adventure|Sci-Fi</td>\n",
       "      <td>Adventure|Family|Fantasy|Mystery</td>\n",
       "    </tr>\n",
       "    <tr>\n",
       "      <th>actor_1_name</th>\n",
       "      <td>CCH Pounder</td>\n",
       "      <td>Johnny Depp</td>\n",
       "      <td>Christoph Waltz</td>\n",
       "      <td>Tom Hardy</td>\n",
       "      <td>Doug Walker</td>\n",
       "      <td>Daryl Sabara</td>\n",
       "      <td>J.K. Simmons</td>\n",
       "      <td>Brad Garrett</td>\n",
       "      <td>Chris Hemsworth</td>\n",
       "      <td>Alan Rickman</td>\n",
       "    </tr>\n",
       "    <tr>\n",
       "      <th>movie_title</th>\n",
       "      <td>Avatar</td>\n",
       "      <td>Pirates of the Caribbean: At World's End</td>\n",
       "      <td>Spectre</td>\n",
       "      <td>The Dark Knight Rises</td>\n",
       "      <td>Star Wars: Episode VII - The Force Awakens    ...</td>\n",
       "      <td>John Carter</td>\n",
       "      <td>Spider-Man 3</td>\n",
       "      <td>Tangled</td>\n",
       "      <td>Avengers: Age of Ultron</td>\n",
       "      <td>Harry Potter and the Half-Blood Prince</td>\n",
       "    </tr>\n",
       "    <tr>\n",
       "      <th>num_voted_users</th>\n",
       "      <td>886204</td>\n",
       "      <td>471220</td>\n",
       "      <td>275868</td>\n",
       "      <td>1144337</td>\n",
       "      <td>8</td>\n",
       "      <td>212204</td>\n",
       "      <td>383056</td>\n",
       "      <td>294810</td>\n",
       "      <td>462669</td>\n",
       "      <td>321795</td>\n",
       "    </tr>\n",
       "    <tr>\n",
       "      <th>cast_total_facebook_likes</th>\n",
       "      <td>4834</td>\n",
       "      <td>48350</td>\n",
       "      <td>11700</td>\n",
       "      <td>106759</td>\n",
       "      <td>143</td>\n",
       "      <td>1873</td>\n",
       "      <td>46055</td>\n",
       "      <td>2036</td>\n",
       "      <td>92000</td>\n",
       "      <td>58753</td>\n",
       "    </tr>\n",
       "    <tr>\n",
       "      <th>actor_3_name</th>\n",
       "      <td>Wes Studi</td>\n",
       "      <td>Jack Davenport</td>\n",
       "      <td>Stephanie Sigman</td>\n",
       "      <td>Joseph Gordon-Levitt</td>\n",
       "      <td>NaN</td>\n",
       "      <td>Polly Walker</td>\n",
       "      <td>Kirsten Dunst</td>\n",
       "      <td>M.C. Gainey</td>\n",
       "      <td>Scarlett Johansson</td>\n",
       "      <td>Rupert Grint</td>\n",
       "    </tr>\n",
       "    <tr>\n",
       "      <th>facenumber_in_poster</th>\n",
       "      <td>0</td>\n",
       "      <td>0</td>\n",
       "      <td>1</td>\n",
       "      <td>0</td>\n",
       "      <td>0</td>\n",
       "      <td>1</td>\n",
       "      <td>0</td>\n",
       "      <td>1</td>\n",
       "      <td>4</td>\n",
       "      <td>3</td>\n",
       "    </tr>\n",
       "    <tr>\n",
       "      <th>plot_keywords</th>\n",
       "      <td>avatar|future|marine|native|paraplegic</td>\n",
       "      <td>goddess|marriage ceremony|marriage proposal|pi...</td>\n",
       "      <td>bomb|espionage|sequel|spy|terrorist</td>\n",
       "      <td>deception|imprisonment|lawlessness|police offi...</td>\n",
       "      <td>NaN</td>\n",
       "      <td>alien|american civil war|male nipple|mars|prin...</td>\n",
       "      <td>sandman|spider man|symbiote|venom|villain</td>\n",
       "      <td>17th century|based on fairy tale|disney|flower...</td>\n",
       "      <td>artificial intelligence|based on comic book|ca...</td>\n",
       "      <td>blood|book|love|potion|professor</td>\n",
       "    </tr>\n",
       "    <tr>\n",
       "      <th>movie_imdb_link</th>\n",
       "      <td>http://www.imdb.com/title/tt0499549/?ref_=fn_t...</td>\n",
       "      <td>http://www.imdb.com/title/tt0449088/?ref_=fn_t...</td>\n",
       "      <td>http://www.imdb.com/title/tt2379713/?ref_=fn_t...</td>\n",
       "      <td>http://www.imdb.com/title/tt1345836/?ref_=fn_t...</td>\n",
       "      <td>http://www.imdb.com/title/tt5289954/?ref_=fn_t...</td>\n",
       "      <td>http://www.imdb.com/title/tt0401729/?ref_=fn_t...</td>\n",
       "      <td>http://www.imdb.com/title/tt0413300/?ref_=fn_t...</td>\n",
       "      <td>http://www.imdb.com/title/tt0398286/?ref_=fn_t...</td>\n",
       "      <td>http://www.imdb.com/title/tt2395427/?ref_=fn_t...</td>\n",
       "      <td>http://www.imdb.com/title/tt0417741/?ref_=fn_t...</td>\n",
       "    </tr>\n",
       "    <tr>\n",
       "      <th>num_user_for_reviews</th>\n",
       "      <td>3054</td>\n",
       "      <td>1238</td>\n",
       "      <td>994</td>\n",
       "      <td>2701</td>\n",
       "      <td>NaN</td>\n",
       "      <td>738</td>\n",
       "      <td>1902</td>\n",
       "      <td>387</td>\n",
       "      <td>1117</td>\n",
       "      <td>973</td>\n",
       "    </tr>\n",
       "    <tr>\n",
       "      <th>language</th>\n",
       "      <td>English</td>\n",
       "      <td>English</td>\n",
       "      <td>English</td>\n",
       "      <td>English</td>\n",
       "      <td>NaN</td>\n",
       "      <td>English</td>\n",
       "      <td>English</td>\n",
       "      <td>English</td>\n",
       "      <td>English</td>\n",
       "      <td>English</td>\n",
       "    </tr>\n",
       "    <tr>\n",
       "      <th>country</th>\n",
       "      <td>USA</td>\n",
       "      <td>USA</td>\n",
       "      <td>UK</td>\n",
       "      <td>USA</td>\n",
       "      <td>NaN</td>\n",
       "      <td>USA</td>\n",
       "      <td>USA</td>\n",
       "      <td>USA</td>\n",
       "      <td>USA</td>\n",
       "      <td>UK</td>\n",
       "    </tr>\n",
       "    <tr>\n",
       "      <th>content_rating</th>\n",
       "      <td>PG-13</td>\n",
       "      <td>PG-13</td>\n",
       "      <td>PG-13</td>\n",
       "      <td>PG-13</td>\n",
       "      <td>NaN</td>\n",
       "      <td>PG-13</td>\n",
       "      <td>PG-13</td>\n",
       "      <td>PG</td>\n",
       "      <td>PG-13</td>\n",
       "      <td>PG</td>\n",
       "    </tr>\n",
       "    <tr>\n",
       "      <th>budget</th>\n",
       "      <td>2.37e+08</td>\n",
       "      <td>3e+08</td>\n",
       "      <td>2.45e+08</td>\n",
       "      <td>2.5e+08</td>\n",
       "      <td>NaN</td>\n",
       "      <td>2.637e+08</td>\n",
       "      <td>2.58e+08</td>\n",
       "      <td>2.6e+08</td>\n",
       "      <td>2.5e+08</td>\n",
       "      <td>2.5e+08</td>\n",
       "    </tr>\n",
       "    <tr>\n",
       "      <th>title_year</th>\n",
       "      <td>2009</td>\n",
       "      <td>2007</td>\n",
       "      <td>2015</td>\n",
       "      <td>2012</td>\n",
       "      <td>NaN</td>\n",
       "      <td>2012</td>\n",
       "      <td>2007</td>\n",
       "      <td>2010</td>\n",
       "      <td>2015</td>\n",
       "      <td>2009</td>\n",
       "    </tr>\n",
       "    <tr>\n",
       "      <th>actor_2_facebook_likes</th>\n",
       "      <td>936</td>\n",
       "      <td>5000</td>\n",
       "      <td>393</td>\n",
       "      <td>23000</td>\n",
       "      <td>12</td>\n",
       "      <td>632</td>\n",
       "      <td>11000</td>\n",
       "      <td>553</td>\n",
       "      <td>21000</td>\n",
       "      <td>11000</td>\n",
       "    </tr>\n",
       "    <tr>\n",
       "      <th>imdb_score</th>\n",
       "      <td>7.9</td>\n",
       "      <td>7.1</td>\n",
       "      <td>6.8</td>\n",
       "      <td>8.5</td>\n",
       "      <td>7.1</td>\n",
       "      <td>6.6</td>\n",
       "      <td>6.2</td>\n",
       "      <td>7.8</td>\n",
       "      <td>7.5</td>\n",
       "      <td>7.5</td>\n",
       "    </tr>\n",
       "    <tr>\n",
       "      <th>aspect_ratio</th>\n",
       "      <td>1.78</td>\n",
       "      <td>2.35</td>\n",
       "      <td>2.35</td>\n",
       "      <td>2.35</td>\n",
       "      <td>NaN</td>\n",
       "      <td>2.35</td>\n",
       "      <td>2.35</td>\n",
       "      <td>1.85</td>\n",
       "      <td>2.35</td>\n",
       "      <td>2.35</td>\n",
       "    </tr>\n",
       "    <tr>\n",
       "      <th>movie_facebook_likes</th>\n",
       "      <td>33000</td>\n",
       "      <td>0</td>\n",
       "      <td>85000</td>\n",
       "      <td>164000</td>\n",
       "      <td>0</td>\n",
       "      <td>24000</td>\n",
       "      <td>0</td>\n",
       "      <td>29000</td>\n",
       "      <td>118000</td>\n",
       "      <td>10000</td>\n",
       "    </tr>\n",
       "  </tbody>\n",
       "</table>\n",
       "</div>"
      ],
      "text/plain": [
       "                                                                           0  \\\n",
       "color                                                                  Color   \n",
       "director_name                                                  James Cameron   \n",
       "num_critic_for_reviews                                                   723   \n",
       "duration                                                                 178   \n",
       "director_facebook_likes                                                    0   \n",
       "actor_3_facebook_likes                                                   855   \n",
       "actor_2_name                                                Joel David Moore   \n",
       "actor_1_facebook_likes                                                  1000   \n",
       "gross                                                            7.60506e+08   \n",
       "genres                                       Action|Adventure|Fantasy|Sci-Fi   \n",
       "actor_1_name                                                     CCH Pounder   \n",
       "movie_title                                                          Avatar    \n",
       "num_voted_users                                                       886204   \n",
       "cast_total_facebook_likes                                               4834   \n",
       "actor_3_name                                                       Wes Studi   \n",
       "facenumber_in_poster                                                       0   \n",
       "plot_keywords                         avatar|future|marine|native|paraplegic   \n",
       "movie_imdb_link            http://www.imdb.com/title/tt0499549/?ref_=fn_t...   \n",
       "num_user_for_reviews                                                    3054   \n",
       "language                                                             English   \n",
       "country                                                                  USA   \n",
       "content_rating                                                         PG-13   \n",
       "budget                                                              2.37e+08   \n",
       "title_year                                                              2009   \n",
       "actor_2_facebook_likes                                                   936   \n",
       "imdb_score                                                               7.9   \n",
       "aspect_ratio                                                            1.78   \n",
       "movie_facebook_likes                                                   33000   \n",
       "\n",
       "                                                                           1  \\\n",
       "color                                                                  Color   \n",
       "director_name                                                 Gore Verbinski   \n",
       "num_critic_for_reviews                                                   302   \n",
       "duration                                                                 169   \n",
       "director_facebook_likes                                                  563   \n",
       "actor_3_facebook_likes                                                  1000   \n",
       "actor_2_name                                                   Orlando Bloom   \n",
       "actor_1_facebook_likes                                                 40000   \n",
       "gross                                                            3.09404e+08   \n",
       "genres                                              Action|Adventure|Fantasy   \n",
       "actor_1_name                                                     Johnny Depp   \n",
       "movie_title                        Pirates of the Caribbean: At World's End    \n",
       "num_voted_users                                                       471220   \n",
       "cast_total_facebook_likes                                              48350   \n",
       "actor_3_name                                                  Jack Davenport   \n",
       "facenumber_in_poster                                                       0   \n",
       "plot_keywords              goddess|marriage ceremony|marriage proposal|pi...   \n",
       "movie_imdb_link            http://www.imdb.com/title/tt0449088/?ref_=fn_t...   \n",
       "num_user_for_reviews                                                    1238   \n",
       "language                                                             English   \n",
       "country                                                                  USA   \n",
       "content_rating                                                         PG-13   \n",
       "budget                                                                 3e+08   \n",
       "title_year                                                              2007   \n",
       "actor_2_facebook_likes                                                  5000   \n",
       "imdb_score                                                               7.1   \n",
       "aspect_ratio                                                            2.35   \n",
       "movie_facebook_likes                                                       0   \n",
       "\n",
       "                                                                           2  \\\n",
       "color                                                                  Color   \n",
       "director_name                                                     Sam Mendes   \n",
       "num_critic_for_reviews                                                   602   \n",
       "duration                                                                 148   \n",
       "director_facebook_likes                                                    0   \n",
       "actor_3_facebook_likes                                                   161   \n",
       "actor_2_name                                                    Rory Kinnear   \n",
       "actor_1_facebook_likes                                                 11000   \n",
       "gross                                                            2.00074e+08   \n",
       "genres                                             Action|Adventure|Thriller   \n",
       "actor_1_name                                                 Christoph Waltz   \n",
       "movie_title                                                         Spectre    \n",
       "num_voted_users                                                       275868   \n",
       "cast_total_facebook_likes                                              11700   \n",
       "actor_3_name                                                Stephanie Sigman   \n",
       "facenumber_in_poster                                                       1   \n",
       "plot_keywords                            bomb|espionage|sequel|spy|terrorist   \n",
       "movie_imdb_link            http://www.imdb.com/title/tt2379713/?ref_=fn_t...   \n",
       "num_user_for_reviews                                                     994   \n",
       "language                                                             English   \n",
       "country                                                                   UK   \n",
       "content_rating                                                         PG-13   \n",
       "budget                                                              2.45e+08   \n",
       "title_year                                                              2015   \n",
       "actor_2_facebook_likes                                                   393   \n",
       "imdb_score                                                               6.8   \n",
       "aspect_ratio                                                            2.35   \n",
       "movie_facebook_likes                                                   85000   \n",
       "\n",
       "                                                                           3  \\\n",
       "color                                                                  Color   \n",
       "director_name                                              Christopher Nolan   \n",
       "num_critic_for_reviews                                                   813   \n",
       "duration                                                                 164   \n",
       "director_facebook_likes                                                22000   \n",
       "actor_3_facebook_likes                                                 23000   \n",
       "actor_2_name                                                  Christian Bale   \n",
       "actor_1_facebook_likes                                                 27000   \n",
       "gross                                                            4.48131e+08   \n",
       "genres                                                       Action|Thriller   \n",
       "actor_1_name                                                       Tom Hardy   \n",
       "movie_title                                           The Dark Knight Rises    \n",
       "num_voted_users                                                      1144337   \n",
       "cast_total_facebook_likes                                             106759   \n",
       "actor_3_name                                            Joseph Gordon-Levitt   \n",
       "facenumber_in_poster                                                       0   \n",
       "plot_keywords              deception|imprisonment|lawlessness|police offi...   \n",
       "movie_imdb_link            http://www.imdb.com/title/tt1345836/?ref_=fn_t...   \n",
       "num_user_for_reviews                                                    2701   \n",
       "language                                                             English   \n",
       "country                                                                  USA   \n",
       "content_rating                                                         PG-13   \n",
       "budget                                                               2.5e+08   \n",
       "title_year                                                              2012   \n",
       "actor_2_facebook_likes                                                 23000   \n",
       "imdb_score                                                               8.5   \n",
       "aspect_ratio                                                            2.35   \n",
       "movie_facebook_likes                                                  164000   \n",
       "\n",
       "                                                                           4  \\\n",
       "color                                                                    NaN   \n",
       "director_name                                                    Doug Walker   \n",
       "num_critic_for_reviews                                                   NaN   \n",
       "duration                                                                 NaN   \n",
       "director_facebook_likes                                                  131   \n",
       "actor_3_facebook_likes                                                   NaN   \n",
       "actor_2_name                                                      Rob Walker   \n",
       "actor_1_facebook_likes                                                   131   \n",
       "gross                                                                    NaN   \n",
       "genres                                                           Documentary   \n",
       "actor_1_name                                                     Doug Walker   \n",
       "movie_title                Star Wars: Episode VII - The Force Awakens    ...   \n",
       "num_voted_users                                                            8   \n",
       "cast_total_facebook_likes                                                143   \n",
       "actor_3_name                                                             NaN   \n",
       "facenumber_in_poster                                                       0   \n",
       "plot_keywords                                                            NaN   \n",
       "movie_imdb_link            http://www.imdb.com/title/tt5289954/?ref_=fn_t...   \n",
       "num_user_for_reviews                                                     NaN   \n",
       "language                                                                 NaN   \n",
       "country                                                                  NaN   \n",
       "content_rating                                                           NaN   \n",
       "budget                                                                   NaN   \n",
       "title_year                                                               NaN   \n",
       "actor_2_facebook_likes                                                    12   \n",
       "imdb_score                                                               7.1   \n",
       "aspect_ratio                                                             NaN   \n",
       "movie_facebook_likes                                                       0   \n",
       "\n",
       "                                                                           5  \\\n",
       "color                                                                  Color   \n",
       "director_name                                                 Andrew Stanton   \n",
       "num_critic_for_reviews                                                   462   \n",
       "duration                                                                 132   \n",
       "director_facebook_likes                                                  475   \n",
       "actor_3_facebook_likes                                                   530   \n",
       "actor_2_name                                                 Samantha Morton   \n",
       "actor_1_facebook_likes                                                   640   \n",
       "gross                                                            7.30587e+07   \n",
       "genres                                               Action|Adventure|Sci-Fi   \n",
       "actor_1_name                                                    Daryl Sabara   \n",
       "movie_title                                                     John Carter    \n",
       "num_voted_users                                                       212204   \n",
       "cast_total_facebook_likes                                               1873   \n",
       "actor_3_name                                                    Polly Walker   \n",
       "facenumber_in_poster                                                       1   \n",
       "plot_keywords              alien|american civil war|male nipple|mars|prin...   \n",
       "movie_imdb_link            http://www.imdb.com/title/tt0401729/?ref_=fn_t...   \n",
       "num_user_for_reviews                                                     738   \n",
       "language                                                             English   \n",
       "country                                                                  USA   \n",
       "content_rating                                                         PG-13   \n",
       "budget                                                             2.637e+08   \n",
       "title_year                                                              2012   \n",
       "actor_2_facebook_likes                                                   632   \n",
       "imdb_score                                                               6.6   \n",
       "aspect_ratio                                                            2.35   \n",
       "movie_facebook_likes                                                   24000   \n",
       "\n",
       "                                                                           6  \\\n",
       "color                                                                  Color   \n",
       "director_name                                                      Sam Raimi   \n",
       "num_critic_for_reviews                                                   392   \n",
       "duration                                                                 156   \n",
       "director_facebook_likes                                                    0   \n",
       "actor_3_facebook_likes                                                  4000   \n",
       "actor_2_name                                                    James Franco   \n",
       "actor_1_facebook_likes                                                 24000   \n",
       "gross                                                             3.3653e+08   \n",
       "genres                                              Action|Adventure|Romance   \n",
       "actor_1_name                                                    J.K. Simmons   \n",
       "movie_title                                                    Spider-Man 3    \n",
       "num_voted_users                                                       383056   \n",
       "cast_total_facebook_likes                                              46055   \n",
       "actor_3_name                                                   Kirsten Dunst   \n",
       "facenumber_in_poster                                                       0   \n",
       "plot_keywords                      sandman|spider man|symbiote|venom|villain   \n",
       "movie_imdb_link            http://www.imdb.com/title/tt0413300/?ref_=fn_t...   \n",
       "num_user_for_reviews                                                    1902   \n",
       "language                                                             English   \n",
       "country                                                                  USA   \n",
       "content_rating                                                         PG-13   \n",
       "budget                                                              2.58e+08   \n",
       "title_year                                                              2007   \n",
       "actor_2_facebook_likes                                                 11000   \n",
       "imdb_score                                                               6.2   \n",
       "aspect_ratio                                                            2.35   \n",
       "movie_facebook_likes                                                       0   \n",
       "\n",
       "                                                                           7  \\\n",
       "color                                                                  Color   \n",
       "director_name                                                   Nathan Greno   \n",
       "num_critic_for_reviews                                                   324   \n",
       "duration                                                                 100   \n",
       "director_facebook_likes                                                   15   \n",
       "actor_3_facebook_likes                                                   284   \n",
       "actor_2_name                                                    Donna Murphy   \n",
       "actor_1_facebook_likes                                                   799   \n",
       "gross                                                            2.00807e+08   \n",
       "genres                     Adventure|Animation|Comedy|Family|Fantasy|Musi...   \n",
       "actor_1_name                                                    Brad Garrett   \n",
       "movie_title                                                         Tangled    \n",
       "num_voted_users                                                       294810   \n",
       "cast_total_facebook_likes                                               2036   \n",
       "actor_3_name                                                     M.C. Gainey   \n",
       "facenumber_in_poster                                                       1   \n",
       "plot_keywords              17th century|based on fairy tale|disney|flower...   \n",
       "movie_imdb_link            http://www.imdb.com/title/tt0398286/?ref_=fn_t...   \n",
       "num_user_for_reviews                                                     387   \n",
       "language                                                             English   \n",
       "country                                                                  USA   \n",
       "content_rating                                                            PG   \n",
       "budget                                                               2.6e+08   \n",
       "title_year                                                              2010   \n",
       "actor_2_facebook_likes                                                   553   \n",
       "imdb_score                                                               7.8   \n",
       "aspect_ratio                                                            1.85   \n",
       "movie_facebook_likes                                                   29000   \n",
       "\n",
       "                                                                           8  \\\n",
       "color                                                                  Color   \n",
       "director_name                                                    Joss Whedon   \n",
       "num_critic_for_reviews                                                   635   \n",
       "duration                                                                 141   \n",
       "director_facebook_likes                                                    0   \n",
       "actor_3_facebook_likes                                                 19000   \n",
       "actor_2_name                                               Robert Downey Jr.   \n",
       "actor_1_facebook_likes                                                 26000   \n",
       "gross                                                            4.58992e+08   \n",
       "genres                                               Action|Adventure|Sci-Fi   \n",
       "actor_1_name                                                 Chris Hemsworth   \n",
       "movie_title                                         Avengers: Age of Ultron    \n",
       "num_voted_users                                                       462669   \n",
       "cast_total_facebook_likes                                              92000   \n",
       "actor_3_name                                              Scarlett Johansson   \n",
       "facenumber_in_poster                                                       4   \n",
       "plot_keywords              artificial intelligence|based on comic book|ca...   \n",
       "movie_imdb_link            http://www.imdb.com/title/tt2395427/?ref_=fn_t...   \n",
       "num_user_for_reviews                                                    1117   \n",
       "language                                                             English   \n",
       "country                                                                  USA   \n",
       "content_rating                                                         PG-13   \n",
       "budget                                                               2.5e+08   \n",
       "title_year                                                              2015   \n",
       "actor_2_facebook_likes                                                 21000   \n",
       "imdb_score                                                               7.5   \n",
       "aspect_ratio                                                            2.35   \n",
       "movie_facebook_likes                                                  118000   \n",
       "\n",
       "                                                                           9  \n",
       "color                                                                  Color  \n",
       "director_name                                                    David Yates  \n",
       "num_critic_for_reviews                                                   375  \n",
       "duration                                                                 153  \n",
       "director_facebook_likes                                                  282  \n",
       "actor_3_facebook_likes                                                 10000  \n",
       "actor_2_name                                                Daniel Radcliffe  \n",
       "actor_1_facebook_likes                                                 25000  \n",
       "gross                                                            3.01957e+08  \n",
       "genres                                      Adventure|Family|Fantasy|Mystery  \n",
       "actor_1_name                                                    Alan Rickman  \n",
       "movie_title                          Harry Potter and the Half-Blood Prince   \n",
       "num_voted_users                                                       321795  \n",
       "cast_total_facebook_likes                                              58753  \n",
       "actor_3_name                                                    Rupert Grint  \n",
       "facenumber_in_poster                                                       3  \n",
       "plot_keywords                               blood|book|love|potion|professor  \n",
       "movie_imdb_link            http://www.imdb.com/title/tt0417741/?ref_=fn_t...  \n",
       "num_user_for_reviews                                                     973  \n",
       "language                                                             English  \n",
       "country                                                                   UK  \n",
       "content_rating                                                            PG  \n",
       "budget                                                               2.5e+08  \n",
       "title_year                                                              2009  \n",
       "actor_2_facebook_likes                                                 11000  \n",
       "imdb_score                                                               7.5  \n",
       "aspect_ratio                                                            2.35  \n",
       "movie_facebook_likes                                                   10000  "
      ]
     },
     "execution_count": 4,
     "metadata": {},
     "output_type": "execute_result"
    }
   ],
   "source": [
    "pd.options.display.max_columns=999\n",
    "data_films_raw.head(10).T"
   ]
  },
  {
   "cell_type": "markdown",
   "metadata": {},
   "source": [
    "<span style=\"color:#3366ff\"> <strong>Remarque: </strong>    \n",
    "<span style=\"color:#3366ff\">Il y a un ecart entre l'ordre d'importance du casting décrit par IMDB et la dénomination de ce même casting selon facebook:\n",
    "    \n",
    "<span style=\"color:#3366ff\">- Dans le film 'Spectre' (James Bond), l'acteur principal selon facebook n'est pas Daniel CRAIG mais Christoph WALTZ;       \n",
    "<span style=\"color:#3366ff\">- Dans le film 'The Dark Knight Rises', l'acteur principal selon facebook n'est pas Christian BALE mais Tom HARDY;    \n",
    "<span style=\"color:#3366ff\">- Dans le film 'John Carter', l'acteur principal selon facebook n'est pas Taylor KITSCH, mais Daryl SABARA."
   ]
  },
  {
   "cell_type": "code",
   "execution_count": 5,
   "metadata": {},
   "outputs": [
    {
     "data": {
      "text/html": [
       "<div>\n",
       "<style scoped>\n",
       "    .dataframe tbody tr th:only-of-type {\n",
       "        vertical-align: middle;\n",
       "    }\n",
       "\n",
       "    .dataframe tbody tr th {\n",
       "        vertical-align: top;\n",
       "    }\n",
       "\n",
       "    .dataframe thead th {\n",
       "        text-align: right;\n",
       "    }\n",
       "</style>\n",
       "<table border=\"1\" class=\"dataframe\">\n",
       "  <thead>\n",
       "    <tr style=\"text-align: right;\">\n",
       "      <th></th>\n",
       "      <th>num_critic_for_reviews</th>\n",
       "      <th>duration</th>\n",
       "      <th>director_facebook_likes</th>\n",
       "      <th>actor_3_facebook_likes</th>\n",
       "      <th>actor_1_facebook_likes</th>\n",
       "      <th>gross</th>\n",
       "      <th>num_voted_users</th>\n",
       "      <th>cast_total_facebook_likes</th>\n",
       "      <th>facenumber_in_poster</th>\n",
       "      <th>num_user_for_reviews</th>\n",
       "      <th>budget</th>\n",
       "      <th>title_year</th>\n",
       "      <th>actor_2_facebook_likes</th>\n",
       "      <th>imdb_score</th>\n",
       "      <th>aspect_ratio</th>\n",
       "      <th>movie_facebook_likes</th>\n",
       "    </tr>\n",
       "  </thead>\n",
       "  <tbody>\n",
       "    <tr>\n",
       "      <th>count</th>\n",
       "      <td>4993.000000</td>\n",
       "      <td>5028.000000</td>\n",
       "      <td>4939.000000</td>\n",
       "      <td>5020.000000</td>\n",
       "      <td>5036.000000</td>\n",
       "      <td>4.159000e+03</td>\n",
       "      <td>5.043000e+03</td>\n",
       "      <td>5043.000000</td>\n",
       "      <td>5030.000000</td>\n",
       "      <td>5022.000000</td>\n",
       "      <td>4.551000e+03</td>\n",
       "      <td>4935.000000</td>\n",
       "      <td>5030.000000</td>\n",
       "      <td>5043.000000</td>\n",
       "      <td>4714.000000</td>\n",
       "      <td>5043.000000</td>\n",
       "    </tr>\n",
       "    <tr>\n",
       "      <th>mean</th>\n",
       "      <td>140.194272</td>\n",
       "      <td>107.201074</td>\n",
       "      <td>686.509212</td>\n",
       "      <td>645.009761</td>\n",
       "      <td>6560.047061</td>\n",
       "      <td>4.846841e+07</td>\n",
       "      <td>8.366816e+04</td>\n",
       "      <td>9699.063851</td>\n",
       "      <td>1.371173</td>\n",
       "      <td>272.770808</td>\n",
       "      <td>3.975262e+07</td>\n",
       "      <td>2002.470517</td>\n",
       "      <td>1651.754473</td>\n",
       "      <td>6.442138</td>\n",
       "      <td>2.220403</td>\n",
       "      <td>7525.964505</td>\n",
       "    </tr>\n",
       "    <tr>\n",
       "      <th>std</th>\n",
       "      <td>121.601675</td>\n",
       "      <td>25.197441</td>\n",
       "      <td>2813.328607</td>\n",
       "      <td>1665.041728</td>\n",
       "      <td>15020.759120</td>\n",
       "      <td>6.845299e+07</td>\n",
       "      <td>1.384853e+05</td>\n",
       "      <td>18163.799124</td>\n",
       "      <td>2.013576</td>\n",
       "      <td>377.982886</td>\n",
       "      <td>2.061149e+08</td>\n",
       "      <td>12.474599</td>\n",
       "      <td>4042.438863</td>\n",
       "      <td>1.125116</td>\n",
       "      <td>1.385113</td>\n",
       "      <td>19320.445110</td>\n",
       "    </tr>\n",
       "    <tr>\n",
       "      <th>min</th>\n",
       "      <td>1.000000</td>\n",
       "      <td>7.000000</td>\n",
       "      <td>0.000000</td>\n",
       "      <td>0.000000</td>\n",
       "      <td>0.000000</td>\n",
       "      <td>1.620000e+02</td>\n",
       "      <td>5.000000e+00</td>\n",
       "      <td>0.000000</td>\n",
       "      <td>0.000000</td>\n",
       "      <td>1.000000</td>\n",
       "      <td>2.180000e+02</td>\n",
       "      <td>1916.000000</td>\n",
       "      <td>0.000000</td>\n",
       "      <td>1.600000</td>\n",
       "      <td>1.180000</td>\n",
       "      <td>0.000000</td>\n",
       "    </tr>\n",
       "    <tr>\n",
       "      <th>25%</th>\n",
       "      <td>50.000000</td>\n",
       "      <td>93.000000</td>\n",
       "      <td>7.000000</td>\n",
       "      <td>133.000000</td>\n",
       "      <td>614.000000</td>\n",
       "      <td>5.340988e+06</td>\n",
       "      <td>8.593500e+03</td>\n",
       "      <td>1411.000000</td>\n",
       "      <td>0.000000</td>\n",
       "      <td>65.000000</td>\n",
       "      <td>6.000000e+06</td>\n",
       "      <td>1999.000000</td>\n",
       "      <td>281.000000</td>\n",
       "      <td>5.800000</td>\n",
       "      <td>1.850000</td>\n",
       "      <td>0.000000</td>\n",
       "    </tr>\n",
       "    <tr>\n",
       "      <th>50%</th>\n",
       "      <td>110.000000</td>\n",
       "      <td>103.000000</td>\n",
       "      <td>49.000000</td>\n",
       "      <td>371.500000</td>\n",
       "      <td>988.000000</td>\n",
       "      <td>2.551750e+07</td>\n",
       "      <td>3.435900e+04</td>\n",
       "      <td>3090.000000</td>\n",
       "      <td>1.000000</td>\n",
       "      <td>156.000000</td>\n",
       "      <td>2.000000e+07</td>\n",
       "      <td>2005.000000</td>\n",
       "      <td>595.000000</td>\n",
       "      <td>6.600000</td>\n",
       "      <td>2.350000</td>\n",
       "      <td>166.000000</td>\n",
       "    </tr>\n",
       "    <tr>\n",
       "      <th>75%</th>\n",
       "      <td>195.000000</td>\n",
       "      <td>118.000000</td>\n",
       "      <td>194.500000</td>\n",
       "      <td>636.000000</td>\n",
       "      <td>11000.000000</td>\n",
       "      <td>6.230944e+07</td>\n",
       "      <td>9.630900e+04</td>\n",
       "      <td>13756.500000</td>\n",
       "      <td>2.000000</td>\n",
       "      <td>326.000000</td>\n",
       "      <td>4.500000e+07</td>\n",
       "      <td>2011.000000</td>\n",
       "      <td>918.000000</td>\n",
       "      <td>7.200000</td>\n",
       "      <td>2.350000</td>\n",
       "      <td>3000.000000</td>\n",
       "    </tr>\n",
       "    <tr>\n",
       "      <th>max</th>\n",
       "      <td>813.000000</td>\n",
       "      <td>511.000000</td>\n",
       "      <td>23000.000000</td>\n",
       "      <td>23000.000000</td>\n",
       "      <td>640000.000000</td>\n",
       "      <td>7.605058e+08</td>\n",
       "      <td>1.689764e+06</td>\n",
       "      <td>656730.000000</td>\n",
       "      <td>43.000000</td>\n",
       "      <td>5060.000000</td>\n",
       "      <td>1.221550e+10</td>\n",
       "      <td>2016.000000</td>\n",
       "      <td>137000.000000</td>\n",
       "      <td>9.500000</td>\n",
       "      <td>16.000000</td>\n",
       "      <td>349000.000000</td>\n",
       "    </tr>\n",
       "  </tbody>\n",
       "</table>\n",
       "</div>"
      ],
      "text/plain": [
       "       num_critic_for_reviews     duration  director_facebook_likes  \\\n",
       "count             4993.000000  5028.000000              4939.000000   \n",
       "mean               140.194272   107.201074               686.509212   \n",
       "std                121.601675    25.197441              2813.328607   \n",
       "min                  1.000000     7.000000                 0.000000   \n",
       "25%                 50.000000    93.000000                 7.000000   \n",
       "50%                110.000000   103.000000                49.000000   \n",
       "75%                195.000000   118.000000               194.500000   \n",
       "max                813.000000   511.000000             23000.000000   \n",
       "\n",
       "       actor_3_facebook_likes  actor_1_facebook_likes         gross  \\\n",
       "count             5020.000000             5036.000000  4.159000e+03   \n",
       "mean               645.009761             6560.047061  4.846841e+07   \n",
       "std               1665.041728            15020.759120  6.845299e+07   \n",
       "min                  0.000000                0.000000  1.620000e+02   \n",
       "25%                133.000000              614.000000  5.340988e+06   \n",
       "50%                371.500000              988.000000  2.551750e+07   \n",
       "75%                636.000000            11000.000000  6.230944e+07   \n",
       "max              23000.000000           640000.000000  7.605058e+08   \n",
       "\n",
       "       num_voted_users  cast_total_facebook_likes  facenumber_in_poster  \\\n",
       "count     5.043000e+03                5043.000000           5030.000000   \n",
       "mean      8.366816e+04                9699.063851              1.371173   \n",
       "std       1.384853e+05               18163.799124              2.013576   \n",
       "min       5.000000e+00                   0.000000              0.000000   \n",
       "25%       8.593500e+03                1411.000000              0.000000   \n",
       "50%       3.435900e+04                3090.000000              1.000000   \n",
       "75%       9.630900e+04               13756.500000              2.000000   \n",
       "max       1.689764e+06              656730.000000             43.000000   \n",
       "\n",
       "       num_user_for_reviews        budget   title_year  \\\n",
       "count           5022.000000  4.551000e+03  4935.000000   \n",
       "mean             272.770808  3.975262e+07  2002.470517   \n",
       "std              377.982886  2.061149e+08    12.474599   \n",
       "min                1.000000  2.180000e+02  1916.000000   \n",
       "25%               65.000000  6.000000e+06  1999.000000   \n",
       "50%              156.000000  2.000000e+07  2005.000000   \n",
       "75%              326.000000  4.500000e+07  2011.000000   \n",
       "max             5060.000000  1.221550e+10  2016.000000   \n",
       "\n",
       "       actor_2_facebook_likes   imdb_score  aspect_ratio  movie_facebook_likes  \n",
       "count             5030.000000  5043.000000   4714.000000           5043.000000  \n",
       "mean              1651.754473     6.442138      2.220403           7525.964505  \n",
       "std               4042.438863     1.125116      1.385113          19320.445110  \n",
       "min                  0.000000     1.600000      1.180000              0.000000  \n",
       "25%                281.000000     5.800000      1.850000              0.000000  \n",
       "50%                595.000000     6.600000      2.350000            166.000000  \n",
       "75%                918.000000     7.200000      2.350000           3000.000000  \n",
       "max             137000.000000     9.500000     16.000000         349000.000000  "
      ]
     },
     "execution_count": 5,
     "metadata": {},
     "output_type": "execute_result"
    }
   ],
   "source": [
    "data_films_raw.describe()"
   ]
  },
  {
   "cell_type": "markdown",
   "metadata": {},
   "source": [
    "<span style=\"color:#3366ff\"> <strong>Remarque: </strong> Les valeurs numériques sont assez variées:    \n",
    "<span style=\"color:#3366ff\">- il y a des valeurs faibles, ex: \"num_critic_for_reviews\" mini = 1;    \n",
    "<span style=\"color:#3366ff\">- il y a des valeurs trés élevées, ex: \"gross\" max = 7.605058e+08"
   ]
  },
  {
   "cell_type": "code",
   "execution_count": 6,
   "metadata": {},
   "outputs": [
    {
     "data": {
      "image/png": "[encoded data removed]",
      "text/plain": [
       "<Figure size 936x504 with 1 Axes>"
      ]
     },
     "metadata": {},
     "output_type": "display_data"
    }
   ],
   "source": [
    "freq_null_raw= data_films_raw.isnull().mean().sort_values()\n",
    "\n",
    "plt.figure(figsize=(13,7))\n",
    "\n",
    "ax = plt.subplot()\n",
    "ax.set_title(\"Fréquence des valeurs nulles sur l'ensemble de la base\")\n",
    "plt.ylabel(\"Frequence des NaN\")\n",
    "plt.xlabel(\"Ensembles des Labels de la base\")\n",
    "plt.xticks([]) \n",
    "\n",
    "plt.plot(freq_null_raw)\n",
    "\n",
    "plt.show()"
   ]
  },
  {
   "cell_type": "markdown",
   "metadata": {},
   "source": [
    "<span style=\"color:#3366ff\"> La base est pleine (les labels qui tendent vers zéros sont complétés)."
   ]
  },
  {
   "cell_type": "markdown",
   "metadata": {},
   "source": [
    "## Sélection du des variables Dataframe "
   ]
  },
  {
   "cell_type": "markdown",
   "metadata": {},
   "source": [
    "### ... en fonction des données utiles pour le moteur et pour un affichage plus léger"
   ]
  },
  {
   "cell_type": "markdown",
   "metadata": {},
   "source": [
    "<span style=\"color:#3366ff\"> <strong>Les 28 paramètres de description de ces films sont: </strong>\n",
    "    \n",
    "<span style=\"color:#3366ff\">- color  \n",
    "<span style=\"color:#3366ff\">- director_name  \n",
    "<span style=\"color:#3366ff\">- num_critic_for_reviews      \n",
    "<span style=\"color:#3366ff\">- duration  \n",
    "<span style=\"color:#3366ff\">- director_facebook_likes  \n",
    "<span style=\"color:#3366ff\">- actor_3_facebook_likes  \n",
    "<span style=\"color:#3366ff\">- actor_2_name  \n",
    "<span style=\"color:#3366ff\">- actor_1_facebook_likes  \n",
    "<span style=\"color:#3366ff\">- gross  \n",
    "<span style=\"color:#3366ff\">- genres  \n",
    "<span style=\"color:#3366ff\">- actor_1_name   \n",
    "<span style=\"color:#3366ff\">- movie_title  \n",
    "<span style=\"color:#3366ff\">- num_voted_users  \n",
    "<span style=\"color:#3366ff\">- cast_total_facebook_likes  \n",
    "<span style=\"color:#3366ff\">- actor_3_name  \n",
    "<span style=\"color:#3366ff\">- facenumber_in_poster  \n",
    "<span style=\"color:#3366ff\">- plot_keywords  \n",
    "<span style=\"color:#3366ff\">- movie_imdb_link  \n",
    "<span style=\"color:#3366ff\">- num_user_for_reviews  \n",
    "<span style=\"color:#3366ff\">- language  \n",
    "<span style=\"color:#3366ff\">- country  \n",
    "<span style=\"color:#3366ff\">- content_rating  \n",
    "<span style=\"color:#3366ff\">- budget  \n",
    "<span style=\"color:#3366ff\">- title_year  \n",
    "<span style=\"color:#3366ff\">- actor_2_facebook_likes  \n",
    "<span style=\"color:#3366ff\">- imdb_score  \n",
    "<span style=\"color:#3366ff\">- aspect_ratio  \n",
    "<span style=\"color:#3366ff\">- movie_facebook_likes  \n",
    "\n",
    "\n",
    "<span style=\"color:#3366ff\"> <strong>Remarque: </strong>   \n",
    "    <span style=\"color:#3366ff\"> Il y a aussi bien des valeurs <strong>numériques</strong> que des valeurs <strong>alpha-numériques</strong> qui ne pourront pas être traitées de la même manière. </span >   \n",
    "\n",
    "\n",
    "<span style=\"color:#3366ff\"><strong>Remarque: </strong>    \n",
    "<span style=\"color:#3366ff\">Certaines sont au premier abord inutiles et ne seront pas gardées:    \n",
    "<span style=\"color:#3366ff\">- budget (non pertinent, pb de devise, pas représentatif du succès, inflation, ...)     \n",
    "<span style=\"color:#3366ff\">- gross (trop grosses valeurs, non pertinent, pb de devise, pas représentatif du succès, ...)       \n",
    "<span style=\"color:#3366ff\">- aspect_ratio      \n",
    "<span style=\"color:#3366ff\">- color      \n",
    "<span style=\"color:#3366ff\">- duration      \n",
    "<span style=\"color:#3366ff\">- title_year      \n",
    "<span style=\"color:#3366ff\">- facenumber_in_poster"
   ]
  },
  {
   "cell_type": "code",
   "execution_count": 7,
   "metadata": {},
   "outputs": [],
   "source": [
    "# On enlève les colonnes avec des valeurs Nan\n",
    "\n",
    "data_films_clean = data_films_raw\n",
    "\n",
    "#data_films_clean = data_films_clean.dropna(axis = 0 , subset=['color']) \n",
    "data_films_clean = data_films_clean.dropna(axis = 0 , subset=['director_name']) \n",
    "data_films_clean = data_films_clean.dropna(axis = 0 , subset=['num_critic_for_reviews']) \n",
    "#data_films_clean = data_films_clean.dropna(axis = 0 , subset=['duration']) \n",
    "data_films_clean = data_films_clean.dropna(axis = 0 , subset=['director_facebook_likes']) \n",
    "#data_films_clean = data_films_clean.dropna(axis = 0 , subset=['actor_3_facebook_likes']) \n",
    "#data_films_clean = data_films_clean.dropna(axis = 0 , subset=['actor_2_name']) \n",
    "#data_films_clean = data_films_clean.dropna(axis = 0 , subset=['actor_1_facebook_likes']) \n",
    "data_films_clean = data_films_clean.dropna(axis = 0 , subset=['genres']) \n",
    "#data_films_clean = data_films_clean.dropna(axis = 0 , subset=['actor_1_name']) \n",
    "data_films_clean = data_films_clean.dropna(axis = 0 , subset=['movie_title']) \n",
    "data_films_clean = data_films_clean.dropna(axis = 0 , subset=['num_voted_users']) \n",
    "data_films_clean = data_films_clean.dropna(axis = 0 , subset=['cast_total_facebook_likes']) \n",
    "#data_films_clean = data_films_clean.dropna(axis = 0 , subset=['actor_3_name']) \n",
    "#data_films_clean = data_films_clean.dropna(axis = 0 , subset=['facenumber_in_poster']) \n",
    "data_films_clean = data_films_clean.dropna(axis = 0 , subset=['plot_keywords']) \n",
    "data_films_clean = data_films_clean.dropna(axis = 0 , subset=['movie_imdb_link'])  # contient l'ID du film\n",
    "data_films_clean = data_films_clean.dropna(axis = 0 , subset=['num_user_for_reviews']) \n",
    "data_films_clean = data_films_clean.dropna(axis = 0 , subset=['language']) \n",
    "data_films_clean = data_films_clean.dropna(axis = 0 , subset=['country']) \n",
    "data_films_clean = data_films_clean.dropna(axis = 0 , subset=['content_rating']) \n",
    "#data_films_clean = data_films_clean.dropna(axis = 0 , subset=['budget']) \n",
    "#data_films_clean = data_films_clean.dropna(axis = 0 , subset=['title_year']) \n",
    "#data_films_clean = data_films_clean.dropna(axis = 0 , subset=['actor_2_facebook_likes']) \n",
    "data_films_clean = data_films_clean.dropna(axis = 0 , subset=['imdb_score']) \n",
    "#data_films_clean = data_films_clean.dropna(axis = 0 , subset=['aspect_ratio']) \n",
    "data_films_clean = data_films_clean.dropna(axis = 0 , subset=['movie_facebook_likes']) "
   ]
  },
  {
   "cell_type": "markdown",
   "metadata": {},
   "source": [
    "## Création de la base de données \"numériques\""
   ]
  },
  {
   "cell_type": "markdown",
   "metadata": {},
   "source": [
    "<span style=\"color:#3366ff\"> Dans cette phase, seules les valeurs numériques sont conservées.   \n",
    "    \n",
    "<span style=\"color:#3366ff\"> Exeption: les \"likes facebook\" des acteurs 1 2 3 ne seront pas comptabilisés, car il y a un ecart entre l'ordre d'importance du casting décrit par IMDB et la denomination de ce même casting selon facebook. "
   ]
  },
  {
   "cell_type": "code",
   "execution_count": 9,
   "metadata": {},
   "outputs": [],
   "source": [
    "data_films_clean_num = data_films_clean_num.set_index('movie_title')"
   ]
  },
  {
   "cell_type": "code",
   "execution_count": 10,
   "metadata": {},
   "outputs": [
    {
     "data": {
      "text/html": [
       "<div>\n",
       "<style scoped>\n",
       "    .dataframe tbody tr th:only-of-type {\n",
       "        vertical-align: middle;\n",
       "    }\n",
       "\n",
       "    .dataframe tbody tr th {\n",
       "        vertical-align: top;\n",
       "    }\n",
       "\n",
       "    .dataframe thead th {\n",
       "        text-align: right;\n",
       "    }\n",
       "</style>\n",
       "<table border=\"1\" class=\"dataframe\">\n",
       "  <thead>\n",
       "    <tr style=\"text-align: right;\">\n",
       "      <th></th>\n",
       "      <th>director_facebook_likes</th>\n",
       "      <th>cast_total_facebook_likes</th>\n",
       "      <th>num_critic_for_reviews</th>\n",
       "      <th>num_voted_users</th>\n",
       "      <th>num_user_for_reviews</th>\n",
       "      <th>imdb_score</th>\n",
       "      <th>movie_facebook_likes</th>\n",
       "    </tr>\n",
       "    <tr>\n",
       "      <th>movie_title</th>\n",
       "      <th></th>\n",
       "      <th></th>\n",
       "      <th></th>\n",
       "      <th></th>\n",
       "      <th></th>\n",
       "      <th></th>\n",
       "      <th></th>\n",
       "    </tr>\n",
       "  </thead>\n",
       "  <tbody>\n",
       "    <tr>\n",
       "      <th>Avatar</th>\n",
       "      <td>0.0</td>\n",
       "      <td>4834</td>\n",
       "      <td>723.0</td>\n",
       "      <td>886204</td>\n",
       "      <td>3054.0</td>\n",
       "      <td>7.9</td>\n",
       "      <td>33000</td>\n",
       "    </tr>\n",
       "    <tr>\n",
       "      <th>Pirates of the Caribbean: At World's End</th>\n",
       "      <td>563.0</td>\n",
       "      <td>48350</td>\n",
       "      <td>302.0</td>\n",
       "      <td>471220</td>\n",
       "      <td>1238.0</td>\n",
       "      <td>7.1</td>\n",
       "      <td>0</td>\n",
       "    </tr>\n",
       "    <tr>\n",
       "      <th>Spectre</th>\n",
       "      <td>0.0</td>\n",
       "      <td>11700</td>\n",
       "      <td>602.0</td>\n",
       "      <td>275868</td>\n",
       "      <td>994.0</td>\n",
       "      <td>6.8</td>\n",
       "      <td>85000</td>\n",
       "    </tr>\n",
       "    <tr>\n",
       "      <th>The Dark Knight Rises</th>\n",
       "      <td>22000.0</td>\n",
       "      <td>106759</td>\n",
       "      <td>813.0</td>\n",
       "      <td>1144337</td>\n",
       "      <td>2701.0</td>\n",
       "      <td>8.5</td>\n",
       "      <td>164000</td>\n",
       "    </tr>\n",
       "    <tr>\n",
       "      <th>John Carter</th>\n",
       "      <td>475.0</td>\n",
       "      <td>1873</td>\n",
       "      <td>462.0</td>\n",
       "      <td>212204</td>\n",
       "      <td>738.0</td>\n",
       "      <td>6.6</td>\n",
       "      <td>24000</td>\n",
       "    </tr>\n",
       "  </tbody>\n",
       "</table>\n",
       "</div>"
      ],
      "text/plain": [
       "                                           director_facebook_likes  \\\n",
       "movie_title                                                          \n",
       "Avatar                                                         0.0   \n",
       "Pirates of the Caribbean: At World's End                     563.0   \n",
       "Spectre                                                        0.0   \n",
       "The Dark Knight Rises                                      22000.0   \n",
       "John Carter                                                  475.0   \n",
       "\n",
       "                                           cast_total_facebook_likes  \\\n",
       "movie_title                                                            \n",
       "Avatar                                                          4834   \n",
       "Pirates of the Caribbean: At World's End                       48350   \n",
       "Spectre                                                        11700   \n",
       "The Dark Knight Rises                                         106759   \n",
       "John Carter                                                     1873   \n",
       "\n",
       "                                           num_critic_for_reviews  \\\n",
       "movie_title                                                         \n",
       "Avatar                                                      723.0   \n",
       "Pirates of the Caribbean: At World's End                    302.0   \n",
       "Spectre                                                     602.0   \n",
       "The Dark Knight Rises                                       813.0   \n",
       "John Carter                                                 462.0   \n",
       "\n",
       "                                           num_voted_users  \\\n",
       "movie_title                                                  \n",
       "Avatar                                              886204   \n",
       "Pirates of the Caribbean: At World's End            471220   \n",
       "Spectre                                             275868   \n",
       "The Dark Knight Rises                              1144337   \n",
       "John Carter                                         212204   \n",
       "\n",
       "                                           num_user_for_reviews  imdb_score  \\\n",
       "movie_title                                                                   \n",
       "Avatar                                                   3054.0         7.9   \n",
       "Pirates of the Caribbean: At World's End                 1238.0         7.1   \n",
       "Spectre                                                   994.0         6.8   \n",
       "The Dark Knight Rises                                    2701.0         8.5   \n",
       "John Carter                                               738.0         6.6   \n",
       "\n",
       "                                           movie_facebook_likes  \n",
       "movie_title                                                      \n",
       "Avatar                                                    33000  \n",
       "Pirates of the Caribbean: At World's End                      0  \n",
       "Spectre                                                   85000  \n",
       "The Dark Knight Rises                                    164000  \n",
       "John Carter                                               24000  "
      ]
     },
     "execution_count": 10,
     "metadata": {},
     "output_type": "execute_result"
    }
   ],
   "source": [
    "data_films_clean_num_ = data_films_clean_num.drop(['movie_imdb_link'], axis = 1)\n",
    "data_films_clean_num_.head()"
   ]
  },
  {
   "cell_type": "code",
   "execution_count": 11,
   "metadata": {},
   "outputs": [
    {
     "name": "stdout",
     "output_type": "stream",
     "text": [
      "Cette base de données contient 4585 produits décrits avec 7 variables numériques.\n"
     ]
    }
   ],
   "source": [
    "shape = data_films_clean_num_.shape\n",
    "\n",
    "print(\"Cette base de données contient\",shape[0], \n",
    "      \"produits décrits avec\", shape[1], \"variables numériques.\")"
   ]
  },
  {
   "cell_type": "markdown",
   "metadata": {},
   "source": [
    "## Création de la base de données \"Alphanumériques\""
   ]
  },
  {
   "cell_type": "markdown",
   "metadata": {},
   "source": [
    "<span style=\"color:#3366ff\"> Dans cette phase, seules les valeurs alphanumériques sont conservées (sauf les \"actor_name\" et les variables supprimées au dessus).    "
   ]
  },
  {
   "cell_type": "code",
   "execution_count": 12,
   "metadata": {},
   "outputs": [],
   "source": [
    "data_films_clean_alph = pd.DataFrame(data_films_clean,\n",
    "                                columns = [   \n",
    "'movie_title',      # pour l'identification \n",
    "'movie_imdb_link',  # pour l'identification \n",
    "'language',\n",
    "'country',\n",
    "'genres',\n",
    "'director_name',\n",
    "'plot_keywords',\n",
    "'content_rating'                         \n",
    "                                          ])"
   ]
  },
  {
   "cell_type": "code",
   "execution_count": 13,
   "metadata": {},
   "outputs": [],
   "source": [
    "data_films_clean_alph = data_films_clean_alph.set_index('movie_title')"
   ]
  },
  {
   "cell_type": "code",
   "execution_count": 14,
   "metadata": {},
   "outputs": [
    {
     "data": {
      "text/html": [
       "<div>\n",
       "<style scoped>\n",
       "    .dataframe tbody tr th:only-of-type {\n",
       "        vertical-align: middle;\n",
       "    }\n",
       "\n",
       "    .dataframe tbody tr th {\n",
       "        vertical-align: top;\n",
       "    }\n",
       "\n",
       "    .dataframe thead th {\n",
       "        text-align: right;\n",
       "    }\n",
       "</style>\n",
       "<table border=\"1\" class=\"dataframe\">\n",
       "  <thead>\n",
       "    <tr style=\"text-align: right;\">\n",
       "      <th></th>\n",
       "      <th>language</th>\n",
       "      <th>country</th>\n",
       "      <th>genres</th>\n",
       "      <th>director_name</th>\n",
       "      <th>plot_keywords</th>\n",
       "      <th>content_rating</th>\n",
       "    </tr>\n",
       "    <tr>\n",
       "      <th>movie_title</th>\n",
       "      <th></th>\n",
       "      <th></th>\n",
       "      <th></th>\n",
       "      <th></th>\n",
       "      <th></th>\n",
       "      <th></th>\n",
       "    </tr>\n",
       "  </thead>\n",
       "  <tbody>\n",
       "    <tr>\n",
       "      <th>Avatar</th>\n",
       "      <td>English</td>\n",
       "      <td>USA</td>\n",
       "      <td>Action|Adventure|Fantasy|Sci-Fi</td>\n",
       "      <td>James Cameron</td>\n",
       "      <td>avatar|future|marine|native|paraplegic</td>\n",
       "      <td>PG-13</td>\n",
       "    </tr>\n",
       "    <tr>\n",
       "      <th>Pirates of the Caribbean: At World's End</th>\n",
       "      <td>English</td>\n",
       "      <td>USA</td>\n",
       "      <td>Action|Adventure|Fantasy</td>\n",
       "      <td>Gore Verbinski</td>\n",
       "      <td>goddess|marriage ceremony|marriage proposal|pi...</td>\n",
       "      <td>PG-13</td>\n",
       "    </tr>\n",
       "    <tr>\n",
       "      <th>Spectre</th>\n",
       "      <td>English</td>\n",
       "      <td>UK</td>\n",
       "      <td>Action|Adventure|Thriller</td>\n",
       "      <td>Sam Mendes</td>\n",
       "      <td>bomb|espionage|sequel|spy|terrorist</td>\n",
       "      <td>PG-13</td>\n",
       "    </tr>\n",
       "    <tr>\n",
       "      <th>The Dark Knight Rises</th>\n",
       "      <td>English</td>\n",
       "      <td>USA</td>\n",
       "      <td>Action|Thriller</td>\n",
       "      <td>Christopher Nolan</td>\n",
       "      <td>deception|imprisonment|lawlessness|police offi...</td>\n",
       "      <td>PG-13</td>\n",
       "    </tr>\n",
       "    <tr>\n",
       "      <th>John Carter</th>\n",
       "      <td>English</td>\n",
       "      <td>USA</td>\n",
       "      <td>Action|Adventure|Sci-Fi</td>\n",
       "      <td>Andrew Stanton</td>\n",
       "      <td>alien|american civil war|male nipple|mars|prin...</td>\n",
       "      <td>PG-13</td>\n",
       "    </tr>\n",
       "  </tbody>\n",
       "</table>\n",
       "</div>"
      ],
      "text/plain": [
       "                                          language country  \\\n",
       "movie_title                                                  \n",
       "Avatar                                     English     USA   \n",
       "Pirates of the Caribbean: At World's End   English     USA   \n",
       "Spectre                                    English      UK   \n",
       "The Dark Knight Rises                      English     USA   \n",
       "John Carter                                English     USA   \n",
       "\n",
       "                                                                    genres  \\\n",
       "movie_title                                                                  \n",
       "Avatar                                     Action|Adventure|Fantasy|Sci-Fi   \n",
       "Pirates of the Caribbean: At World's End          Action|Adventure|Fantasy   \n",
       "Spectre                                          Action|Adventure|Thriller   \n",
       "The Dark Knight Rises                                      Action|Thriller   \n",
       "John Carter                                        Action|Adventure|Sci-Fi   \n",
       "\n",
       "                                               director_name  \\\n",
       "movie_title                                                    \n",
       "Avatar                                         James Cameron   \n",
       "Pirates of the Caribbean: At World's End      Gore Verbinski   \n",
       "Spectre                                           Sam Mendes   \n",
       "The Dark Knight Rises                      Christopher Nolan   \n",
       "John Carter                                   Andrew Stanton   \n",
       "\n",
       "                                                                               plot_keywords  \\\n",
       "movie_title                                                                                    \n",
       "Avatar                                                avatar|future|marine|native|paraplegic   \n",
       "Pirates of the Caribbean: At World's End   goddess|marriage ceremony|marriage proposal|pi...   \n",
       "Spectre                                                  bomb|espionage|sequel|spy|terrorist   \n",
       "The Dark Knight Rises                      deception|imprisonment|lawlessness|police offi...   \n",
       "John Carter                                alien|american civil war|male nipple|mars|prin...   \n",
       "\n",
       "                                          content_rating  \n",
       "movie_title                                               \n",
       "Avatar                                             PG-13  \n",
       "Pirates of the Caribbean: At World's End           PG-13  \n",
       "Spectre                                            PG-13  \n",
       "The Dark Knight Rises                              PG-13  \n",
       "John Carter                                        PG-13  "
      ]
     },
     "execution_count": 14,
     "metadata": {},
     "output_type": "execute_result"
    }
   ],
   "source": [
    "data_films_clean_alph_ = data_films_clean_alph.drop(['movie_imdb_link'], axis=1)\n",
    "data_films_clean_alph_.head()"
   ]
  },
  {
   "cell_type": "code",
   "execution_count": null,
   "metadata": {},
   "outputs": [],
   "source": []
  },
  {
   "cell_type": "code",
   "execution_count": 15,
   "metadata": {},
   "outputs": [
    {
     "name": "stdout",
     "output_type": "stream",
     "text": [
      "Cette base de données contient 4585 produits décrits avec 6 variables alphanumériques.\n"
     ]
    }
   ],
   "source": [
    "shape = data_films_clean_alph_.shape\n",
    "\n",
    "print(\"Cette base de données contient\",shape[0], \n",
    "      \"produits décrits avec\", shape[1], \"variables alphanumériques.\")"
   ]
  },
  {
   "cell_type": "markdown",
   "metadata": {},
   "source": [
    "## Description des variables numériques conservées"
   ]
  },
  {
   "cell_type": "code",
   "execution_count": 16,
   "metadata": {},
   "outputs": [
    {
     "data": {
      "text/plain": [
       "count     4585.000000\n",
       "mean       730.804362\n",
       "std       2900.105239\n",
       "min          0.000000\n",
       "25%          9.000000\n",
       "50%         54.000000\n",
       "75%        213.000000\n",
       "max      23000.000000\n",
       "Name: director_facebook_likes, dtype: float64"
      ]
     },
     "execution_count": 16,
     "metadata": {},
     "output_type": "execute_result"
    }
   ],
   "source": [
    "data_films_clean_num['director_facebook_likes'].describe()"
   ]
  },
  {
   "cell_type": "code",
   "execution_count": 17,
   "metadata": {},
   "outputs": [
    {
     "data": {
      "text/plain": [
       "count      4585.000000\n",
       "mean      10314.762268\n",
       "std       18007.560919\n",
       "min           0.000000\n",
       "25%        1593.000000\n",
       "50%        3382.000000\n",
       "75%       14747.000000\n",
       "max      656730.000000\n",
       "Name: cast_total_facebook_likes, dtype: float64"
      ]
     },
     "execution_count": 17,
     "metadata": {},
     "output_type": "execute_result"
    }
   ],
   "source": [
    "data_films_clean_num['cast_total_facebook_likes'].describe()"
   ]
  },
  {
   "cell_type": "code",
   "execution_count": 18,
   "metadata": {},
   "outputs": [
    {
     "data": {
      "text/plain": [
       "count    4585.000000\n",
       "mean      150.725845\n",
       "std       121.206292\n",
       "min         1.000000\n",
       "25%        62.000000\n",
       "50%       121.000000\n",
       "75%       206.000000\n",
       "max       813.000000\n",
       "Name: num_critic_for_reviews, dtype: float64"
      ]
     },
     "execution_count": 18,
     "metadata": {},
     "output_type": "execute_result"
    }
   ],
   "source": [
    "data_films_clean['num_critic_for_reviews'].describe()"
   ]
  },
  {
   "cell_type": "code",
   "execution_count": 19,
   "metadata": {},
   "outputs": [
    {
     "data": {
      "text/plain": [
       "count    4.585000e+03\n",
       "mean     9.111650e+04\n",
       "std      1.428988e+05\n",
       "min      2.800000e+01\n",
       "25%      1.246600e+04\n",
       "50%      4.117000e+04\n",
       "75%      1.060720e+05\n",
       "max      1.689764e+06\n",
       "Name: num_voted_users, dtype: float64"
      ]
     },
     "execution_count": 19,
     "metadata": {},
     "output_type": "execute_result"
    }
   ],
   "source": [
    "data_films_clean['num_voted_users'].describe()"
   ]
  },
  {
   "cell_type": "code",
   "execution_count": 20,
   "metadata": {},
   "outputs": [
    {
     "data": {
      "text/plain": [
       "count    4585.000000\n",
       "mean      295.165758\n",
       "std       387.596607\n",
       "min         1.000000\n",
       "25%        84.000000\n",
       "50%       176.000000\n",
       "75%       350.000000\n",
       "max      5060.000000\n",
       "Name: num_user_for_reviews, dtype: float64"
      ]
     },
     "execution_count": 20,
     "metadata": {},
     "output_type": "execute_result"
    }
   ],
   "source": [
    "data_films_clean['num_user_for_reviews'].describe()"
   ]
  },
  {
   "cell_type": "code",
   "execution_count": 21,
   "metadata": {},
   "outputs": [
    {
     "data": {
      "text/plain": [
       "count    4585.000000\n",
       "mean        6.434111\n",
       "std         1.098218\n",
       "min         1.600000\n",
       "25%         5.800000\n",
       "50%         6.600000\n",
       "75%         7.200000\n",
       "max         9.300000\n",
       "Name: imdb_score, dtype: float64"
      ]
     },
     "execution_count": 21,
     "metadata": {},
     "output_type": "execute_result"
    }
   ],
   "source": [
    "data_films_clean['imdb_score'].describe()"
   ]
  },
  {
   "cell_type": "code",
   "execution_count": 22,
   "metadata": {},
   "outputs": [
    {
     "data": {
      "text/plain": [
       "count      4585.000000\n",
       "mean       8126.523446\n",
       "std       20069.224000\n",
       "min           0.000000\n",
       "25%           0.000000\n",
       "50%         190.000000\n",
       "75%        8000.000000\n",
       "max      349000.000000\n",
       "Name: movie_facebook_likes, dtype: float64"
      ]
     },
     "execution_count": 22,
     "metadata": {},
     "output_type": "execute_result"
    }
   ],
   "source": [
    "data_films_clean['movie_facebook_likes'].describe()"
   ]
  },
  {
   "cell_type": "markdown",
   "metadata": {},
   "source": [
    "<span style=\"color:#3366ff\"> <strong>Remarque:</strong> il peut y avoir de grands écarts entre les variables -> standardisation."
   ]
  },
  {
   "cell_type": "markdown",
   "metadata": {},
   "source": [
    "## Description des variables alphanumériques conservées"
   ]
  },
  {
   "cell_type": "code",
   "execution_count": 23,
   "metadata": {},
   "outputs": [
    {
     "data": {
      "text/html": [
       "<div>\n",
       "<style scoped>\n",
       "    .dataframe tbody tr th:only-of-type {\n",
       "        vertical-align: middle;\n",
       "    }\n",
       "\n",
       "    .dataframe tbody tr th {\n",
       "        vertical-align: top;\n",
       "    }\n",
       "\n",
       "    .dataframe thead th {\n",
       "        text-align: right;\n",
       "    }\n",
       "</style>\n",
       "<table border=\"1\" class=\"dataframe\">\n",
       "  <thead>\n",
       "    <tr style=\"text-align: right;\">\n",
       "      <th></th>\n",
       "      <th>language</th>\n",
       "      <th>country</th>\n",
       "      <th>genres</th>\n",
       "      <th>director_name</th>\n",
       "      <th>plot_keywords</th>\n",
       "      <th>content_rating</th>\n",
       "    </tr>\n",
       "  </thead>\n",
       "  <tbody>\n",
       "    <tr>\n",
       "      <th>count</th>\n",
       "      <td>4585</td>\n",
       "      <td>4585</td>\n",
       "      <td>4585</td>\n",
       "      <td>4585</td>\n",
       "      <td>4585</td>\n",
       "      <td>4585</td>\n",
       "    </tr>\n",
       "    <tr>\n",
       "      <th>unique</th>\n",
       "      <td>37</td>\n",
       "      <td>54</td>\n",
       "      <td>851</td>\n",
       "      <td>2109</td>\n",
       "      <td>4463</td>\n",
       "      <td>15</td>\n",
       "    </tr>\n",
       "    <tr>\n",
       "      <th>top</th>\n",
       "      <td>English</td>\n",
       "      <td>USA</td>\n",
       "      <td>Drama</td>\n",
       "      <td>Steven Spielberg</td>\n",
       "      <td>based on novel</td>\n",
       "      <td>R</td>\n",
       "    </tr>\n",
       "    <tr>\n",
       "      <th>freq</th>\n",
       "      <td>4353</td>\n",
       "      <td>3536</td>\n",
       "      <td>197</td>\n",
       "      <td>26</td>\n",
       "      <td>3</td>\n",
       "      <td>2085</td>\n",
       "    </tr>\n",
       "  </tbody>\n",
       "</table>\n",
       "</div>"
      ],
      "text/plain": [
       "       language country genres     director_name   plot_keywords  \\\n",
       "count      4585    4585   4585              4585            4585   \n",
       "unique       37      54    851              2109            4463   \n",
       "top     English     USA  Drama  Steven Spielberg  based on novel   \n",
       "freq       4353    3536    197                26               3   \n",
       "\n",
       "       content_rating  \n",
       "count            4585  \n",
       "unique             15  \n",
       "top                 R  \n",
       "freq             2085  "
      ]
     },
     "execution_count": 23,
     "metadata": {},
     "output_type": "execute_result"
    }
   ],
   "source": [
    "data_films_clean_alph_.describe()"
   ]
  },
  {
   "cell_type": "markdown",
   "metadata": {},
   "source": [
    "<span style=\"color:#3366ff\"> <strong>Remarque:</strong> La langues Anglaises et les USA sont trés représentés dans cette base de données."
   ]
  },
  {
   "cell_type": "markdown",
   "metadata": {},
   "source": [
    "### Description de 'language'"
   ]
  },
  {
   "cell_type": "code",
   "execution_count": 24,
   "metadata": {},
   "outputs": [
    {
     "name": "stdout",
     "output_type": "stream",
     "text": [
      "Counter({'English': 4353, 'French': 50, 'Spanish': 33, 'Mandarin': 22, 'Hindi': 14, 'German': 14, 'Japanese': 13, 'Cantonese': 8, 'Italian': 8, 'Portuguese': 8, 'Russian': 7, 'Korean': 7, 'Danish': 5, 'Hebrew': 4, 'Norwegian': 4, 'Persian': 4, 'Dutch': 3, 'Thai': 3, 'Aboriginal': 2, 'Dari': 2, 'None': 2, 'Swedish': 2, 'Zulu': 2, 'Indonesian': 2, 'Filipino': 1, 'Maya': 1, 'Kazakh': 1, 'Aramaic': 1, 'Mongolian': 1, 'Bosnian': 1, 'Hungarian': 1, 'Czech': 1, 'Polish': 1, 'Arabic': 1, 'Vietnamese': 1, 'Romanian': 1, 'Greek': 1})\n"
     ]
    }
   ],
   "source": [
    "print (Counter(data_films_clean_alph['language']))"
   ]
  },
  {
   "cell_type": "code",
   "execution_count": 25,
   "metadata": {},
   "outputs": [
    {
     "data": {
      "image/png": "[encoded data removed]",
      "text/plain": [
       "<Figure size 1296x432 with 1 Axes>"
      ]
     },
     "metadata": {},
     "output_type": "display_data"
    }
   ],
   "source": [
    "plt.figure(figsize=(18,6))\n",
    "ax = plt.subplot()\n",
    "ax.set_title('Représentation des langues dans la base')\n",
    "plt.xlabel('Langues') \n",
    "plt.ylabel(\"Nombre\") \n",
    "plt.xticks(rotation='vertical')   \n",
    "\n",
    "freq_string = Counter(data_films_clean_alph['language'])\n",
    "freq_string = pd.DataFrame.from_dict(freq_string, orient='index').reset_index()\n",
    "freq_string = freq_string.sort_values(by=[0], ascending=False)\n",
    "\n",
    "plt.bar(freq_string['index'],freq_string[0])\n",
    "plt.show()"
   ]
  },
  {
   "cell_type": "code",
   "execution_count": 26,
   "metadata": {},
   "outputs": [
    {
     "data": {
      "image/png": "[encoded data removed]",
      "text/plain": [
       "<Figure size 1296x432 with 1 Axes>"
      ]
     },
     "metadata": {},
     "output_type": "display_data"
    }
   ],
   "source": [
    "plt.figure(figsize=(18,6))\n",
    "ax = plt.subplot()\n",
    "ax.set_title(\"Représentation des langues dans la base SANS L'ANGLAIS\")\n",
    "plt.xlabel('Langues') \n",
    "plt.ylabel(\"Nombre\") \n",
    "plt.xticks(rotation='vertical')   \n",
    "\n",
    "freq_string = Counter(data_films_clean_alph['language'])\n",
    "freq_string = pd.DataFrame.from_dict(freq_string, orient='index').reset_index()\n",
    "freq_string = freq_string.sort_values(by=[0], ascending=False)\n",
    "\n",
    "freq_string = freq_string.drop([0]) # drop du numéro 1\n",
    "\n",
    "plt.bar(freq_string['index'],freq_string[0])\n",
    "plt.show()"
   ]
  },
  {
   "cell_type": "markdown",
   "metadata": {},
   "source": [
    "<span style=\"color:#3366ff\"> La langue la plus largement représentée est la langue anglaise (plus de 4000 fois).    \n",
    "<span style=\"color:#3366ff\"> La deuxième langue la mieux représentée est le français, une cinquantaine de fois.   \n",
    "<span style=\"color:#3366ff\"> Cette variable n'est donc pas très pertinente.  "
   ]
  },
  {
   "cell_type": "markdown",
   "metadata": {},
   "source": [
    "### Description de 'country'"
   ]
  },
  {
   "cell_type": "code",
   "execution_count": 27,
   "metadata": {},
   "outputs": [
    {
     "data": {
      "image/png": "[encoded data removed]",
      "text/plain": [
       "<Figure size 1296x432 with 1 Axes>"
      ]
     },
     "metadata": {},
     "output_type": "display_data"
    }
   ],
   "source": [
    "plt.figure(figsize=(18,6))\n",
    "ax = plt.subplot()\n",
    "ax.set_title('Représentation des pays dans la base')\n",
    "plt.xlabel('Pays') \n",
    "plt.ylabel(\"Nombre\") \n",
    "plt.xticks(rotation='vertical')   \n",
    "\n",
    "freq_string = Counter(data_films_clean_alph['country'])\n",
    "freq_string = pd.DataFrame.from_dict(freq_string, orient='index').reset_index()\n",
    "freq_string = freq_string.sort_values(by=[0], ascending=False)\n",
    "\n",
    "plt.bar(freq_string['index'],freq_string[0])\n",
    "plt.show()"
   ]
  },
  {
   "cell_type": "code",
   "execution_count": 28,
   "metadata": {},
   "outputs": [
    {
     "data": {
      "image/png": "[encoded data removed]",
      "text/plain": [
       "<Figure size 1296x432 with 1 Axes>"
      ]
     },
     "metadata": {},
     "output_type": "display_data"
    }
   ],
   "source": [
    "plt.figure(figsize=(18,6))\n",
    "ax = plt.subplot()\n",
    "ax.set_title('Représentation des pays dans la base SANS USA')\n",
    "plt.xlabel('Pays') \n",
    "plt.ylabel(\"Nombre\") \n",
    "plt.xticks(rotation='vertical')   \n",
    "\n",
    "freq_string = Counter(data_films_clean_alph['country'])\n",
    "freq_string = pd.DataFrame.from_dict(freq_string, orient='index').reset_index()\n",
    "freq_string = freq_string.sort_values(by=[0], ascending=False)\n",
    "\n",
    "freq_string = freq_string.drop([0]) # drop du numéro 1\n",
    "\n",
    "plt.bar(freq_string['index'],freq_string[0])\n",
    "plt.show()"
   ]
  },
  {
   "cell_type": "markdown",
   "metadata": {},
   "source": [
    "<span style=\"color:#3366ff\"> Les USA sont les plus représentés dans cette base (plus de 3500 fois).   \n",
    "<span style=\"color:#3366ff\"> La Grande-Bretagne arrive en second (400 fois).   \n",
    "<span style=\"color:#3366ff\"> La France arrive en second (+ d'une centaine de fois).       \n",
    "<span style=\"color:#3366ff\"> Cette variable n'est donc pas très pertinente.  "
   ]
  },
  {
   "cell_type": "markdown",
   "metadata": {},
   "source": [
    "### Description de 'genres'\t"
   ]
  },
  {
   "cell_type": "code",
   "execution_count": 29,
   "metadata": {},
   "outputs": [
    {
     "data": {
      "text/plain": [
       "'Action|Adventure|Fantasy|Sci-Fi'"
      ]
     },
     "execution_count": 29,
     "metadata": {},
     "output_type": "execute_result"
    }
   ],
   "source": [
    "data_films_clean_alph['genres'][0]"
   ]
  },
  {
   "cell_type": "markdown",
   "metadata": {},
   "source": [
    "<span style=\"color:#3366ff\"> Les variables 'genres' sont concaténées et seront exploitées dans le notebook #3 (analyse des variables alphanumériques)."
   ]
  },
  {
   "cell_type": "markdown",
   "metadata": {},
   "source": [
    "### Description de 'director_name'"
   ]
  },
  {
   "cell_type": "code",
   "execution_count": 30,
   "metadata": {},
   "outputs": [
    {
     "data": {
      "text/plain": [
       "count                 4585\n",
       "unique                2109\n",
       "top       Steven Spielberg\n",
       "freq                    26\n",
       "Name: director_name, dtype: object"
      ]
     },
     "execution_count": 30,
     "metadata": {},
     "output_type": "execute_result"
    }
   ],
   "source": [
    "data_films_clean_alph['director_name'].describe()"
   ]
  },
  {
   "cell_type": "markdown",
   "metadata": {},
   "source": [
    "<span style=\"color:#3366ff\"> Sur 4585 films, il y a 2109 réalisateurs différents, dont le plus présent est Steven SPIELBERG. Seront exploitées dans le notebook #3 (analyse des variables alphanumériques)."
   ]
  },
  {
   "cell_type": "markdown",
   "metadata": {},
   "source": [
    "### Description de 'plot_keywords'"
   ]
  },
  {
   "cell_type": "code",
   "execution_count": 31,
   "metadata": {},
   "outputs": [
    {
     "data": {
      "text/plain": [
       "'avatar|future|marine|native|paraplegic'"
      ]
     },
     "execution_count": 31,
     "metadata": {},
     "output_type": "execute_result"
    }
   ],
   "source": [
    "data_films_clean_alph['plot_keywords'][0]"
   ]
  },
  {
   "cell_type": "markdown",
   "metadata": {},
   "source": [
    "<span style=\"color:#3366ff\"> Les variables 'plot_keywords' sont concaténés et seront exploités dans le notebook #3 (analyse des variables alphanumériques)"
   ]
  },
  {
   "cell_type": "markdown",
   "metadata": {},
   "source": [
    "### Description de 'content_rating'"
   ]
  },
  {
   "cell_type": "code",
   "execution_count": 32,
   "metadata": {},
   "outputs": [
    {
     "data": {
      "image/png": "[encoded data removed]",
      "text/plain": [
       "<Figure size 1296x432 with 1 Axes>"
      ]
     },
     "metadata": {},
     "output_type": "display_data"
    }
   ],
   "source": [
    "plt.figure(figsize=(18,6))\n",
    "ax = plt.subplot()\n",
    "ax.set_title(\"Fréquence des niveaux d'interdiction\")\n",
    "plt.xlabel('Rating') \n",
    "plt.ylabel(\"Nombre\") \n",
    "plt.xticks(rotation='vertical')   \n",
    "\n",
    "freq_string = Counter(data_films_clean_alph['content_rating'])\n",
    "freq_string = pd.DataFrame.from_dict(freq_string, orient='index').reset_index()\n",
    "freq_string = freq_string.sort_values(by=[0], ascending=False)\n",
    "\n",
    "plt.bar(freq_string['index'],freq_string[0])\n",
    "plt.show()"
   ]
  },
  {
   "cell_type": "markdown",
   "metadata": {},
   "source": [
    "<span style=\"color:#3366ff\"> Le niveau d'interdiction le plus courant est Rated R. Seront exploitées dans le notebook #3 (analyse des variables alphanumériques)."
   ]
  },
  {
   "cell_type": "markdown",
   "metadata": {},
   "source": [
    "# Conclusion"
   ]
  },
  {
   "cell_type": "markdown",
   "metadata": {},
   "source": [
    "<span style=\"color:#3366ff\"> La base de données \"imdb-5000-movie-dataset\" contient aussi bien des valeurs numériques que des valeurs alpha-numériques qui ne pourront pas être traitées de la même manière.  \n",
    "\n",
    "<span style=\"color:#3366ff\"> Il y a un ecart entre l'ordre d'importance du casting décrit par IMDB et la dénomination de ce même casting selon facebook. Les \"actor_name\" et les \"likes facebook\" des acteurs ne seront pas utilisés.\n",
    "\n",
    "<span style=\"color:#3366ff\"> Les variables numériques conservées sont:    \n",
    "<span style=\"color:#3366ff\"> - director_facebook_likes,                              \n",
    "<span style=\"color:#3366ff\"> - cast_total_facebook_likes,                                     \n",
    "<span style=\"color:#3366ff\"> - num_critic_for_reviews,       \n",
    "<span style=\"color:#3366ff\"> - num_voted_users,                                 \n",
    "<span style=\"color:#3366ff\"> - num_user_for_reviews,     \n",
    "<span style=\"color:#3366ff\"> - imdb_score,     \n",
    "<span style=\"color:#3366ff\"> - movie_facebook_likes.      \n",
    "    \n",
    "<span style=\"color:#3366ff\"> Les variables alphanumériques conservées sont:  \n",
    "<span style=\"color:#3366ff\"> - movie_title (=index),    \n",
    "<span style=\"color:#3366ff\"> - movie_imdb_link (pour l'ID),    \n",
    "<span style=\"color:#3366ff\"> - genres,        \n",
    "<span style=\"color:#3366ff\"> - director_names,   \n",
    "<span style=\"color:#3366ff\"> - plot_keywords,    \n",
    "<span style=\"color:#3366ff\"> - content_rating."
   ]
  },
  {
   "cell_type": "markdown",
   "metadata": {},
   "source": [
    "## Sauvegarde des bases cleanées au format CSV"
   ]
  },
  {
   "cell_type": "markdown",
   "metadata": {},
   "source": [
    "### Bases cleanée de données numériques"
   ]
  },
  {
   "cell_type": "code",
   "execution_count": 33,
   "metadata": {},
   "outputs": [
    {
     "name": "stdout",
     "output_type": "stream",
     "text": [
      "La base de données 'data_films_clean_num' contient 4585 films décrits avec 7 paramètres numériques.\n"
     ]
    }
   ],
   "source": [
    "data_films_clean_num.to_csv(path_or_buf='DATA/data_films_clean_num.csv',\n",
    "                 encoding='Latin_1',       \n",
    "                 na_rep='',\n",
    "                 float_format=None,\n",
    "                 columns=None,\n",
    "                 header=True,\n",
    "                 index=True,\n",
    "                 index_label='movie_title',\n",
    "                 )\n",
    "\n",
    "# la nouvelle base mesure:\n",
    "shape = data_films_clean_num_.shape\n",
    "\n",
    "print(\"La base de données 'data_films_clean_num' contient\",shape[0], \n",
    "      \"films décrits avec\", shape[1], \"paramètres numériques.\")"
   ]
  },
  {
   "cell_type": "markdown",
   "metadata": {},
   "source": [
    "### Bases cleanée de données alphanumériques"
   ]
  },
  {
   "cell_type": "code",
   "execution_count": 34,
   "metadata": {},
   "outputs": [
    {
     "name": "stdout",
     "output_type": "stream",
     "text": [
      "La base de données 'data_films_clean_alph' contient 4585 films décrits avec 4 paramètres alphanumériques.\n"
     ]
    }
   ],
   "source": [
    "data_films_clean_alph = pd.DataFrame(data_films_clean,\n",
    "                                columns = [   \n",
    "'movie_title', \n",
    "'movie_imdb_link', # pour l'ID                                \n",
    "'genres',\n",
    "'director_name',\n",
    "'plot_keywords',\n",
    "'content_rating'                                \n",
    "                                ])\n",
    "\n",
    "data_films_clean_alph = data_films_clean_alph.set_index('movie_title')\n",
    "\n",
    "data_films_clean_alph.to_csv(path_or_buf='DATA/data_films_clean_alph.csv',\n",
    "                 encoding='Latin_1',       \n",
    "                 na_rep='',\n",
    "                 float_format=None,\n",
    "                 columns=None,\n",
    "                 header=True,\n",
    "                 index=True,\n",
    "                 index_label='movie_title',\n",
    "                 )\n",
    "\n",
    "# la nouvelle base mesure:\n",
    "shape = data_films_clean_alph.shape\n",
    "\n",
    "print(\"La base de données 'data_films_clean_alph' contient\",shape[0], \n",
    "      \"films décrits avec\", shape[1]-1, \"paramètres alphanumériques.\")"
   ]
  }
 ],
 "metadata": {
  "kernelspec": {
   "display_name": "Python 3",
   "language": "python",
   "name": "python3"
  },
  "language_info": {
   "codemirror_mode": {
    "name": "ipython",
    "version": 3
   },
   "file_extension": ".py",
   "mimetype": "text/x-python",
   "name": "python",
   "nbconvert_exporter": "python",
   "pygments_lexer": "ipython3",
   "version": "3.6.4"
  }
 },
 "nbformat": 4,
 "nbformat_minor": 2
}
