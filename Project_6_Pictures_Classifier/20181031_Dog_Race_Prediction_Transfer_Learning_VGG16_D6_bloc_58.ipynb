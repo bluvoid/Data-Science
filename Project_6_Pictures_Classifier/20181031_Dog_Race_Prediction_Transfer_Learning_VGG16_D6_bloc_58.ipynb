{
 "cells": [
  {
   "cell_type": "markdown",
   "metadata": {
    "colab_type": "text",
    "id": "0KDfd2zI6bU9"
   },
   "source": [
    "# 20181010: Dog Race Prediction with a pre trained VGG16 (TransferLearning)"
   ]
  },
  {
   "cell_type": "markdown",
   "metadata": {
    "colab_type": "text",
    "id": "PPue_VP86dnc"
   },
   "source": [
    "Transfer Learning on a pre trained VGG-16 from ImageNet."
   ]
  },
  {
   "cell_type": "markdown",
   "metadata": {
    "colab_type": "text",
    "id": "8ptAmbYm-ak_"
   },
   "source": [
    "# Import"
   ]
  },
  {
   "cell_type": "code",
   "execution_count": 1,
   "metadata": {
    "colab": {
     "base_uri": "https://localhost:8080/",
     "height": 35
    },
    "colab_type": "code",
    "executionInfo": {
     "elapsed": 1897,
     "status": "ok",
     "timestamp": 1541068216006,
     "user": {
      "displayName": "Arnaud Rousseau",
      "photoUrl": "https://lh3.googleusercontent.com/-Mpjc2MGPrQw/AAAAAAAAAAI/AAAAAAAAAA8/M6BM4QHffvQ/s64/photo.jpg",
      "userId": "05695251486119274053"
     },
     "user_tz": -60
    },
    "id": "arRSgXZi1XDC",
    "outputId": "fb5391d8-5404-4284-af7a-fa40deadf82a"
   },
   "outputs": [
    {
     "name": "stderr",
     "output_type": "stream",
     "text": [
      "Using TensorFlow backend.\n"
     ]
    }
   ],
   "source": [
    "import numpy as np\n",
    "import pandas as pd\n",
    "import matplotlib.pyplot as plt\n",
    "import skimage\n",
    "import os\n",
    "import tarfile\n",
    "import sys\n",
    "\n",
    "import scipy.io as sio\n",
    "\n",
    "from bs4 import BeautifulSoup\n",
    "\n",
    "from PIL import Image\n",
    "from skimage.io import imread, imsave\n",
    "from skimage import transform\n",
    "\n",
    "from six.moves.urllib.request import urlretrieve\n",
    "\n",
    "from keras import models,layers,optimizers\n",
    "from keras.layers import Dense, Flatten, Activation, Dropout\n",
    "from keras.models import Model, Sequential \n",
    "from keras.applications.vgg16 import VGG16, preprocess_input, decode_predictions\n",
    "from keras.preprocessing import image\n",
    "from keras.preprocessing.image import load_img, img_to_array, ImageDataGenerator\n",
    "from keras.callbacks import ModelCheckpoint, LearningRateScheduler, TensorBoard, EarlyStopping\n",
    "\n",
    "import h5py"
   ]
  },
  {
   "cell_type": "code",
   "execution_count": 0,
   "metadata": {
    "colab": {},
    "colab_type": "code",
    "id": "wvEGs8cp6FNv"
   },
   "outputs": [],
   "source": [
    "#FULL RESTART\n",
    "#!kill -9 -1"
   ]
  },
  {
   "cell_type": "markdown",
   "metadata": {
    "colab_type": "text",
    "id": "ABhNCIjt1kwE"
   },
   "source": [
    "# Misc info"
   ]
  },
  {
   "cell_type": "code",
   "execution_count": 0,
   "metadata": {
    "colab": {},
    "colab_type": "code",
    "id": "dIFtMzKi1XDy"
   },
   "outputs": [],
   "source": [
    "url = 'http://vision.stanford.edu/aditya86/ImageNetDogs/'"
   ]
  },
  {
   "cell_type": "markdown",
   "metadata": {
    "colab_type": "text",
    "id": "iiqO6InU1XDa"
   },
   "source": [
    "# Sub-features"
   ]
  },
  {
   "cell_type": "code",
   "execution_count": 0,
   "metadata": {
    "colab": {},
    "colab_type": "code",
    "id": "gUWi-U3V1XDc"
   },
   "outputs": [],
   "source": [
    "#Create folders\n",
    "def folder_create(path):\n",
    "    os.makedirs(os.path.join(path), exist_ok=True)"
   ]
  },
  {
   "cell_type": "code",
   "execution_count": 0,
   "metadata": {
    "colab": {},
    "colab_type": "code",
    "id": "vCuyJVAw1XDk"
   },
   "outputs": [],
   "source": [
    "#Dowload files\n",
    "def downloadfile(filename, targetloc='.', url=url):\n",
    "    dest_filename = os.path.join(targetloc, filename)\n",
    "    filename, _ = urlretrieve(url + filename, dest_filename)\n",
    "    print(dest_filename, 'created')\n",
    "    return filename"
   ]
  },
  {
   "cell_type": "code",
   "execution_count": 0,
   "metadata": {
    "colab": {},
    "colab_type": "code",
    "id": "3Od66x131XDs"
   },
   "outputs": [],
   "source": [
    "#Extract files\n",
    "def extract(filename, target, location = '.'):   \n",
    "    tar = tarfile.open(filename)\n",
    "    sys.stdout.flush()\n",
    "    tar.extractall(target)\n",
    "    tar.close()\n",
    "    print(filename, 'created')"
   ]
  },
  {
   "cell_type": "code",
   "execution_count": 0,
   "metadata": {
    "colab": {},
    "colab_type": "code",
    "id": "IR8Glz6utXFr"
   },
   "outputs": [],
   "source": [
    "######################## ZIP AND UPLOAD FOLDER TO DRIVE ########################\n",
    "\n",
    "!pip install -U -q PyDrive\n",
    "\n",
    "from google.colab import files\n",
    "from pydrive.auth import GoogleAuth\n",
    "from pydrive.drive import GoogleDrive\n",
    "from google.colab import auth\n",
    "from oauth2client.client import GoogleCredentials\n",
    "import zipfile\n",
    "import os\n",
    "import sys\n",
    "\n",
    "def zipfolder(foldername, target_dir):            \n",
    "    zipobj = zipfile.ZipFile(foldername + '.zip', 'w', zipfile.ZIP_DEFLATED)\n",
    "    rootlen = len(target_dir) + 1\n",
    "    for base, dirs, files in os.walk(target_dir):\n",
    "        for file in files:\n",
    "            fn = os.path.join(base, file)\n",
    "            zipobj.write(fn, fn[rootlen:])\n",
    "            \n",
    "            \n",
    "# 1. Authenticate and create the PyDrive client.\n",
    "auth.authenticate_user()\n",
    "gauth = GoogleAuth()\n",
    "gauth.credentials = GoogleCredentials.get_application_default()\n",
    "drive = GoogleDrive(gauth)"
   ]
  },
  {
   "cell_type": "markdown",
   "metadata": {
    "colab_type": "text",
    "id": "vMNXOMpI1XDw"
   },
   "source": [
    "# Dataset preparation"
   ]
  },
  {
   "cell_type": "markdown",
   "metadata": {
    "colab_type": "text",
    "id": "ilc2_bqH1XD6"
   },
   "source": [
    "## Folder creation"
   ]
  },
  {
   "cell_type": "code",
   "execution_count": 0,
   "metadata": {
    "colab": {},
    "colab_type": "code",
    "id": "DEI-U-0L1XD8"
   },
   "outputs": [],
   "source": [
    "# Folder creation\n",
    "folder_create('lists')\n",
    "folder_create('train')\n",
    "folder_create('test')\n",
    "folder_create('features')\n",
    "folder_create('Annotation')"
   ]
  },
  {
   "cell_type": "markdown",
   "metadata": {
    "colab_type": "text",
    "id": "fltpfZo01XEE"
   },
   "source": [
    "## Downloading"
   ]
  },
  {
   "cell_type": "code",
   "execution_count": 9,
   "metadata": {
    "colab": {
     "base_uri": "https://localhost:8080/",
     "height": 90
    },
    "colab_type": "code",
    "executionInfo": {
     "elapsed": 52737,
     "status": "ok",
     "timestamp": 1541068293311,
     "user": {
      "displayName": "Arnaud Rousseau",
      "photoUrl": "https://lh3.googleusercontent.com/-Mpjc2MGPrQw/AAAAAAAAAAI/AAAAAAAAAA8/M6BM4QHffvQ/s64/photo.jpg",
      "userId": "05695251486119274053"
     },
     "user_tz": -60
    },
    "id": "cpTjtuPH1XEI",
    "outputId": "484211e7-f338-4143-de17-4b42c2dace9a"
   },
   "outputs": [
    {
     "name": "stdout",
     "output_type": "stream",
     "text": [
      "./lists.tar created\n",
      "./annotation.tar created\n",
      "./images.tar created\n"
     ]
    },
    {
     "data": {
      "text/plain": [
       "'./images.tar'"
      ]
     },
     "execution_count": 9,
     "metadata": {
      "tags": []
     },
     "output_type": "execute_result"
    }
   ],
   "source": [
    "#Datadownloading\n",
    "downloadfile('lists.tar')\n",
    "downloadfile('annotation.tar')\n",
    "downloadfile('images.tar')\n",
    "#downloadfile('train_data.mat', targetloc = 'features')\n",
    "#downloadfile('test_data.mat', targetloc = 'features')"
   ]
  },
  {
   "cell_type": "markdown",
   "metadata": {
    "colab_type": "text",
    "id": "NO7s7B0N1XEW"
   },
   "source": [
    "## Data preparation"
   ]
  },
  {
   "cell_type": "code",
   "execution_count": 10,
   "metadata": {
    "colab": {
     "base_uri": "https://localhost:8080/",
     "height": 72
    },
    "colab_type": "code",
    "executionInfo": {
     "elapsed": 19487,
     "status": "ok",
     "timestamp": 1541068312860,
     "user": {
      "displayName": "Arnaud Rousseau",
      "photoUrl": "https://lh3.googleusercontent.com/-Mpjc2MGPrQw/AAAAAAAAAAI/AAAAAAAAAA8/M6BM4QHffvQ/s64/photo.jpg",
      "userId": "05695251486119274053"
     },
     "user_tz": -60
    },
    "id": "NLJfsYXh1XEc",
    "outputId": "c9acd8f7-37b8-4dc6-ee43-889d28f0ab11"
   },
   "outputs": [
    {
     "name": "stdout",
     "output_type": "stream",
     "text": [
      "lists.tar created\n",
      "annotation.tar created\n",
      "images.tar created\n"
     ]
    }
   ],
   "source": [
    "#File extraction\n",
    "extract('lists.tar', target='lists/')\n",
    "extract('annotation.tar', target='.')\n",
    "extract('images.tar', target='.')"
   ]
  },
  {
   "cell_type": "code",
   "execution_count": 11,
   "metadata": {
    "colab": {
     "base_uri": "https://localhost:8080/",
     "height": 90
    },
    "colab_type": "code",
    "executionInfo": {
     "elapsed": 1401,
     "status": "ok",
     "timestamp": 1541068314300,
     "user": {
      "displayName": "Arnaud Rousseau",
      "photoUrl": "https://lh3.googleusercontent.com/-Mpjc2MGPrQw/AAAAAAAAAAI/AAAAAAAAAA8/M6BM4QHffvQ/s64/photo.jpg",
      "userId": "05695251486119274053"
     },
     "user_tz": -60
    },
    "id": "qratOxx21xZI",
    "outputId": "ee6718cc-e511-46e8-e4ad-266031bd2b4f"
   },
   "outputs": [
    {
     "name": "stdout",
     "output_type": "stream",
     "text": [
      "adc.json\t features\tlists\t\t sauvegarde_82.h5\n",
      "Annotation\t Images\t\tlists.tar\t test\n",
      "annotation.tar\t images.tar\tsample_data\t train\n",
      "class_frame.csv  image_tmp.jpg\tsauvegarde_0.h5\n"
     ]
    }
   ],
   "source": [
    "!ls"
   ]
  },
  {
   "cell_type": "code",
   "execution_count": 12,
   "metadata": {
    "colab": {
     "base_uri": "https://localhost:8080/",
     "height": 35
    },
    "colab_type": "code",
    "executionInfo": {
     "elapsed": 1036,
     "status": "ok",
     "timestamp": 1541068315386,
     "user": {
      "displayName": "Arnaud Rousseau",
      "photoUrl": "https://lh3.googleusercontent.com/-Mpjc2MGPrQw/AAAAAAAAAAI/AAAAAAAAAA8/M6BM4QHffvQ/s64/photo.jpg",
      "userId": "05695251486119274053"
     },
     "user_tz": -60
    },
    "id": "Lqy8bsCW1XEm",
    "outputId": "f8c639ba-ce4d-4cbb-d6a0-7778236567ae"
   },
   "outputs": [
    {
     "data": {
      "text/plain": [
       "dict_keys(['__header__', '__version__', '__globals__', 'file_list', 'annotation_list', 'labels'])"
      ]
     },
     "execution_count": 12,
     "metadata": {
      "tags": []
     },
     "output_type": "execute_result"
    }
   ],
   "source": [
    "test_list = sio.loadmat('lists/test_list.mat')\n",
    "train_list = sio.loadmat('lists/train_list.mat')\n",
    "test_list.keys()"
   ]
  },
  {
   "cell_type": "code",
   "execution_count": 0,
   "metadata": {
    "colab": {},
    "colab_type": "code",
    "id": "GPDJo0R91XEy"
   },
   "outputs": [],
   "source": [
    "def spreadfiles(listmat, serie=None, annotation='Annotation', images='Images'):\n",
    "    counter = 0\n",
    "    for filepath in listmat['file_list']:\n",
    "        counter +=1\n",
    "        if counter % 1500 == 0:\n",
    "            print(f'{counter} files done')\n",
    "        cleanedfilepath = filepath[0][0]\n",
    "        filename = os.path.split(cleanedfilepath)[-1].split('.')[0]\n",
    "        foldername = os.path.split(cleanedfilepath)[0]\n",
    "        details = {}\n",
    "        with open(os.path.join(annotation, foldername, filename), 'r', encoding='utf-8') as f:\n",
    "            soup = BeautifulSoup(f, 'html.parser')\n",
    "            dog = soup.find('object')\n",
    "            details['xmin'] = int(dog.xmin.string)\n",
    "            details['xmax'] = int(dog.xmax.string)\n",
    "            details['ymin'] = int(dog.ymin.string)\n",
    "            details['ymax'] = int(dog.ymax.string)\n",
    "            #details['breed'] = dog.find_all('name')[0].string\n",
    "        #print(os.path.join(images, foldername, f'{filename}.jpg'))\n",
    "        image_data = imread(os.path.join(images, foldername, f'{filename}.jpg'))\n",
    "        new_image_data = image_data[details['ymin']:details['ymax'],details['xmin']:details['xmax'],:]\n",
    "        newpath = os.path.join(serie, foldername)\n",
    "        #print(newpath)\n",
    "        folder_create(newpath)\n",
    "        try:\n",
    "            imsave(os.path.join(newpath, f'{filename}.jpg'), new_image_data)\n",
    "        except:\n",
    "            print(f'problem with {filename} :-(')"
   ]
  },
  {
   "cell_type": "code",
   "execution_count": 14,
   "metadata": {
    "colab": {
     "base_uri": "https://localhost:8080/",
     "height": 199
    },
    "colab_type": "code",
    "executionInfo": {
     "elapsed": 192731,
     "status": "ok",
     "timestamp": 1541068508688,
     "user": {
      "displayName": "Arnaud Rousseau",
      "photoUrl": "https://lh3.googleusercontent.com/-Mpjc2MGPrQw/AAAAAAAAAAI/AAAAAAAAAA8/M6BM4QHffvQ/s64/photo.jpg",
      "userId": "05695251486119274053"
     },
     "user_tz": -60
    },
    "id": "IAw1LqF5EYpC",
    "outputId": "74d0fb1d-0b5d-4df5-cb0b-8ab94ccf776f"
   },
   "outputs": [
    {
     "name": "stdout",
     "output_type": "stream",
     "text": [
      "1500 files done\n",
      "3000 files done\n",
      "4500 files done\n",
      "6000 files done\n",
      "7500 files done\n",
      "9000 files done\n",
      "10500 files done\n",
      "12000 files done\n",
      "CPU times: user 3min 4s, sys: 7.19 s, total: 3min 12s\n",
      "Wall time: 3min 12s\n"
     ]
    }
   ],
   "source": [
    "%%time\n",
    "spreadfiles(train_list, serie='train')"
   ]
  },
  {
   "cell_type": "code",
   "execution_count": 15,
   "metadata": {
    "colab": {
     "base_uri": "https://localhost:8080/",
     "height": 145
    },
    "colab_type": "code",
    "executionInfo": {
     "elapsed": 134561,
     "status": "ok",
     "timestamp": 1541068643288,
     "user": {
      "displayName": "Arnaud Rousseau",
      "photoUrl": "https://lh3.googleusercontent.com/-Mpjc2MGPrQw/AAAAAAAAAAI/AAAAAAAAAA8/M6BM4QHffvQ/s64/photo.jpg",
      "userId": "05695251486119274053"
     },
     "user_tz": -60
    },
    "id": "N4dYeuYC1XE6",
    "outputId": "6dc1e3f9-2d2f-495a-bac5-4a89c53e46bb"
   },
   "outputs": [
    {
     "name": "stdout",
     "output_type": "stream",
     "text": [
      "1500 files done\n",
      "3000 files done\n",
      "4500 files done\n",
      "6000 files done\n",
      "7500 files done\n",
      "CPU times: user 2min 10s, sys: 3.47 s, total: 2min 13s\n",
      "Wall time: 2min 13s\n"
     ]
    }
   ],
   "source": [
    "%%time\n",
    "spreadfiles(test_list, serie='test')"
   ]
  },
  {
   "cell_type": "code",
   "execution_count": 16,
   "metadata": {
    "colab": {
     "base_uri": "https://localhost:8080/",
     "height": 90
    },
    "colab_type": "code",
    "executionInfo": {
     "elapsed": 1368,
     "status": "ok",
     "timestamp": 1541068644692,
     "user": {
      "displayName": "Arnaud Rousseau",
      "photoUrl": "https://lh3.googleusercontent.com/-Mpjc2MGPrQw/AAAAAAAAAAI/AAAAAAAAAA8/M6BM4QHffvQ/s64/photo.jpg",
      "userId": "05695251486119274053"
     },
     "user_tz": -60
    },
    "id": "3KixUvjiTnww",
    "outputId": "212b69e5-f196-4f28-c544-de1fdbc46f44"
   },
   "outputs": [
    {
     "name": "stdout",
     "output_type": "stream",
     "text": [
      "adc.json\t features\tlists\t\t sauvegarde_82.h5\n",
      "Annotation\t Images\t\tlists.tar\t test\n",
      "annotation.tar\t images.tar\tsample_data\t train\n",
      "class_frame.csv  image_tmp.jpg\tsauvegarde_0.h5\n"
     ]
    }
   ],
   "source": [
    "!ls"
   ]
  },
  {
   "cell_type": "code",
   "execution_count": 17,
   "metadata": {
    "colab": {
     "base_uri": "https://localhost:8080/",
     "height": 90
    },
    "colab_type": "code",
    "executionInfo": {
     "elapsed": 1465,
     "status": "ok",
     "timestamp": 1541068646196,
     "user": {
      "displayName": "Arnaud Rousseau",
      "photoUrl": "https://lh3.googleusercontent.com/-Mpjc2MGPrQw/AAAAAAAAAAI/AAAAAAAAAA8/M6BM4QHffvQ/s64/photo.jpg",
      "userId": "05695251486119274053"
     },
     "user_tz": -60
    },
    "id": "XG8Q3Zfwcazg",
    "outputId": "00a10ce4-6afd-4f30-df08-8fdc8c9929c3"
   },
   "outputs": [
    {
     "name": "stdout",
     "output_type": "stream",
     "text": [
      "adc.json\t features\tlists\t\t sauvegarde_82.h5\n",
      "Annotation\t Images\t\tlists.tar\t test\n",
      "annotation.tar\t images.tar\tsample_data\t train\n",
      "class_frame.csv  image_tmp.jpg\tsauvegarde_0.h5\n"
     ]
    }
   ],
   "source": [
    "!dir"
   ]
  },
  {
   "cell_type": "code",
   "execution_count": 0,
   "metadata": {
    "colab": {},
    "colab_type": "code",
    "id": "h7Udk94_ccWe"
   },
   "outputs": [],
   "source": [
    "!cd Images"
   ]
  },
  {
   "cell_type": "code",
   "execution_count": 19,
   "metadata": {
    "colab": {
     "base_uri": "https://localhost:8080/",
     "height": 163
    },
    "colab_type": "code",
    "executionInfo": {
     "elapsed": 1559,
     "status": "ok",
     "timestamp": 1541068649208,
     "user": {
      "displayName": "Arnaud Rousseau",
      "photoUrl": "https://lh3.googleusercontent.com/-Mpjc2MGPrQw/AAAAAAAAAAI/AAAAAAAAAA8/M6BM4QHffvQ/s64/photo.jpg",
      "userId": "05695251486119274053"
     },
     "user_tz": -60
    },
    "id": "RjiNOrYNcgym",
    "outputId": "338c73eb-2b87-4384-a58f-f704f44245cf"
   },
   "outputs": [
    {
     "name": "stdout",
     "output_type": "stream",
     "text": [
      "Filesystem     1K-blocks     Used Available Use% Mounted on\n",
      "overlay        375674948 11176336 345345716   4% /\n",
      "tmpfs            6667604        0   6667604   0% /dev\n",
      "tmpfs            6667604        0   6667604   0% /sys/fs/cgroup\n",
      "tmpfs            6667604        8   6667596   1% /var/colab\n",
      "/dev/sda1      382718764 17681684 365020696   5% /opt/bin\n",
      "shm                65536        4     65532   1% /dev/shm\n",
      "tmpfs            6667604        0   6667604   0% /sys/firmware\n"
     ]
    }
   ],
   "source": [
    "!df"
   ]
  },
  {
   "cell_type": "markdown",
   "metadata": {
    "colab_type": "text",
    "id": "YX7HB81q5jvN"
   },
   "source": [
    "# NN creation: VGG16 without Top Layer + Flatten = \"model1\""
   ]
  },
  {
   "cell_type": "code",
   "execution_count": 20,
   "metadata": {
    "colab": {
     "base_uri": "https://localhost:8080/",
     "height": 54
    },
    "colab_type": "code",
    "executionInfo": {
     "elapsed": 3324,
     "status": "ok",
     "timestamp": 1541068652578,
     "user": {
      "displayName": "Arnaud Rousseau",
      "photoUrl": "https://lh3.googleusercontent.com/-Mpjc2MGPrQw/AAAAAAAAAAI/AAAAAAAAAA8/M6BM4QHffvQ/s64/photo.jpg",
      "userId": "05695251486119274053"
     },
     "user_tz": -60
    },
    "id": "QpJlJLvA5kxl",
    "outputId": "1076b994-7104-46c0-c966-d23b5db71483"
   },
   "outputs": [
    {
     "name": "stdout",
     "output_type": "stream",
     "text": [
      "Downloading data from https://github.com/fchollet/deep-learning-models/releases/download/v0.1/vgg16_weights_tf_dim_ordering_tf_kernels_notop.h5\n",
      "58892288/58889256 [==============================] - 1s 0us/step\n"
     ]
    }
   ],
   "source": [
    "# VGG-16 pré-entraîné sur ImageNet et sans les couches fully-connected\n",
    "model = VGG16(weights=\"imagenet\", \n",
    "              include_top=False, \n",
    "              input_shape=(224, 224, 3), \n",
    "              pooling = None)"
   ]
  },
  {
   "cell_type": "code",
   "execution_count": 0,
   "metadata": {
    "colab": {},
    "colab_type": "code",
    "id": "NTGDZDNo620V"
   },
   "outputs": [],
   "source": [
    "for layer in model.layers:\n",
    "    layer.trainable = False"
   ]
  },
  {
   "cell_type": "code",
   "execution_count": 0,
   "metadata": {
    "colab": {},
    "colab_type": "code",
    "id": "9DULQvgCpfob"
   },
   "outputs": [],
   "source": [
    "#model.summary()"
   ]
  },
  {
   "cell_type": "markdown",
   "metadata": {
    "colab_type": "text",
    "id": "ldJbDorn-ZYT"
   },
   "source": [
    "Features Extraction :  no layers training. For small dataset and similar to original dataset"
   ]
  },
  {
   "cell_type": "code",
   "execution_count": 0,
   "metadata": {
    "colab": {},
    "colab_type": "code",
    "id": "SQs6ZIfgqD5O"
   },
   "outputs": [],
   "source": [
    "# Récupérer la sortie de ce réseau\n",
    "x = Flatten()(model.output)\n",
    "\n",
    "w = Dense(1000, \n",
    "          input_shape=x.shape[1:],\n",
    "          activation='relu')(x)\n",
    "\n",
    "v = Dropout(0.5)(w)\n",
    "\n",
    "u = Dense(300, \n",
    "          input_shape=v.shape[1:],\n",
    "          activation='relu')(v)\n",
    "\n",
    "t = Dropout(0.5)(u)\n",
    "\n",
    "s = Dense(120, \n",
    "          input_shape=t.shape[1:],\n",
    "          activation='softmax')(t)"
   ]
  },
  {
   "cell_type": "code",
   "execution_count": 0,
   "metadata": {
    "colab": {},
    "colab_type": "code",
    "id": "Ny-ESOsqqD_8"
   },
   "outputs": [],
   "source": [
    "# nouvele structure\n",
    "model1 = Model(inputs=model.input,\n",
    "               outputs=s)"
   ]
  },
  {
   "cell_type": "code",
   "execution_count": 26,
   "metadata": {
    "colab": {
     "base_uri": "https://localhost:8080/",
     "height": 1054
    },
    "colab_type": "code",
    "executionInfo": {
     "elapsed": 424,
     "status": "ok",
     "timestamp": 1541068655715,
     "user": {
      "displayName": "Arnaud Rousseau",
      "photoUrl": "https://lh3.googleusercontent.com/-Mpjc2MGPrQw/AAAAAAAAAAI/AAAAAAAAAA8/M6BM4QHffvQ/s64/photo.jpg",
      "userId": "05695251486119274053"
     },
     "user_tz": -60
    },
    "id": "H0XxOPt7AuTh",
    "outputId": "8b2c7142-50e2-49d2-c1c6-36b79602651a"
   },
   "outputs": [
    {
     "name": "stdout",
     "output_type": "stream",
     "text": [
      "_________________________________________________________________\n",
      "Layer (type)                 Output Shape              Param #   \n",
      "=================================================================\n",
      "input_1 (InputLayer)         (None, 224, 224, 3)       0         \n",
      "_________________________________________________________________\n",
      "block1_conv1 (Conv2D)        (None, 224, 224, 64)      1792      \n",
      "_________________________________________________________________\n",
      "block1_conv2 (Conv2D)        (None, 224, 224, 64)      36928     \n",
      "_________________________________________________________________\n",
      "block1_pool (MaxPooling2D)   (None, 112, 112, 64)      0         \n",
      "_________________________________________________________________\n",
      "block2_conv1 (Conv2D)        (None, 112, 112, 128)     73856     \n",
      "_________________________________________________________________\n",
      "block2_conv2 (Conv2D)        (None, 112, 112, 128)     147584    \n",
      "_________________________________________________________________\n",
      "block2_pool (MaxPooling2D)   (None, 56, 56, 128)       0         \n",
      "_________________________________________________________________\n",
      "block3_conv1 (Conv2D)        (None, 56, 56, 256)       295168    \n",
      "_________________________________________________________________\n",
      "block3_conv2 (Conv2D)        (None, 56, 56, 256)       590080    \n",
      "_________________________________________________________________\n",
      "block3_conv3 (Conv2D)        (None, 56, 56, 256)       590080    \n",
      "_________________________________________________________________\n",
      "block3_pool (MaxPooling2D)   (None, 28, 28, 256)       0         \n",
      "_________________________________________________________________\n",
      "block4_conv1 (Conv2D)        (None, 28, 28, 512)       1180160   \n",
      "_________________________________________________________________\n",
      "block4_conv2 (Conv2D)        (None, 28, 28, 512)       2359808   \n",
      "_________________________________________________________________\n",
      "block4_conv3 (Conv2D)        (None, 28, 28, 512)       2359808   \n",
      "_________________________________________________________________\n",
      "block4_pool (MaxPooling2D)   (None, 14, 14, 512)       0         \n",
      "_________________________________________________________________\n",
      "block5_conv1 (Conv2D)        (None, 14, 14, 512)       2359808   \n",
      "_________________________________________________________________\n",
      "block5_conv2 (Conv2D)        (None, 14, 14, 512)       2359808   \n",
      "_________________________________________________________________\n",
      "block5_conv3 (Conv2D)        (None, 14, 14, 512)       2359808   \n",
      "_________________________________________________________________\n",
      "block5_pool (MaxPooling2D)   (None, 7, 7, 512)         0         \n",
      "_________________________________________________________________\n",
      "flatten_1 (Flatten)          (None, 25088)             0         \n",
      "_________________________________________________________________\n",
      "dense_1 (Dense)              (None, 1000)              25089000  \n",
      "_________________________________________________________________\n",
      "dropout_1 (Dropout)          (None, 1000)              0         \n",
      "_________________________________________________________________\n",
      "dense_2 (Dense)              (None, 300)               300300    \n",
      "_________________________________________________________________\n",
      "dropout_2 (Dropout)          (None, 300)               0         \n",
      "_________________________________________________________________\n",
      "dense_3 (Dense)              (None, 120)               36120     \n",
      "=================================================================\n",
      "Total params: 40,140,108\n",
      "Trainable params: 25,425,420\n",
      "Non-trainable params: 14,714,688\n",
      "_________________________________________________________________\n"
     ]
    }
   ],
   "source": [
    "model1.summary()"
   ]
  },
  {
   "cell_type": "code",
   "execution_count": 27,
   "metadata": {
    "colab": {
     "base_uri": "https://localhost:8080/",
     "height": 363
    },
    "colab_type": "code",
    "executionInfo": {
     "elapsed": 409,
     "status": "ok",
     "timestamp": 1541068656199,
     "user": {
      "displayName": "Arnaud Rousseau",
      "photoUrl": "https://lh3.googleusercontent.com/-Mpjc2MGPrQw/AAAAAAAAAAI/AAAAAAAAAA8/M6BM4QHffvQ/s64/photo.jpg",
      "userId": "05695251486119274053"
     },
     "user_tz": -60
    },
    "id": "AAhSU8vkqeWK",
    "outputId": "6ad9eb8e-6317-4b9b-a583-8271f9a8f43e"
   },
   "outputs": [
    {
     "name": "stdout",
     "output_type": "stream",
     "text": [
      "<keras.engine.topology.InputLayer object at 0x7f3916ea5198> False\n",
      "<keras.layers.convolutional.Conv2D object at 0x7f3916ea5550> False\n",
      "<keras.layers.convolutional.Conv2D object at 0x7f3916ea5208> False\n",
      "<keras.layers.pooling.MaxPooling2D object at 0x7f3916ea54e0> False\n",
      "<keras.layers.convolutional.Conv2D object at 0x7f3916ebcda0> False\n",
      "<keras.layers.convolutional.Conv2D object at 0x7f3916ce9da0> False\n",
      "<keras.layers.pooling.MaxPooling2D object at 0x7f3916d13b00> False\n",
      "<keras.layers.convolutional.Conv2D object at 0x7f3916c996a0> False\n",
      "<keras.layers.convolutional.Conv2D object at 0x7f3916e1b860> False\n",
      "<keras.layers.convolutional.Conv2D object at 0x7f3916e1fc50> False\n",
      "<keras.layers.pooling.MaxPooling2D object at 0x7f3916e179e8> False\n",
      "<keras.layers.convolutional.Conv2D object at 0x7f39171bb470> False\n",
      "<keras.layers.convolutional.Conv2D object at 0x7f3916caa048> False\n",
      "<keras.layers.convolutional.Conv2D object at 0x7f3916cae128> False\n",
      "<keras.layers.pooling.MaxPooling2D object at 0x7f3916cc4f98> False\n",
      "<keras.layers.convolutional.Conv2D object at 0x7f3916ccd358> False\n",
      "<keras.layers.convolutional.Conv2D object at 0x7f3916cda7f0> False\n",
      "<keras.layers.convolutional.Conv2D object at 0x7f391719e9e8> False\n",
      "<keras.layers.pooling.MaxPooling2D object at 0x7f391719ee48> False\n"
     ]
    }
   ],
   "source": [
    "# Check the trainable status of the individual layers\n",
    "for layer in model.layers:\n",
    "    print(layer, layer.trainable)"
   ]
  },
  {
   "cell_type": "code",
   "execution_count": 0,
   "metadata": {
    "colab": {},
    "colab_type": "code",
    "id": "7SoViFl57nF0"
   },
   "outputs": [],
   "source": [
    "for layer in model1.layers[:1]:\n",
    "    layer.trainable = False"
   ]
  },
  {
   "cell_type": "code",
   "execution_count": 29,
   "metadata": {
    "colab": {
     "base_uri": "https://localhost:8080/",
     "height": 472
    },
    "colab_type": "code",
    "executionInfo": {
     "elapsed": 450,
     "status": "ok",
     "timestamp": 1541068657223,
     "user": {
      "displayName": "Arnaud Rousseau",
      "photoUrl": "https://lh3.googleusercontent.com/-Mpjc2MGPrQw/AAAAAAAAAAI/AAAAAAAAAA8/M6BM4QHffvQ/s64/photo.jpg",
      "userId": "05695251486119274053"
     },
     "user_tz": -60
    },
    "id": "xjEfXDk5STgJ",
    "outputId": "23ff298c-6fd5-43e9-ef48-9426904e2f19"
   },
   "outputs": [
    {
     "name": "stdout",
     "output_type": "stream",
     "text": [
      "<keras.engine.topology.InputLayer object at 0x7f3916ea5198> False\n",
      "<keras.layers.convolutional.Conv2D object at 0x7f3916ea5550> False\n",
      "<keras.layers.convolutional.Conv2D object at 0x7f3916ea5208> False\n",
      "<keras.layers.pooling.MaxPooling2D object at 0x7f3916ea54e0> False\n",
      "<keras.layers.convolutional.Conv2D object at 0x7f3916ebcda0> False\n",
      "<keras.layers.convolutional.Conv2D object at 0x7f3916ce9da0> False\n",
      "<keras.layers.pooling.MaxPooling2D object at 0x7f3916d13b00> False\n",
      "<keras.layers.convolutional.Conv2D object at 0x7f3916c996a0> False\n",
      "<keras.layers.convolutional.Conv2D object at 0x7f3916e1b860> False\n",
      "<keras.layers.convolutional.Conv2D object at 0x7f3916e1fc50> False\n",
      "<keras.layers.pooling.MaxPooling2D object at 0x7f3916e179e8> False\n",
      "<keras.layers.convolutional.Conv2D object at 0x7f39171bb470> False\n",
      "<keras.layers.convolutional.Conv2D object at 0x7f3916caa048> False\n",
      "<keras.layers.convolutional.Conv2D object at 0x7f3916cae128> False\n",
      "<keras.layers.pooling.MaxPooling2D object at 0x7f3916cc4f98> False\n",
      "<keras.layers.convolutional.Conv2D object at 0x7f3916ccd358> False\n",
      "<keras.layers.convolutional.Conv2D object at 0x7f3916cda7f0> False\n",
      "<keras.layers.convolutional.Conv2D object at 0x7f391719e9e8> False\n",
      "<keras.layers.pooling.MaxPooling2D object at 0x7f391719ee48> False\n",
      "<keras.layers.core.Flatten object at 0x7f3916d7b198> True\n",
      "<keras.layers.core.Dense object at 0x7f3916d7b208> True\n",
      "<keras.layers.core.Dropout object at 0x7f3918f9dfd0> True\n",
      "<keras.layers.core.Dense object at 0x7f3916d7b748> True\n",
      "<keras.layers.core.Dropout object at 0x7f3916d7b400> True\n",
      "<keras.layers.core.Dense object at 0x7f39172ba4a8> True\n"
     ]
    }
   ],
   "source": [
    "# Check the trainable status of the individual layers\n",
    "for layer in model1.layers:\n",
    "    print(layer, layer.trainable)"
   ]
  },
  {
   "cell_type": "markdown",
   "metadata": {
    "colab_type": "text",
    "id": "mkzxRl53lFd2"
   },
   "source": [
    "**- - - - - - - - - - - - - - - - - - - - - - - - - - - - - - - - - - **"
   ]
  },
  {
   "cell_type": "markdown",
   "metadata": {
    "colab_type": "text",
    "id": "8iTm8Uoz6xDq"
   },
   "source": [
    "#Generator"
   ]
  },
  {
   "cell_type": "markdown",
   "metadata": {
    "colab_type": "text",
    "id": "2oSmcW4csFYQ"
   },
   "source": [
    "Misc"
   ]
  },
  {
   "cell_type": "code",
   "execution_count": 0,
   "metadata": {
    "colab": {},
    "colab_type": "code",
    "id": "qtq3j_1ucP57"
   },
   "outputs": [],
   "source": [
    "train_data_dir = \"train\"\n",
    "test_data_dir = \"test\"\n",
    "\n",
    "img_width = 224\n",
    "img_height = 224\n",
    "\n",
    "batch_size = 16\n",
    "\n",
    "nb_train_samples  = 12000\n",
    "nb_validation_samples = 8580\n",
    "epochs = 100"
   ]
  },
  {
   "cell_type": "code",
   "execution_count": 0,
   "metadata": {
    "colab": {},
    "colab_type": "code",
    "id": "_D_WtuMjcP-7"
   },
   "outputs": [],
   "source": [
    "train_datagen = ImageDataGenerator(\n",
    "    #rescale = 1./255,\n",
    "    #vertical_flip = False,\n",
    "    #fill_mode = \"nearest\",\n",
    "    #zoom_range = 0,\n",
    "    #width_shift_range = 0,\n",
    "    #height_shift_range=0,\n",
    "    #rotation_range=0,\n",
    "    preprocessing_function=preprocess_input)"
   ]
  },
  {
   "cell_type": "code",
   "execution_count": 35,
   "metadata": {
    "colab": {
     "base_uri": "https://localhost:8080/",
     "height": 35
    },
    "colab_type": "code",
    "executionInfo": {
     "elapsed": 1611,
     "status": "ok",
     "timestamp": 1541068661393,
     "user": {
      "displayName": "Arnaud Rousseau",
      "photoUrl": "https://lh3.googleusercontent.com/-Mpjc2MGPrQw/AAAAAAAAAAI/AAAAAAAAAA8/M6BM4QHffvQ/s64/photo.jpg",
      "userId": "05695251486119274053"
     },
     "user_tz": -60
    },
    "id": "4kkFQ6Mbc4XG",
    "outputId": "7999fc8e-9786-4a48-d10f-d93d50ea6035"
   },
   "outputs": [
    {
     "name": "stdout",
     "output_type": "stream",
     "text": [
      "Found 12000 images belonging to 120 classes.\n"
     ]
    }
   ],
   "source": [
    "train_generator = train_datagen.flow_from_directory(\n",
    "    train_data_dir,\n",
    "    target_size = (img_height, img_width),\n",
    "    color_mode='rgb',\n",
    "    batch_size = batch_size, \n",
    "    class_mode = \"categorical\", \n",
    "    shuffle=False)"
   ]
  },
  {
   "cell_type": "code",
   "execution_count": 0,
   "metadata": {
    "colab": {},
    "colab_type": "code",
    "id": "j3Q6I-Qbc2XA"
   },
   "outputs": [],
   "source": [
    "test_datagen = ImageDataGenerator(\n",
    "    #rescale = 1./255,\n",
    "    #vertical_flip = False,\n",
    "    #fill_mode = \"nearest\",\n",
    "    #zoom_range = 0,\n",
    "    #width_shift_range = 0,\n",
    "    #height_shift_range=0,\n",
    "    #rotation_range=0,\n",
    "    preprocessing_function=preprocess_input)"
   ]
  },
  {
   "cell_type": "code",
   "execution_count": 37,
   "metadata": {
    "colab": {
     "base_uri": "https://localhost:8080/",
     "height": 35
    },
    "colab_type": "code",
    "executionInfo": {
     "elapsed": 1583,
     "status": "ok",
     "timestamp": 1541068663524,
     "user": {
      "displayName": "Arnaud Rousseau",
      "photoUrl": "https://lh3.googleusercontent.com/-Mpjc2MGPrQw/AAAAAAAAAAI/AAAAAAAAAA8/M6BM4QHffvQ/s64/photo.jpg",
      "userId": "05695251486119274053"
     },
     "user_tz": -60
    },
    "id": "8v5Mzw0oc8fq",
    "outputId": "c8750d99-9f60-4960-f907-143eeb478043"
   },
   "outputs": [
    {
     "name": "stdout",
     "output_type": "stream",
     "text": [
      "Found 8580 images belonging to 120 classes.\n"
     ]
    }
   ],
   "source": [
    "test_generator = test_datagen.flow_from_directory(\n",
    "    test_data_dir,\n",
    "    target_size = (img_height, img_width),\n",
    "    color_mode='rgb',\n",
    "    batch_size = batch_size,\n",
    "    class_mode = \"categorical\", \n",
    "    shuffle=False)"
   ]
  },
  {
   "cell_type": "markdown",
   "metadata": {
    "colab_type": "text",
    "id": "XmvPK9s2sR3o"
   },
   "source": [
    "### Checkpoint"
   ]
  },
  {
   "cell_type": "code",
   "execution_count": 0,
   "metadata": {
    "colab": {},
    "colab_type": "code",
    "id": "XReO84Sk2ryb"
   },
   "outputs": [],
   "source": [
    "early = EarlyStopping(monitor='val_acc', \n",
    "                      min_delta=0, \n",
    "                      patience=10, \n",
    "                      verbose=1, \n",
    "                      mode='auto')"
   ]
  },
  {
   "cell_type": "markdown",
   "metadata": {
    "colab_type": "text",
    "id": "HO5VKylWtYrd"
   },
   "source": [
    "## Model without Top layer Compilation"
   ]
  },
  {
   "cell_type": "code",
   "execution_count": 0,
   "metadata": {
    "colab": {},
    "colab_type": "code",
    "id": "nVcZAKl53iL6"
   },
   "outputs": [],
   "source": [
    "model1.compile(loss = \"categorical_crossentropy\", \n",
    "              optimizer = optimizers.SGD(lr=0.00002, # 0.000015\n",
    "                                         decay=1e-6, \n",
    "                                         momentum=0.9), \n",
    "              metrics=[\"accuracy\"])"
   ]
  },
  {
   "cell_type": "code",
   "execution_count": 41,
   "metadata": {
    "colab": {
     "base_uri": "https://localhost:8080/",
     "height": 55
    },
    "colab_type": "code",
    "executionInfo": {
     "elapsed": 471,
     "status": "ok",
     "timestamp": 1541068665569,
     "user": {
      "displayName": "Arnaud Rousseau",
      "photoUrl": "https://lh3.googleusercontent.com/-Mpjc2MGPrQw/AAAAAAAAAAI/AAAAAAAAAA8/M6BM4QHffvQ/s64/photo.jpg",
      "userId": "05695251486119274053"
     },
     "user_tz": -60
    },
    "id": "kLvRHxElNnHB",
    "outputId": "d410882c-b35e-4ee3-c97c-83002e05e11a"
   },
   "outputs": [
    {
     "name": "stdout",
     "output_type": "stream",
     "text": [
      "{'name': 'model_1', 'layers': [{'name': 'input_1', 'class_name': 'InputLayer', 'config': {'batch_input_shape': (None, 224, 224, 3), 'dtype': 'float32', 'sparse': False, 'name': 'input_1'}, 'inbound_nodes': []}, {'name': 'block1_conv1', 'class_name': 'Conv2D', 'config': {'name': 'block1_conv1', 'trainable': False, 'filters': 64, 'kernel_size': (3, 3), 'strides': (1, 1), 'padding': 'same', 'data_format': 'channels_last', 'dilation_rate': (1, 1), 'activation': 'relu', 'use_bias': True, 'kernel_initializer': {'class_name': 'VarianceScaling', 'config': {'scale': 1.0, 'mode': 'fan_avg', 'distribution': 'uniform', 'seed': None}}, 'bias_initializer': {'class_name': 'Zeros', 'config': {}}, 'kernel_regularizer': None, 'bias_regularizer': None, 'activity_regularizer': None, 'kernel_constraint': None, 'bias_constraint': None}, 'inbound_nodes': [[['input_1', 0, 0, {}]]]}, {'name': 'block1_conv2', 'class_name': 'Conv2D', 'config': {'name': 'block1_conv2', 'trainable': False, 'filters': 64, 'kernel_size': (3, 3), 'strides': (1, 1), 'padding': 'same', 'data_format': 'channels_last', 'dilation_rate': (1, 1), 'activation': 'relu', 'use_bias': True, 'kernel_initializer': {'class_name': 'VarianceScaling', 'config': {'scale': 1.0, 'mode': 'fan_avg', 'distribution': 'uniform', 'seed': None}}, 'bias_initializer': {'class_name': 'Zeros', 'config': {}}, 'kernel_regularizer': None, 'bias_regularizer': None, 'activity_regularizer': None, 'kernel_constraint': None, 'bias_constraint': None}, 'inbound_nodes': [[['block1_conv1', 0, 0, {}]]]}, {'name': 'block1_pool', 'class_name': 'MaxPooling2D', 'config': {'name': 'block1_pool', 'trainable': False, 'pool_size': (2, 2), 'padding': 'valid', 'strides': (2, 2), 'data_format': 'channels_last'}, 'inbound_nodes': [[['block1_conv2', 0, 0, {}]]]}, {'name': 'block2_conv1', 'class_name': 'Conv2D', 'config': {'name': 'block2_conv1', 'trainable': False, 'filters': 128, 'kernel_size': (3, 3), 'strides': (1, 1), 'padding': 'same', 'data_format': 'channels_last', 'dilation_rate': (1, 1), 'activation': 'relu', 'use_bias': True, 'kernel_initializer': {'class_name': 'VarianceScaling', 'config': {'scale': 1.0, 'mode': 'fan_avg', 'distribution': 'uniform', 'seed': None}}, 'bias_initializer': {'class_name': 'Zeros', 'config': {}}, 'kernel_regularizer': None, 'bias_regularizer': None, 'activity_regularizer': None, 'kernel_constraint': None, 'bias_constraint': None}, 'inbound_nodes': [[['block1_pool', 0, 0, {}]]]}, {'name': 'block2_conv2', 'class_name': 'Conv2D', 'config': {'name': 'block2_conv2', 'trainable': False, 'filters': 128, 'kernel_size': (3, 3), 'strides': (1, 1), 'padding': 'same', 'data_format': 'channels_last', 'dilation_rate': (1, 1), 'activation': 'relu', 'use_bias': True, 'kernel_initializer': {'class_name': 'VarianceScaling', 'config': {'scale': 1.0, 'mode': 'fan_avg', 'distribution': 'uniform', 'seed': None}}, 'bias_initializer': {'class_name': 'Zeros', 'config': {}}, 'kernel_regularizer': None, 'bias_regularizer': None, 'activity_regularizer': None, 'kernel_constraint': None, 'bias_constraint': None}, 'inbound_nodes': [[['block2_conv1', 0, 0, {}]]]}, {'name': 'block2_pool', 'class_name': 'MaxPooling2D', 'config': {'name': 'block2_pool', 'trainable': False, 'pool_size': (2, 2), 'padding': 'valid', 'strides': (2, 2), 'data_format': 'channels_last'}, 'inbound_nodes': [[['block2_conv2', 0, 0, {}]]]}, {'name': 'block3_conv1', 'class_name': 'Conv2D', 'config': {'name': 'block3_conv1', 'trainable': False, 'filters': 256, 'kernel_size': (3, 3), 'strides': (1, 1), 'padding': 'same', 'data_format': 'channels_last', 'dilation_rate': (1, 1), 'activation': 'relu', 'use_bias': True, 'kernel_initializer': {'class_name': 'VarianceScaling', 'config': {'scale': 1.0, 'mode': 'fan_avg', 'distribution': 'uniform', 'seed': None}}, 'bias_initializer': {'class_name': 'Zeros', 'config': {}}, 'kernel_regularizer': None, 'bias_regularizer': None, 'activity_regularizer': None, 'kernel_constraint': None, 'bias_constraint': None}, 'inbound_nodes': [[['block2_pool', 0, 0, {}]]]}, {'name': 'block3_conv2', 'class_name': 'Conv2D', 'config': {'name': 'block3_conv2', 'trainable': False, 'filters': 256, 'kernel_size': (3, 3), 'strides': (1, 1), 'padding': 'same', 'data_format': 'channels_last', 'dilation_rate': (1, 1), 'activation': 'relu', 'use_bias': True, 'kernel_initializer': {'class_name': 'VarianceScaling', 'config': {'scale': 1.0, 'mode': 'fan_avg', 'distribution': 'uniform', 'seed': None}}, 'bias_initializer': {'class_name': 'Zeros', 'config': {}}, 'kernel_regularizer': None, 'bias_regularizer': None, 'activity_regularizer': None, 'kernel_constraint': None, 'bias_constraint': None}, 'inbound_nodes': [[['block3_conv1', 0, 0, {}]]]}, {'name': 'block3_conv3', 'class_name': 'Conv2D', 'config': {'name': 'block3_conv3', 'trainable': False, 'filters': 256, 'kernel_size': (3, 3), 'strides': (1, 1), 'padding': 'same', 'data_format': 'channels_last', 'dilation_rate': (1, 1), 'activation': 'relu', 'use_bias': True, 'kernel_initializer': {'class_name': 'VarianceScaling', 'config': {'scale': 1.0, 'mode': 'fan_avg', 'distribution': 'uniform', 'seed': None}}, 'bias_initializer': {'class_name': 'Zeros', 'config': {}}, 'kernel_regularizer': None, 'bias_regularizer': None, 'activity_regularizer': None, 'kernel_constraint': None, 'bias_constraint': None}, 'inbound_nodes': [[['block3_conv2', 0, 0, {}]]]}, {'name': 'block3_pool', 'class_name': 'MaxPooling2D', 'config': {'name': 'block3_pool', 'trainable': False, 'pool_size': (2, 2), 'padding': 'valid', 'strides': (2, 2), 'data_format': 'channels_last'}, 'inbound_nodes': [[['block3_conv3', 0, 0, {}]]]}, {'name': 'block4_conv1', 'class_name': 'Conv2D', 'config': {'name': 'block4_conv1', 'trainable': False, 'filters': 512, 'kernel_size': (3, 3), 'strides': (1, 1), 'padding': 'same', 'data_format': 'channels_last', 'dilation_rate': (1, 1), 'activation': 'relu', 'use_bias': True, 'kernel_initializer': {'class_name': 'VarianceScaling', 'config': {'scale': 1.0, 'mode': 'fan_avg', 'distribution': 'uniform', 'seed': None}}, 'bias_initializer': {'class_name': 'Zeros', 'config': {}}, 'kernel_regularizer': None, 'bias_regularizer': None, 'activity_regularizer': None, 'kernel_constraint': None, 'bias_constraint': None}, 'inbound_nodes': [[['block3_pool', 0, 0, {}]]]}, {'name': 'block4_conv2', 'class_name': 'Conv2D', 'config': {'name': 'block4_conv2', 'trainable': False, 'filters': 512, 'kernel_size': (3, 3), 'strides': (1, 1), 'padding': 'same', 'data_format': 'channels_last', 'dilation_rate': (1, 1), 'activation': 'relu', 'use_bias': True, 'kernel_initializer': {'class_name': 'VarianceScaling', 'config': {'scale': 1.0, 'mode': 'fan_avg', 'distribution': 'uniform', 'seed': None}}, 'bias_initializer': {'class_name': 'Zeros', 'config': {}}, 'kernel_regularizer': None, 'bias_regularizer': None, 'activity_regularizer': None, 'kernel_constraint': None, 'bias_constraint': None}, 'inbound_nodes': [[['block4_conv1', 0, 0, {}]]]}, {'name': 'block4_conv3', 'class_name': 'Conv2D', 'config': {'name': 'block4_conv3', 'trainable': False, 'filters': 512, 'kernel_size': (3, 3), 'strides': (1, 1), 'padding': 'same', 'data_format': 'channels_last', 'dilation_rate': (1, 1), 'activation': 'relu', 'use_bias': True, 'kernel_initializer': {'class_name': 'VarianceScaling', 'config': {'scale': 1.0, 'mode': 'fan_avg', 'distribution': 'uniform', 'seed': None}}, 'bias_initializer': {'class_name': 'Zeros', 'config': {}}, 'kernel_regularizer': None, 'bias_regularizer': None, 'activity_regularizer': None, 'kernel_constraint': None, 'bias_constraint': None}, 'inbound_nodes': [[['block4_conv2', 0, 0, {}]]]}, {'name': 'block4_pool', 'class_name': 'MaxPooling2D', 'config': {'name': 'block4_pool', 'trainable': False, 'pool_size': (2, 2), 'padding': 'valid', 'strides': (2, 2), 'data_format': 'channels_last'}, 'inbound_nodes': [[['block4_conv3', 0, 0, {}]]]}, {'name': 'block5_conv1', 'class_name': 'Conv2D', 'config': {'name': 'block5_conv1', 'trainable': False, 'filters': 512, 'kernel_size': (3, 3), 'strides': (1, 1), 'padding': 'same', 'data_format': 'channels_last', 'dilation_rate': (1, 1), 'activation': 'relu', 'use_bias': True, 'kernel_initializer': {'class_name': 'VarianceScaling', 'config': {'scale': 1.0, 'mode': 'fan_avg', 'distribution': 'uniform', 'seed': None}}, 'bias_initializer': {'class_name': 'Zeros', 'config': {}}, 'kernel_regularizer': None, 'bias_regularizer': None, 'activity_regularizer': None, 'kernel_constraint': None, 'bias_constraint': None}, 'inbound_nodes': [[['block4_pool', 0, 0, {}]]]}, {'name': 'block5_conv2', 'class_name': 'Conv2D', 'config': {'name': 'block5_conv2', 'trainable': False, 'filters': 512, 'kernel_size': (3, 3), 'strides': (1, 1), 'padding': 'same', 'data_format': 'channels_last', 'dilation_rate': (1, 1), 'activation': 'relu', 'use_bias': True, 'kernel_initializer': {'class_name': 'VarianceScaling', 'config': {'scale': 1.0, 'mode': 'fan_avg', 'distribution': 'uniform', 'seed': None}}, 'bias_initializer': {'class_name': 'Zeros', 'config': {}}, 'kernel_regularizer': None, 'bias_regularizer': None, 'activity_regularizer': None, 'kernel_constraint': None, 'bias_constraint': None}, 'inbound_nodes': [[['block5_conv1', 0, 0, {}]]]}, {'name': 'block5_conv3', 'class_name': 'Conv2D', 'config': {'name': 'block5_conv3', 'trainable': False, 'filters': 512, 'kernel_size': (3, 3), 'strides': (1, 1), 'padding': 'same', 'data_format': 'channels_last', 'dilation_rate': (1, 1), 'activation': 'relu', 'use_bias': True, 'kernel_initializer': {'class_name': 'VarianceScaling', 'config': {'scale': 1.0, 'mode': 'fan_avg', 'distribution': 'uniform', 'seed': None}}, 'bias_initializer': {'class_name': 'Zeros', 'config': {}}, 'kernel_regularizer': None, 'bias_regularizer': None, 'activity_regularizer': None, 'kernel_constraint': None, 'bias_constraint': None}, 'inbound_nodes': [[['block5_conv2', 0, 0, {}]]]}, {'name': 'block5_pool', 'class_name': 'MaxPooling2D', 'config': {'name': 'block5_pool', 'trainable': False, 'pool_size': (2, 2), 'padding': 'valid', 'strides': (2, 2), 'data_format': 'channels_last'}, 'inbound_nodes': [[['block5_conv3', 0, 0, {}]]]}, {'name': 'flatten_1', 'class_name': 'Flatten', 'config': {'name': 'flatten_1', 'trainable': True, 'data_format': 'channels_last'}, 'inbound_nodes': [[['block5_pool', 0, 0, {}]]]}, {'name': 'dense_1', 'class_name': 'Dense', 'config': {'name': 'dense_1', 'trainable': True, 'batch_input_shape': (None, Dimension(None)), 'dtype': 'float32', 'units': 1000, 'activation': 'relu', 'use_bias': True, 'kernel_initializer': {'class_name': 'VarianceScaling', 'config': {'scale': 1.0, 'mode': 'fan_avg', 'distribution': 'uniform', 'seed': None}}, 'bias_initializer': {'class_name': 'Zeros', 'config': {}}, 'kernel_regularizer': None, 'bias_regularizer': None, 'activity_regularizer': None, 'kernel_constraint': None, 'bias_constraint': None}, 'inbound_nodes': [[['flatten_1', 0, 0, {}]]]}, {'name': 'dropout_1', 'class_name': 'Dropout', 'config': {'name': 'dropout_1', 'trainable': True, 'rate': 0.5, 'noise_shape': None, 'seed': None}, 'inbound_nodes': [[['dense_1', 0, 0, {}]]]}, {'name': 'dense_2', 'class_name': 'Dense', 'config': {'name': 'dense_2', 'trainable': True, 'batch_input_shape': (None, Dimension(1000)), 'dtype': 'float32', 'units': 300, 'activation': 'relu', 'use_bias': True, 'kernel_initializer': {'class_name': 'VarianceScaling', 'config': {'scale': 1.0, 'mode': 'fan_avg', 'distribution': 'uniform', 'seed': None}}, 'bias_initializer': {'class_name': 'Zeros', 'config': {}}, 'kernel_regularizer': None, 'bias_regularizer': None, 'activity_regularizer': None, 'kernel_constraint': None, 'bias_constraint': None}, 'inbound_nodes': [[['dropout_1', 0, 0, {}]]]}, {'name': 'dropout_2', 'class_name': 'Dropout', 'config': {'name': 'dropout_2', 'trainable': True, 'rate': 0.5, 'noise_shape': None, 'seed': None}, 'inbound_nodes': [[['dense_2', 0, 0, {}]]]}, {'name': 'dense_3', 'class_name': 'Dense', 'config': {'name': 'dense_3', 'trainable': True, 'batch_input_shape': (None, Dimension(300)), 'dtype': 'float32', 'units': 120, 'activation': 'softmax', 'use_bias': True, 'kernel_initializer': {'class_name': 'VarianceScaling', 'config': {'scale': 1.0, 'mode': 'fan_avg', 'distribution': 'uniform', 'seed': None}}, 'bias_initializer': {'class_name': 'Zeros', 'config': {}}, 'kernel_regularizer': None, 'bias_regularizer': None, 'activity_regularizer': None, 'kernel_constraint': None, 'bias_constraint': None}, 'inbound_nodes': [[['dropout_2', 0, 0, {}]]]}], 'input_layers': [['input_1', 0, 0]], 'output_layers': [['dense_3', 0, 0]]}\n"
     ]
    }
   ],
   "source": [
    "print(model1.get_config())"
   ]
  },
  {
   "cell_type": "markdown",
   "metadata": {
    "colab_type": "text",
    "id": "0NHXb_Tc8nFg"
   },
   "source": [
    "# Model Fit"
   ]
  },
  {
   "cell_type": "code",
   "execution_count": 42,
   "metadata": {
    "colab": {
     "base_uri": "https://localhost:8080/",
     "height": 3692
    },
    "colab_type": "code",
    "executionInfo": {
     "elapsed": 20941685,
     "status": "ok",
     "timestamp": 1541089607334,
     "user": {
      "displayName": "Arnaud Rousseau",
      "photoUrl": "https://lh3.googleusercontent.com/-Mpjc2MGPrQw/AAAAAAAAAAI/AAAAAAAAAA8/M6BM4QHffvQ/s64/photo.jpg",
      "userId": "05695251486119274053"
     },
     "user_tz": -60
    },
    "id": "zTaLWQcubqeQ",
    "outputId": "85d975d7-747a-46e9-ac5d-ca0ff3fa9b63"
   },
   "outputs": [
    {
     "name": "stdout",
     "output_type": "stream",
     "text": [
      "WARNING:tensorflow:Variable *= will be deprecated. Use `var.assign(var * other)` if you want assignment to the variable value or `x = x * y` if you want a new python Tensor object.\n",
      "Epoch 1/100\n",
      "750/750 [==============================] - 214s 285ms/step - loss: 15.8871 - acc: 0.0062 - val_loss: 15.1694 - val_acc: 0.0241\n",
      "Epoch 2/100\n",
      "750/750 [==============================] - 210s 280ms/step - loss: 15.8104 - acc: 0.0097 - val_loss: 14.8863 - val_acc: 0.0423\n",
      "Epoch 3/100\n",
      "750/750 [==============================] - 210s 280ms/step - loss: 15.7009 - acc: 0.0162 - val_loss: 14.9427 - val_acc: 0.0473\n",
      "Epoch 4/100\n",
      "750/750 [==============================] - 210s 281ms/step - loss: 15.5059 - acc: 0.0254 - val_loss: 14.8980 - val_acc: 0.0597\n",
      "Epoch 5/100\n",
      "750/750 [==============================] - 210s 280ms/step - loss: 15.3265 - acc: 0.0345 - val_loss: 14.5287 - val_acc: 0.0760\n",
      "Epoch 6/100\n",
      "750/750 [==============================] - 210s 280ms/step - loss: 15.0840 - acc: 0.0488 - val_loss: 14.1429 - val_acc: 0.0962\n",
      "Epoch 7/100\n",
      "750/750 [==============================] - 210s 280ms/step - loss: 14.9998 - acc: 0.0517 - val_loss: 14.2927 - val_acc: 0.0922\n",
      "Epoch 8/100\n",
      "750/750 [==============================] - 211s 282ms/step - loss: 14.8558 - acc: 0.0588 - val_loss: 13.8724 - val_acc: 0.1083\n",
      "Epoch 9/100\n",
      "750/750 [==============================] - 209s 279ms/step - loss: 14.5620 - acc: 0.0719 - val_loss: 13.5183 - val_acc: 0.1260\n",
      "Epoch 10/100\n",
      "750/750 [==============================] - 210s 280ms/step - loss: 14.3403 - acc: 0.0848 - val_loss: 13.2712 - val_acc: 0.1387\n",
      "Epoch 11/100\n",
      "750/750 [==============================] - 209s 279ms/step - loss: 14.0376 - acc: 0.0973 - val_loss: 12.9043 - val_acc: 0.1561\n",
      "Epoch 12/100\n",
      "750/750 [==============================] - 210s 279ms/step - loss: 13.7805 - acc: 0.1090 - val_loss: 12.5899 - val_acc: 0.1677\n",
      "Epoch 13/100\n",
      "750/750 [==============================] - 209s 279ms/step - loss: 13.5876 - acc: 0.1171 - val_loss: 12.1794 - val_acc: 0.1831\n",
      "Epoch 14/100\n",
      "750/750 [==============================] - 209s 279ms/step - loss: 13.3241 - acc: 0.1267 - val_loss: 11.9802 - val_acc: 0.1930\n",
      "Epoch 15/100\n",
      "750/750 [==============================] - 209s 279ms/step - loss: 12.9723 - acc: 0.1421 - val_loss: 11.3980 - val_acc: 0.2100\n",
      "Epoch 16/100\n",
      "750/750 [==============================] - 209s 279ms/step - loss: 12.6436 - acc: 0.1531 - val_loss: 10.8632 - val_acc: 0.2228\n",
      "Epoch 17/100\n",
      "750/750 [==============================] - 209s 279ms/step - loss: 12.2733 - acc: 0.1583 - val_loss: 10.2296 - val_acc: 0.2351\n",
      "Epoch 18/100\n",
      "750/750 [==============================] - 209s 279ms/step - loss: 11.6919 - acc: 0.1719 - val_loss: 9.1855 - val_acc: 0.2540\n",
      "Epoch 19/100\n",
      "750/750 [==============================] - 209s 279ms/step - loss: 10.9253 - acc: 0.1738 - val_loss: 7.6127 - val_acc: 0.2713\n",
      "Epoch 20/100\n",
      "750/750 [==============================] - 209s 279ms/step - loss: 9.1531 - acc: 0.1590 - val_loss: 4.7760 - val_acc: 0.2462\n",
      "Epoch 21/100\n",
      "750/750 [==============================] - 209s 279ms/step - loss: 5.9388 - acc: 0.0984 - val_loss: 4.1764 - val_acc: 0.1706\n",
      "Epoch 22/100\n",
      "750/750 [==============================] - 209s 279ms/step - loss: 4.7474 - acc: 0.0880 - val_loss: 4.1840 - val_acc: 0.1731\n",
      "Epoch 23/100\n",
      "750/750 [==============================] - 209s 279ms/step - loss: 4.5016 - acc: 0.0926 - val_loss: 4.1354 - val_acc: 0.1774\n",
      "Epoch 24/100\n",
      "750/750 [==============================] - 209s 279ms/step - loss: 4.3660 - acc: 0.1077 - val_loss: 4.0836 - val_acc: 0.1921\n",
      "Epoch 25/100\n",
      "750/750 [==============================] - 210s 280ms/step - loss: 4.2530 - acc: 0.1153 - val_loss: 4.0221 - val_acc: 0.2069\n",
      "Epoch 26/100\n",
      "750/750 [==============================] - 210s 280ms/step - loss: 4.1194 - acc: 0.1328 - val_loss: 3.9528 - val_acc: 0.2192\n",
      "Epoch 27/100\n",
      "750/750 [==============================] - 209s 279ms/step - loss: 4.0473 - acc: 0.1472 - val_loss: 3.8953 - val_acc: 0.2317\n",
      "Epoch 28/100\n",
      "750/750 [==============================] - 210s 280ms/step - loss: 3.9582 - acc: 0.1562 - val_loss: 3.8225 - val_acc: 0.2428\n",
      "Epoch 29/100\n",
      "750/750 [==============================] - 209s 279ms/step - loss: 3.8995 - acc: 0.1678 - val_loss: 3.8186 - val_acc: 0.2436\n",
      "Epoch 30/100\n",
      "750/750 [==============================] - 209s 279ms/step - loss: 3.8358 - acc: 0.1766 - val_loss: 3.7336 - val_acc: 0.2527\n",
      "Epoch 31/100\n",
      "750/750 [==============================] - 209s 279ms/step - loss: 3.7731 - acc: 0.1906 - val_loss: 3.6657 - val_acc: 0.2667\n",
      "Epoch 32/100\n",
      "750/750 [==============================] - 210s 279ms/step - loss: 3.7102 - acc: 0.1981 - val_loss: 3.6738 - val_acc: 0.2731\n",
      "Epoch 33/100\n",
      "750/750 [==============================] - 209s 279ms/step - loss: 3.6219 - acc: 0.2117 - val_loss: 3.5509 - val_acc: 0.2888\n",
      "Epoch 34/100\n",
      "750/750 [==============================] - 209s 279ms/step - loss: 3.5616 - acc: 0.2284 - val_loss: 3.5138 - val_acc: 0.2958\n",
      "Epoch 35/100\n",
      "750/750 [==============================] - 209s 279ms/step - loss: 3.5048 - acc: 0.2379 - val_loss: 3.4389 - val_acc: 0.3087\n",
      "Epoch 36/100\n",
      "750/750 [==============================] - 209s 279ms/step - loss: 3.4567 - acc: 0.2427 - val_loss: 3.3989 - val_acc: 0.3128\n",
      "Epoch 37/100\n",
      "750/750 [==============================] - 209s 279ms/step - loss: 3.3959 - acc: 0.2539 - val_loss: 3.3052 - val_acc: 0.3289\n",
      "Epoch 38/100\n",
      "750/750 [==============================] - 209s 279ms/step - loss: 3.3330 - acc: 0.2662 - val_loss: 3.2709 - val_acc: 0.3318\n",
      "Epoch 39/100\n",
      "750/750 [==============================] - 209s 279ms/step - loss: 3.2614 - acc: 0.2787 - val_loss: 3.2265 - val_acc: 0.3423\n",
      "Epoch 40/100\n",
      "750/750 [==============================] - 209s 279ms/step - loss: 3.2243 - acc: 0.2863 - val_loss: 3.1578 - val_acc: 0.3506\n",
      "Epoch 41/100\n",
      "750/750 [==============================] - 209s 279ms/step - loss: 3.1568 - acc: 0.2983 - val_loss: 3.1116 - val_acc: 0.3638\n",
      "Epoch 42/100\n",
      "750/750 [==============================] - 209s 279ms/step - loss: 3.0564 - acc: 0.3160 - val_loss: 3.1006 - val_acc: 0.3691\n",
      "Epoch 43/100\n",
      "750/750 [==============================] - 209s 279ms/step - loss: 3.0308 - acc: 0.3187 - val_loss: 3.0561 - val_acc: 0.3745\n",
      "Epoch 44/100\n",
      "750/750 [==============================] - 209s 279ms/step - loss: 2.9752 - acc: 0.3305 - val_loss: 2.9869 - val_acc: 0.3918\n",
      "Epoch 45/100\n",
      "750/750 [==============================] - 209s 279ms/step - loss: 2.9334 - acc: 0.3444 - val_loss: 2.9447 - val_acc: 0.3939\n",
      "Epoch 46/100\n",
      "750/750 [==============================] - 209s 279ms/step - loss: 2.8447 - acc: 0.3591 - val_loss: 2.9161 - val_acc: 0.3985\n",
      "Epoch 47/100\n",
      "750/750 [==============================] - 209s 279ms/step - loss: 2.8292 - acc: 0.3605 - val_loss: 2.8317 - val_acc: 0.4094\n",
      "Epoch 48/100\n",
      "750/750 [==============================] - 209s 279ms/step - loss: 2.7864 - acc: 0.3653 - val_loss: 2.8231 - val_acc: 0.4128\n",
      "Epoch 49/100\n",
      "750/750 [==============================] - 209s 279ms/step - loss: 2.7463 - acc: 0.3782 - val_loss: 2.7987 - val_acc: 0.4160\n",
      "Epoch 50/100\n",
      "750/750 [==============================] - 209s 279ms/step - loss: 2.6716 - acc: 0.3892 - val_loss: 2.7327 - val_acc: 0.4260\n",
      "Epoch 51/100\n",
      "750/750 [==============================] - 209s 279ms/step - loss: 2.6480 - acc: 0.4005 - val_loss: 2.7276 - val_acc: 0.4297\n",
      "Epoch 52/100\n",
      "750/750 [==============================] - 209s 279ms/step - loss: 2.5926 - acc: 0.4084 - val_loss: 2.6870 - val_acc: 0.4339\n",
      "Epoch 53/100\n",
      "750/750 [==============================] - 209s 279ms/step - loss: 2.5525 - acc: 0.4153 - val_loss: 2.6422 - val_acc: 0.4470\n",
      "Epoch 54/100\n",
      "750/750 [==============================] - 209s 279ms/step - loss: 2.4963 - acc: 0.4242 - val_loss: 2.6416 - val_acc: 0.4485\n",
      "Epoch 55/100\n",
      "750/750 [==============================] - 209s 279ms/step - loss: 2.4795 - acc: 0.4211 - val_loss: 2.5814 - val_acc: 0.4565\n",
      "Epoch 56/100\n",
      "750/750 [==============================] - 209s 279ms/step - loss: 2.4274 - acc: 0.4404 - val_loss: 2.5302 - val_acc: 0.4635\n",
      "Epoch 57/100\n",
      "750/750 [==============================] - 209s 279ms/step - loss: 2.3913 - acc: 0.4464 - val_loss: 2.5065 - val_acc: 0.4702\n",
      "Epoch 58/100\n",
      "750/750 [==============================] - 209s 279ms/step - loss: 2.3459 - acc: 0.4482 - val_loss: 2.5230 - val_acc: 0.4748\n",
      "Epoch 59/100\n",
      "750/750 [==============================] - 209s 279ms/step - loss: 2.3201 - acc: 0.4599 - val_loss: 2.4880 - val_acc: 0.4766\n",
      "Epoch 60/100\n",
      "750/750 [==============================] - 209s 279ms/step - loss: 2.2650 - acc: 0.4680 - val_loss: 2.4764 - val_acc: 0.4815\n",
      "Epoch 61/100\n",
      "750/750 [==============================] - 209s 279ms/step - loss: 2.2576 - acc: 0.4713 - val_loss: 2.4364 - val_acc: 0.4938\n",
      "Epoch 62/100\n",
      "750/750 [==============================] - 209s 279ms/step - loss: 2.1889 - acc: 0.4857 - val_loss: 2.3894 - val_acc: 0.4944\n",
      "Epoch 63/100\n",
      "750/750 [==============================] - 210s 280ms/step - loss: 2.1915 - acc: 0.4831 - val_loss: 2.3687 - val_acc: 0.4999\n",
      "Epoch 64/100\n",
      "750/750 [==============================] - 210s 280ms/step - loss: 2.1422 - acc: 0.4993 - val_loss: 2.3887 - val_acc: 0.5000\n",
      "Epoch 65/100\n",
      "750/750 [==============================] - 209s 279ms/step - loss: 2.1142 - acc: 0.5007 - val_loss: 2.3578 - val_acc: 0.5037\n",
      "Epoch 66/100\n",
      "750/750 [==============================] - 210s 279ms/step - loss: 2.0842 - acc: 0.5108 - val_loss: 2.3381 - val_acc: 0.5087\n",
      "Epoch 67/100\n",
      "750/750 [==============================] - 210s 280ms/step - loss: 2.0220 - acc: 0.5223 - val_loss: 2.3138 - val_acc: 0.5108\n",
      "Epoch 68/100\n",
      "750/750 [==============================] - 209s 279ms/step - loss: 2.0482 - acc: 0.5162 - val_loss: 2.2969 - val_acc: 0.5134\n",
      "Epoch 69/100\n",
      "750/750 [==============================] - 210s 280ms/step - loss: 2.0046 - acc: 0.5273 - val_loss: 2.2993 - val_acc: 0.5139\n",
      "Epoch 70/100\n",
      "750/750 [==============================] - 210s 279ms/step - loss: 1.9359 - acc: 0.5365 - val_loss: 2.2708 - val_acc: 0.5217\n",
      "Epoch 71/100\n",
      "750/750 [==============================] - 209s 279ms/step - loss: 1.9200 - acc: 0.5399 - val_loss: 2.2483 - val_acc: 0.5260\n",
      "Epoch 72/100\n",
      "750/750 [==============================] - 209s 279ms/step - loss: 1.9283 - acc: 0.5448 - val_loss: 2.2212 - val_acc: 0.5284\n",
      "Epoch 73/100\n",
      "750/750 [==============================] - 210s 279ms/step - loss: 1.8862 - acc: 0.5478 - val_loss: 2.1956 - val_acc: 0.5333\n",
      "Epoch 74/100\n",
      "750/750 [==============================] - 210s 280ms/step - loss: 1.8700 - acc: 0.5527 - val_loss: 2.1951 - val_acc: 0.5348\n",
      "Epoch 75/100\n",
      "750/750 [==============================] - 210s 280ms/step - loss: 1.8207 - acc: 0.5640 - val_loss: 2.1816 - val_acc: 0.5347\n",
      "Epoch 76/100\n",
      "750/750 [==============================] - 210s 280ms/step - loss: 1.7909 - acc: 0.5736 - val_loss: 2.1689 - val_acc: 0.5373\n",
      "Epoch 77/100\n",
      "750/750 [==============================] - 210s 280ms/step - loss: 1.7928 - acc: 0.5682 - val_loss: 2.1604 - val_acc: 0.5388\n",
      "Epoch 78/100\n",
      "750/750 [==============================] - 209s 279ms/step - loss: 1.7195 - acc: 0.5868 - val_loss: 2.1183 - val_acc: 0.5491\n",
      "Epoch 79/100\n",
      "750/750 [==============================] - 209s 279ms/step - loss: 1.7574 - acc: 0.5797 - val_loss: 2.1245 - val_acc: 0.5476\n",
      "Epoch 80/100\n",
      "750/750 [==============================] - 209s 279ms/step - loss: 1.7150 - acc: 0.5839 - val_loss: 2.1140 - val_acc: 0.5524\n",
      "Epoch 81/100\n",
      "750/750 [==============================] - 209s 279ms/step - loss: 1.6839 - acc: 0.5924 - val_loss: 2.0960 - val_acc: 0.5528\n",
      "Epoch 82/100\n",
      "750/750 [==============================] - 209s 279ms/step - loss: 1.6661 - acc: 0.5961 - val_loss: 2.0837 - val_acc: 0.5513\n",
      "Epoch 83/100\n",
      "750/750 [==============================] - 210s 279ms/step - loss: 1.6672 - acc: 0.5967 - val_loss: 2.0764 - val_acc: 0.5545\n",
      "Epoch 84/100\n",
      "750/750 [==============================] - 209s 279ms/step - loss: 1.6300 - acc: 0.6042 - val_loss: 2.1092 - val_acc: 0.5502\n",
      "Epoch 85/100\n",
      "750/750 [==============================] - 209s 279ms/step - loss: 1.6201 - acc: 0.6049 - val_loss: 2.0944 - val_acc: 0.5596\n",
      "Epoch 86/100\n",
      "750/750 [==============================] - 210s 280ms/step - loss: 1.6038 - acc: 0.6168 - val_loss: 2.0592 - val_acc: 0.5607\n",
      "Epoch 87/100\n",
      "750/750 [==============================] - 209s 278ms/step - loss: 1.5851 - acc: 0.6145 - val_loss: 2.0642 - val_acc: 0.5618\n",
      "Epoch 88/100\n",
      "750/750 [==============================] - 209s 279ms/step - loss: 1.5452 - acc: 0.6237 - val_loss: 2.0514 - val_acc: 0.5670\n",
      "Epoch 89/100\n",
      "750/750 [==============================] - 209s 279ms/step - loss: 1.5266 - acc: 0.6278 - val_loss: 2.0342 - val_acc: 0.5662\n",
      "Epoch 90/100\n",
      "750/750 [==============================] - 209s 279ms/step - loss: 1.5207 - acc: 0.6257 - val_loss: 2.0384 - val_acc: 0.5617\n",
      "Epoch 91/100\n",
      "750/750 [==============================] - 209s 279ms/step - loss: 1.4971 - acc: 0.6327 - val_loss: 2.0219 - val_acc: 0.5695\n",
      "Epoch 92/100\n",
      "750/750 [==============================] - 209s 278ms/step - loss: 1.4766 - acc: 0.6369 - val_loss: 2.0047 - val_acc: 0.5767\n",
      "Epoch 93/100\n",
      "750/750 [==============================] - 209s 278ms/step - loss: 1.4569 - acc: 0.6445 - val_loss: 1.9981 - val_acc: 0.5739\n",
      "Epoch 94/100\n",
      "750/750 [==============================] - 209s 279ms/step - loss: 1.4717 - acc: 0.6399 - val_loss: 2.0250 - val_acc: 0.5714\n",
      "Epoch 95/100\n",
      "750/750 [==============================] - 209s 278ms/step - loss: 1.4402 - acc: 0.6467 - val_loss: 1.9852 - val_acc: 0.5754\n",
      "Epoch 96/100\n",
      "750/750 [==============================] - 208s 277ms/step - loss: 1.4202 - acc: 0.6517 - val_loss: 2.0072 - val_acc: 0.5725\n",
      "Epoch 97/100\n",
      "750/750 [==============================] - 209s 278ms/step - loss: 1.4044 - acc: 0.6539 - val_loss: 1.9880 - val_acc: 0.5748\n",
      "Epoch 98/100\n",
      "750/750 [==============================] - 209s 278ms/step - loss: 1.3848 - acc: 0.6616 - val_loss: 1.9570 - val_acc: 0.5845\n",
      "Epoch 99/100\n",
      "750/750 [==============================] - 209s 278ms/step - loss: 1.3852 - acc: 0.6597 - val_loss: 1.9444 - val_acc: 0.5873\n",
      "Epoch 100/100\n",
      "750/750 [==============================] - 209s 278ms/step - loss: 1.3558 - acc: 0.6621 - val_loss: 1.9570 - val_acc: 0.5803\n"
     ]
    }
   ],
   "source": [
    "history = model1.fit_generator(train_generator, \n",
    "              steps_per_epoch=nb_train_samples / batch_size, \n",
    "              epochs=epochs, \n",
    "              verbose=1, \n",
    "              callbacks = None,\n",
    "              validation_data=test_generator, \n",
    "              validation_steps=nb_validation_samples / batch_size, \n",
    "              class_weight=None, \n",
    "              #max_queue_size=10, \n",
    "              #workers=1, \n",
    "              use_multiprocessing=False, \n",
    "              shuffle=False, \n",
    "              initial_epoch=0)"
   ]
  },
  {
   "cell_type": "markdown",
   "metadata": {
    "colab_type": "text",
    "id": "pTiSO-BRTXIn"
   },
   "source": [
    "0.52"
   ]
  },
  {
   "cell_type": "code",
   "execution_count": 43,
   "metadata": {
    "colab": {
     "base_uri": "https://localhost:8080/",
     "height": 620
    },
    "colab_type": "code",
    "executionInfo": {
     "elapsed": 2471,
     "status": "ok",
     "timestamp": 1541089610346,
     "user": {
      "displayName": "Arnaud Rousseau",
      "photoUrl": "https://lh3.googleusercontent.com/-Mpjc2MGPrQw/AAAAAAAAAAI/AAAAAAAAAA8/M6BM4QHffvQ/s64/photo.jpg",
      "userId": "05695251486119274053"
     },
     "user_tz": -60
    },
    "id": "l9tlc2Ne0JhM",
    "outputId": "f8327562-c611-4407-ad2a-3888864ba93b"
   },
   "outputs": [
    {
     "data": {
      "image/png": "[encoded data removed]",
      "text/plain": [
       "<matplotlib.figure.Figure at 0x7f3916cb6080>"
      ]
     },
     "metadata": {
      "tags": []
     },
     "output_type": "display_data"
    }
   ],
   "source": [
    "fig = plt.figure(figsize=(10,10))\n",
    "\n",
    "# Plot training & validation accuracy values\n",
    "plt.plot(history.history['acc'])\n",
    "plt.plot(history.history['val_acc'])\n",
    "plt.title('Model accuracy')\n",
    "plt.ylabel('Accuracy')\n",
    "plt.xlabel('Epoch')\n",
    "plt.legend(['Train', 'Test'], loc='upper left')\n",
    "plt.show()\n"
   ]
  },
  {
   "cell_type": "code",
   "execution_count": 44,
   "metadata": {
    "colab": {
     "base_uri": "https://localhost:8080/",
     "height": 620
    },
    "colab_type": "code",
    "executionInfo": {
     "elapsed": 738,
     "status": "ok",
     "timestamp": 1541089611905,
     "user": {
      "displayName": "Arnaud Rousseau",
      "photoUrl": "https://lh3.googleusercontent.com/-Mpjc2MGPrQw/AAAAAAAAAAI/AAAAAAAAAA8/M6BM4QHffvQ/s64/photo.jpg",
      "userId": "05695251486119274053"
     },
     "user_tz": -60
    },
    "id": "3fVjmamkR3il",
    "outputId": "72ed4cc7-148c-4194-b2d9-62a09cf5e8e4"
   },
   "outputs": [
    {
     "data": {
      "image/png": "[encoded data removed]",
      "text/plain": [
       "<matplotlib.figure.Figure at 0x7f3916ccc860>"
      ]
     },
     "metadata": {
      "tags": []
     },
     "output_type": "display_data"
    }
   ],
   "source": [
    "fig = plt.figure(figsize=(10,10))\n",
    "\n",
    "# Plot training & validation loss values\n",
    "plt.plot(history.history['loss'])\n",
    "plt.plot(history.history['val_loss'])\n",
    "plt.title('Model loss')\n",
    "plt.ylabel('Loss')\n",
    "plt.xlabel('Epoch')\n",
    "plt.legend(['Train', 'Test'], loc='upper left')\n",
    "plt.show()"
   ]
  }
 ],
 "metadata": {
  "accelerator": "GPU",
  "colab": {
   "collapsed_sections": [],
   "name": "20181031_Dog_Race_Prediction_Transfer_Learning_VGG16_D6_bloc_58.ipynb",
   "provenance": [],
   "version": "0.3.2"
  },
  "kernelspec": {
   "display_name": "Python 3",
   "language": "python",
   "name": "python3"
  },
  "language_info": {
   "codemirror_mode": {
    "name": "ipython",
    "version": 3
   },
   "file_extension": ".py",
   "mimetype": "text/x-python",
   "name": "python",
   "nbconvert_exporter": "python",
   "pygments_lexer": "ipython3",
   "version": "3.6.4"
  }
 },
 "nbformat": 4,
 "nbformat_minor": 1
}
