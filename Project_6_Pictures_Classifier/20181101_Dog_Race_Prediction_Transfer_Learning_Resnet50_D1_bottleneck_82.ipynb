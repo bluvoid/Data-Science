{
 "cells": [
  {
   "cell_type": "markdown",
   "metadata": {
    "colab_type": "text",
    "id": "0KDfd2zI6bU9"
   },
   "source": [
    "# 20181030: Dog Race Prediction with a pre trained Resnet50 (TransferLearning)"
   ]
  },
  {
   "cell_type": "markdown",
   "metadata": {
    "colab_type": "text",
    "id": "PPue_VP86dnc"
   },
   "source": [
    "Transfer Learning on a pre trained resnet50 from ImageNet."
   ]
  },
  {
   "cell_type": "markdown",
   "metadata": {
    "colab_type": "text",
    "id": "8ptAmbYm-ak_"
   },
   "source": [
    "# Import"
   ]
  },
  {
   "cell_type": "code",
   "execution_count": 1,
   "metadata": {
    "colab": {
     "base_uri": "https://localhost:8080/",
     "height": 35
    },
    "colab_type": "code",
    "executionInfo": {
     "elapsed": 1775,
     "status": "ok",
     "timestamp": 1541066667493,
     "user": {
      "displayName": "Arnaud Rousseau",
      "photoUrl": "https://lh3.googleusercontent.com/-Mpjc2MGPrQw/AAAAAAAAAAI/AAAAAAAAAA8/M6BM4QHffvQ/s64/photo.jpg",
      "userId": "05695251486119274053"
     },
     "user_tz": -60
    },
    "id": "arRSgXZi1XDC",
    "outputId": "66c7cb48-573b-48d3-e3c9-bb7fdeaebb4a"
   },
   "outputs": [
    {
     "name": "stderr",
     "output_type": "stream",
     "text": [
      "Using TensorFlow backend.\n"
     ]
    }
   ],
   "source": [
    "import numpy as np\n",
    "import pandas as pd\n",
    "import matplotlib.pyplot as plt\n",
    "import os\n",
    "import sys\n",
    "\n",
    "from keras import models,layers,optimizers\n",
    "from keras.utils import to_categorical\n",
    "from keras.layers import Dense, Flatten, Activation, Dropout, GlobalAveragePooling2D, BatchNormalization, regularizers, Input\n",
    "from keras.models import Model, Sequential \n",
    "from keras.applications.resnet50 import ResNet50, preprocess_input, decode_predictions\n",
    "from keras.preprocessing import image\n",
    "from keras.preprocessing.image import load_img, img_to_array, ImageDataGenerator\n",
    "from keras.callbacks import ModelCheckpoint, LearningRateScheduler, TensorBoard, EarlyStopping\n",
    "\n",
    "import cv2\n",
    "from PIL import Image\n",
    "import skimage\n",
    "from skimage.io import imread, imsave\n",
    "from skimage import transform\n",
    "\n",
    "from bs4 import BeautifulSoup\n",
    "import h5py\n",
    "import xml.etree.ElementTree as ET\n",
    "from google.colab import files\n",
    "import scipy.io as sio\n",
    "import tarfile\n",
    "from six.moves.urllib.request import urlretrieve"
   ]
  },
  {
   "cell_type": "code",
   "execution_count": 0,
   "metadata": {
    "colab": {},
    "colab_type": "code",
    "id": "wvEGs8cp6FNv"
   },
   "outputs": [],
   "source": [
    "#FULL RESTART\n",
    "#!kill -9 -1"
   ]
  },
  {
   "cell_type": "markdown",
   "metadata": {
    "colab_type": "text",
    "id": "ABhNCIjt1kwE"
   },
   "source": [
    "# Misc info"
   ]
  },
  {
   "cell_type": "code",
   "execution_count": 0,
   "metadata": {
    "colab": {},
    "colab_type": "code",
    "id": "dIFtMzKi1XDy"
   },
   "outputs": [],
   "source": [
    "url = 'http://vision.stanford.edu/aditya86/ImageNetDogs/'"
   ]
  },
  {
   "cell_type": "markdown",
   "metadata": {
    "colab_type": "text",
    "id": "iiqO6InU1XDa"
   },
   "source": [
    "# Sub-features"
   ]
  },
  {
   "cell_type": "code",
   "execution_count": 0,
   "metadata": {
    "colab": {},
    "colab_type": "code",
    "id": "gUWi-U3V1XDc"
   },
   "outputs": [],
   "source": [
    "#Create folders\n",
    "def folder_create(path):\n",
    "    os.makedirs(os.path.join(path), exist_ok=True)"
   ]
  },
  {
   "cell_type": "code",
   "execution_count": 0,
   "metadata": {
    "colab": {},
    "colab_type": "code",
    "id": "vCuyJVAw1XDk"
   },
   "outputs": [],
   "source": [
    "#Dowload files\n",
    "def downloadfile(filename, targetloc='.', url=url):\n",
    "    dest_filename = os.path.join(targetloc, filename)\n",
    "    filename, _ = urlretrieve(url + filename, dest_filename)\n",
    "    print(dest_filename, 'created')\n",
    "    return filename"
   ]
  },
  {
   "cell_type": "code",
   "execution_count": 0,
   "metadata": {
    "colab": {},
    "colab_type": "code",
    "id": "3Od66x131XDs"
   },
   "outputs": [],
   "source": [
    "#Extract files\n",
    "def extract(filename, target, location = '.'):   \n",
    "    tar = tarfile.open(filename)\n",
    "    sys.stdout.flush()\n",
    "    tar.extractall(target)\n",
    "    tar.close()\n",
    "    print(filename, 'created')"
   ]
  },
  {
   "cell_type": "markdown",
   "metadata": {
    "colab_type": "text",
    "id": "vMNXOMpI1XDw"
   },
   "source": [
    "# Dataset preparation"
   ]
  },
  {
   "cell_type": "markdown",
   "metadata": {
    "colab_type": "text",
    "id": "ilc2_bqH1XD6"
   },
   "source": [
    "## Folder creation"
   ]
  },
  {
   "cell_type": "code",
   "execution_count": 0,
   "metadata": {
    "colab": {},
    "colab_type": "code",
    "id": "DEI-U-0L1XD8"
   },
   "outputs": [],
   "source": [
    "# Folder creation\n",
    "folder_create('lists')\n",
    "folder_create('train')\n",
    "folder_create('test')\n",
    "folder_create('features')\n",
    "folder_create('Annotation')"
   ]
  },
  {
   "cell_type": "markdown",
   "metadata": {
    "colab_type": "text",
    "id": "fltpfZo01XEE"
   },
   "source": [
    "## Downloading"
   ]
  },
  {
   "cell_type": "code",
   "execution_count": 8,
   "metadata": {
    "colab": {
     "base_uri": "https://localhost:8080/",
     "height": 90
    },
    "colab_type": "code",
    "executionInfo": {
     "elapsed": 15886,
     "status": "ok",
     "timestamp": 1541066686670,
     "user": {
      "displayName": "Arnaud Rousseau",
      "photoUrl": "https://lh3.googleusercontent.com/-Mpjc2MGPrQw/AAAAAAAAAAI/AAAAAAAAAA8/M6BM4QHffvQ/s64/photo.jpg",
      "userId": "05695251486119274053"
     },
     "user_tz": -60
    },
    "id": "cpTjtuPH1XEI",
    "outputId": "27123b03-6b9f-4245-dcf1-3a3cd43e26f4"
   },
   "outputs": [
    {
     "name": "stdout",
     "output_type": "stream",
     "text": [
      "./lists.tar created\n",
      "./annotation.tar created\n",
      "./images.tar created\n"
     ]
    },
    {
     "data": {
      "text/plain": [
       "'./images.tar'"
      ]
     },
     "execution_count": 8,
     "metadata": {
      "tags": []
     },
     "output_type": "execute_result"
    }
   ],
   "source": [
    "#Datadownloading\n",
    "downloadfile('lists.tar')\n",
    "downloadfile('annotation.tar')\n",
    "downloadfile('images.tar')"
   ]
  },
  {
   "cell_type": "markdown",
   "metadata": {
    "colab_type": "text",
    "id": "NO7s7B0N1XEW"
   },
   "source": [
    "## Data preparation"
   ]
  },
  {
   "cell_type": "code",
   "execution_count": 9,
   "metadata": {
    "colab": {
     "base_uri": "https://localhost:8080/",
     "height": 72
    },
    "colab_type": "code",
    "executionInfo": {
     "elapsed": 15222,
     "status": "ok",
     "timestamp": 1541066701985,
     "user": {
      "displayName": "Arnaud Rousseau",
      "photoUrl": "https://lh3.googleusercontent.com/-Mpjc2MGPrQw/AAAAAAAAAAI/AAAAAAAAAA8/M6BM4QHffvQ/s64/photo.jpg",
      "userId": "05695251486119274053"
     },
     "user_tz": -60
    },
    "id": "NLJfsYXh1XEc",
    "outputId": "13116419-d5b5-486f-c51b-ad9b19e64313"
   },
   "outputs": [
    {
     "name": "stdout",
     "output_type": "stream",
     "text": [
      "lists.tar created\n",
      "annotation.tar created\n",
      "images.tar created\n"
     ]
    }
   ],
   "source": [
    "#File extraction\n",
    "extract('lists.tar', target='lists/')\n",
    "extract('annotation.tar', target='.')\n",
    "extract('images.tar', target='.')"
   ]
  },
  {
   "cell_type": "code",
   "execution_count": 10,
   "metadata": {
    "colab": {
     "base_uri": "https://localhost:8080/",
     "height": 54
    },
    "colab_type": "code",
    "executionInfo": {
     "elapsed": 1372,
     "status": "ok",
     "timestamp": 1541066703399,
     "user": {
      "displayName": "Arnaud Rousseau",
      "photoUrl": "https://lh3.googleusercontent.com/-Mpjc2MGPrQw/AAAAAAAAAAI/AAAAAAAAAA8/M6BM4QHffvQ/s64/photo.jpg",
      "userId": "05695251486119274053"
     },
     "user_tz": -60
    },
    "id": "qratOxx21xZI",
    "outputId": "e83a22b5-3c6a-4fc7-8f64-57c1ad5f91ca"
   },
   "outputs": [
    {
     "name": "stdout",
     "output_type": "stream",
     "text": [
      "Annotation\tfeatures  images.tar  lists.tar    test\n",
      "annotation.tar\tImages\t  lists       sample_data  train\n"
     ]
    }
   ],
   "source": [
    "!ls"
   ]
  },
  {
   "cell_type": "code",
   "execution_count": 11,
   "metadata": {
    "colab": {
     "base_uri": "https://localhost:8080/",
     "height": 35
    },
    "colab_type": "code",
    "executionInfo": {
     "elapsed": 1080,
     "status": "ok",
     "timestamp": 1541066704550,
     "user": {
      "displayName": "Arnaud Rousseau",
      "photoUrl": "https://lh3.googleusercontent.com/-Mpjc2MGPrQw/AAAAAAAAAAI/AAAAAAAAAA8/M6BM4QHffvQ/s64/photo.jpg",
      "userId": "05695251486119274053"
     },
     "user_tz": -60
    },
    "id": "Lqy8bsCW1XEm",
    "outputId": "a1f21390-3eb6-43cf-9b12-9378a9e631c4"
   },
   "outputs": [
    {
     "data": {
      "text/plain": [
       "dict_keys(['__header__', '__version__', '__globals__', 'file_list', 'annotation_list', 'labels'])"
      ]
     },
     "execution_count": 11,
     "metadata": {
      "tags": []
     },
     "output_type": "execute_result"
    }
   ],
   "source": [
    "test_list = sio.loadmat('lists/test_list.mat')\n",
    "train_list = sio.loadmat('lists/train_list.mat')\n",
    "test_list.keys()"
   ]
  },
  {
   "cell_type": "code",
   "execution_count": 0,
   "metadata": {
    "colab": {},
    "colab_type": "code",
    "id": "GPDJo0R91XEy"
   },
   "outputs": [],
   "source": [
    "def spreadfiles(listmat, serie=None, annotation='Annotation', images='Images'):\n",
    "    counter = 0\n",
    "    for filepath in listmat['file_list']:\n",
    "        counter +=1\n",
    "        if counter % 1500 == 0:\n",
    "            print(f'{counter} files done')\n",
    "        cleanedfilepath = filepath[0][0]\n",
    "        filename = os.path.split(cleanedfilepath)[-1].split('.')[0]\n",
    "        foldername = os.path.split(cleanedfilepath)[0]\n",
    "        details = {}\n",
    "        with open(os.path.join(annotation, foldername, filename), 'r', encoding='utf-8') as f:\n",
    "            soup = BeautifulSoup(f, 'html.parser')\n",
    "            dog = soup.find('object')\n",
    "            details['xmin'] = int(dog.xmin.string)\n",
    "            details['xmax'] = int(dog.xmax.string)\n",
    "            details['ymin'] = int(dog.ymin.string)\n",
    "            details['ymax'] = int(dog.ymax.string)\n",
    "        image_data = imread(os.path.join(images, foldername, f'{filename}.jpg'))\n",
    "        new_image_data = image_data[details['ymin']:details['ymax'],details['xmin']:details['xmax'],:]\n",
    "        newpath = os.path.join(serie, foldername)\n",
    "        folder_create(newpath)\n",
    "        try:\n",
    "            imsave(os.path.join(newpath, f'{filename}.jpg'), new_image_data)\n",
    "        except:\n",
    "            print(f'problem with {filename} :-(')"
   ]
  },
  {
   "cell_type": "code",
   "execution_count": 13,
   "metadata": {
    "colab": {
     "base_uri": "https://localhost:8080/",
     "height": 199
    },
    "colab_type": "code",
    "executionInfo": {
     "elapsed": 190632,
     "status": "ok",
     "timestamp": 1541066895774,
     "user": {
      "displayName": "Arnaud Rousseau",
      "photoUrl": "https://lh3.googleusercontent.com/-Mpjc2MGPrQw/AAAAAAAAAAI/AAAAAAAAAA8/M6BM4QHffvQ/s64/photo.jpg",
      "userId": "05695251486119274053"
     },
     "user_tz": -60
    },
    "id": "IAw1LqF5EYpC",
    "outputId": "14248817-a75c-4ed8-bd1e-3d675a228673"
   },
   "outputs": [
    {
     "name": "stdout",
     "output_type": "stream",
     "text": [
      "1500 files done\n",
      "3000 files done\n",
      "4500 files done\n",
      "6000 files done\n",
      "7500 files done\n",
      "9000 files done\n",
      "10500 files done\n",
      "12000 files done\n",
      "CPU times: user 3min 1s, sys: 7.79 s, total: 3min 9s\n",
      "Wall time: 3min 10s\n"
     ]
    }
   ],
   "source": [
    "%%time\n",
    "spreadfiles(train_list, serie='train')"
   ]
  },
  {
   "cell_type": "code",
   "execution_count": 14,
   "metadata": {
    "colab": {
     "base_uri": "https://localhost:8080/",
     "height": 145
    },
    "colab_type": "code",
    "executionInfo": {
     "elapsed": 133792,
     "status": "ok",
     "timestamp": 1541067029665,
     "user": {
      "displayName": "Arnaud Rousseau",
      "photoUrl": "https://lh3.googleusercontent.com/-Mpjc2MGPrQw/AAAAAAAAAAI/AAAAAAAAAA8/M6BM4QHffvQ/s64/photo.jpg",
      "userId": "05695251486119274053"
     },
     "user_tz": -60
    },
    "id": "N4dYeuYC1XE6",
    "outputId": "99aeee39-ab8d-4bb7-d862-58a9d1771e79"
   },
   "outputs": [
    {
     "name": "stdout",
     "output_type": "stream",
     "text": [
      "1500 files done\n",
      "3000 files done\n",
      "4500 files done\n",
      "6000 files done\n",
      "7500 files done\n",
      "CPU times: user 2min 9s, sys: 3.33 s, total: 2min 13s\n",
      "Wall time: 2min 13s\n"
     ]
    }
   ],
   "source": [
    "%%time\n",
    "spreadfiles(test_list, serie='test')"
   ]
  },
  {
   "cell_type": "markdown",
   "metadata": {
    "colab_type": "text",
    "id": "YX7HB81q5jvN"
   },
   "source": [
    "# NN creation: Restnet50 without Top Layer  = \"model0\""
   ]
  },
  {
   "cell_type": "markdown",
   "metadata": {
    "colab_type": "text",
    "id": "ldJbDorn-ZYT"
   },
   "source": [
    "Features Extraction :  no layers training. For small dataset and similar to original dataset"
   ]
  },
  {
   "cell_type": "code",
   "execution_count": 15,
   "metadata": {
    "colab": {
     "base_uri": "https://localhost:8080/",
     "height": 54
    },
    "colab_type": "code",
    "executionInfo": {
     "elapsed": 12960,
     "status": "ok",
     "timestamp": 1541067042688,
     "user": {
      "displayName": "Arnaud Rousseau",
      "photoUrl": "https://lh3.googleusercontent.com/-Mpjc2MGPrQw/AAAAAAAAAAI/AAAAAAAAAA8/M6BM4QHffvQ/s64/photo.jpg",
      "userId": "05695251486119274053"
     },
     "user_tz": -60
    },
    "id": "OkqLzYrahbRw",
    "outputId": "f2b9cd9e-f864-4c03-9feb-1e6f6496c8ea"
   },
   "outputs": [
    {
     "name": "stdout",
     "output_type": "stream",
     "text": [
      "Downloading data from https://github.com/fchollet/deep-learning-models/releases/download/v0.2/resnet50_weights_tf_dim_ordering_tf_kernels_notop.h5\n",
      "94658560/94653016 [==============================] - 1s 0us/step\n"
     ]
    }
   ],
   "source": [
    "model0 = ResNet50(weights=\"imagenet\",\n",
    "                  include_top=False, \n",
    "                  input_shape=(224, 224, 3),\n",
    "                  pooling = 'avg'\n",
    "                 )"
   ]
  },
  {
   "cell_type": "code",
   "execution_count": 0,
   "metadata": {
    "colab": {},
    "colab_type": "code",
    "id": "1GEdc2pDtzuu"
   },
   "outputs": [],
   "source": [
    "model0.compile(loss = \"categorical_crossentropy\", \n",
    "              optimizer = 'sgd',\n",
    "              metrics=[\"accuracy\"])"
   ]
  },
  {
   "cell_type": "code",
   "execution_count": 0,
   "metadata": {
    "colab": {},
    "colab_type": "code",
    "id": "4nmNPlA-F934"
   },
   "outputs": [],
   "source": [
    "sauvegarde0 = model0.save('sauvegarde_0.h5')"
   ]
  },
  {
   "cell_type": "code",
   "execution_count": 0,
   "metadata": {
    "colab": {},
    "colab_type": "code",
    "id": "2WYuRHqIGBDp"
   },
   "outputs": [],
   "source": [
    "files.download('sauvegarde_0.h5')"
   ]
  },
  {
   "cell_type": "code",
   "execution_count": 19,
   "metadata": {
    "colab": {
     "base_uri": "https://localhost:8080/",
     "height": 6835
    },
    "colab_type": "code",
    "executionInfo": {
     "elapsed": 964,
     "status": "ok",
     "timestamp": 1541067060295,
     "user": {
      "displayName": "Arnaud Rousseau",
      "photoUrl": "https://lh3.googleusercontent.com/-Mpjc2MGPrQw/AAAAAAAAAAI/AAAAAAAAAA8/M6BM4QHffvQ/s64/photo.jpg",
      "userId": "05695251486119274053"
     },
     "user_tz": -60
    },
    "id": "_-scB_Jfhe4O",
    "outputId": "072dd98a-bd7b-480c-954d-01d07cf2b70f"
   },
   "outputs": [
    {
     "name": "stdout",
     "output_type": "stream",
     "text": [
      "__________________________________________________________________________________________________\n",
      "Layer (type)                    Output Shape         Param #     Connected to                     \n",
      "==================================================================================================\n",
      "input_1 (InputLayer)            (None, 224, 224, 3)  0                                            \n",
      "__________________________________________________________________________________________________\n",
      "conv1_pad (ZeroPadding2D)       (None, 230, 230, 3)  0           input_1[0][0]                    \n",
      "__________________________________________________________________________________________________\n",
      "conv1 (Conv2D)                  (None, 112, 112, 64) 9472        conv1_pad[0][0]                  \n",
      "__________________________________________________________________________________________________\n",
      "bn_conv1 (BatchNormalization)   (None, 112, 112, 64) 256         conv1[0][0]                      \n",
      "__________________________________________________________________________________________________\n",
      "activation_1 (Activation)       (None, 112, 112, 64) 0           bn_conv1[0][0]                   \n",
      "__________________________________________________________________________________________________\n",
      "max_pooling2d_1 (MaxPooling2D)  (None, 55, 55, 64)   0           activation_1[0][0]               \n",
      "__________________________________________________________________________________________________\n",
      "res2a_branch2a (Conv2D)         (None, 55, 55, 64)   4160        max_pooling2d_1[0][0]            \n",
      "__________________________________________________________________________________________________\n",
      "bn2a_branch2a (BatchNormalizati (None, 55, 55, 64)   256         res2a_branch2a[0][0]             \n",
      "__________________________________________________________________________________________________\n",
      "activation_2 (Activation)       (None, 55, 55, 64)   0           bn2a_branch2a[0][0]              \n",
      "__________________________________________________________________________________________________\n",
      "res2a_branch2b (Conv2D)         (None, 55, 55, 64)   36928       activation_2[0][0]               \n",
      "__________________________________________________________________________________________________\n",
      "bn2a_branch2b (BatchNormalizati (None, 55, 55, 64)   256         res2a_branch2b[0][0]             \n",
      "__________________________________________________________________________________________________\n",
      "activation_3 (Activation)       (None, 55, 55, 64)   0           bn2a_branch2b[0][0]              \n",
      "__________________________________________________________________________________________________\n",
      "res2a_branch2c (Conv2D)         (None, 55, 55, 256)  16640       activation_3[0][0]               \n",
      "__________________________________________________________________________________________________\n",
      "res2a_branch1 (Conv2D)          (None, 55, 55, 256)  16640       max_pooling2d_1[0][0]            \n",
      "__________________________________________________________________________________________________\n",
      "bn2a_branch2c (BatchNormalizati (None, 55, 55, 256)  1024        res2a_branch2c[0][0]             \n",
      "__________________________________________________________________________________________________\n",
      "bn2a_branch1 (BatchNormalizatio (None, 55, 55, 256)  1024        res2a_branch1[0][0]              \n",
      "__________________________________________________________________________________________________\n",
      "add_1 (Add)                     (None, 55, 55, 256)  0           bn2a_branch2c[0][0]              \n",
      "                                                                 bn2a_branch1[0][0]               \n",
      "__________________________________________________________________________________________________\n",
      "activation_4 (Activation)       (None, 55, 55, 256)  0           add_1[0][0]                      \n",
      "__________________________________________________________________________________________________\n",
      "res2b_branch2a (Conv2D)         (None, 55, 55, 64)   16448       activation_4[0][0]               \n",
      "__________________________________________________________________________________________________\n",
      "bn2b_branch2a (BatchNormalizati (None, 55, 55, 64)   256         res2b_branch2a[0][0]             \n",
      "__________________________________________________________________________________________________\n",
      "activation_5 (Activation)       (None, 55, 55, 64)   0           bn2b_branch2a[0][0]              \n",
      "__________________________________________________________________________________________________\n",
      "res2b_branch2b (Conv2D)         (None, 55, 55, 64)   36928       activation_5[0][0]               \n",
      "__________________________________________________________________________________________________\n",
      "bn2b_branch2b (BatchNormalizati (None, 55, 55, 64)   256         res2b_branch2b[0][0]             \n",
      "__________________________________________________________________________________________________\n",
      "activation_6 (Activation)       (None, 55, 55, 64)   0           bn2b_branch2b[0][0]              \n",
      "__________________________________________________________________________________________________\n",
      "res2b_branch2c (Conv2D)         (None, 55, 55, 256)  16640       activation_6[0][0]               \n",
      "__________________________________________________________________________________________________\n",
      "bn2b_branch2c (BatchNormalizati (None, 55, 55, 256)  1024        res2b_branch2c[0][0]             \n",
      "__________________________________________________________________________________________________\n",
      "add_2 (Add)                     (None, 55, 55, 256)  0           bn2b_branch2c[0][0]              \n",
      "                                                                 activation_4[0][0]               \n",
      "__________________________________________________________________________________________________\n",
      "activation_7 (Activation)       (None, 55, 55, 256)  0           add_2[0][0]                      \n",
      "__________________________________________________________________________________________________\n",
      "res2c_branch2a (Conv2D)         (None, 55, 55, 64)   16448       activation_7[0][0]               \n",
      "__________________________________________________________________________________________________\n",
      "bn2c_branch2a (BatchNormalizati (None, 55, 55, 64)   256         res2c_branch2a[0][0]             \n",
      "__________________________________________________________________________________________________\n",
      "activation_8 (Activation)       (None, 55, 55, 64)   0           bn2c_branch2a[0][0]              \n",
      "__________________________________________________________________________________________________\n",
      "res2c_branch2b (Conv2D)         (None, 55, 55, 64)   36928       activation_8[0][0]               \n",
      "__________________________________________________________________________________________________\n",
      "bn2c_branch2b (BatchNormalizati (None, 55, 55, 64)   256         res2c_branch2b[0][0]             \n",
      "__________________________________________________________________________________________________\n",
      "activation_9 (Activation)       (None, 55, 55, 64)   0           bn2c_branch2b[0][0]              \n",
      "__________________________________________________________________________________________________\n",
      "res2c_branch2c (Conv2D)         (None, 55, 55, 256)  16640       activation_9[0][0]               \n",
      "__________________________________________________________________________________________________\n",
      "bn2c_branch2c (BatchNormalizati (None, 55, 55, 256)  1024        res2c_branch2c[0][0]             \n",
      "__________________________________________________________________________________________________\n",
      "add_3 (Add)                     (None, 55, 55, 256)  0           bn2c_branch2c[0][0]              \n",
      "                                                                 activation_7[0][0]               \n",
      "__________________________________________________________________________________________________\n",
      "activation_10 (Activation)      (None, 55, 55, 256)  0           add_3[0][0]                      \n",
      "__________________________________________________________________________________________________\n",
      "res3a_branch2a (Conv2D)         (None, 28, 28, 128)  32896       activation_10[0][0]              \n",
      "__________________________________________________________________________________________________\n",
      "bn3a_branch2a (BatchNormalizati (None, 28, 28, 128)  512         res3a_branch2a[0][0]             \n",
      "__________________________________________________________________________________________________\n",
      "activation_11 (Activation)      (None, 28, 28, 128)  0           bn3a_branch2a[0][0]              \n",
      "__________________________________________________________________________________________________\n",
      "res3a_branch2b (Conv2D)         (None, 28, 28, 128)  147584      activation_11[0][0]              \n",
      "__________________________________________________________________________________________________\n",
      "bn3a_branch2b (BatchNormalizati (None, 28, 28, 128)  512         res3a_branch2b[0][0]             \n",
      "__________________________________________________________________________________________________\n",
      "activation_12 (Activation)      (None, 28, 28, 128)  0           bn3a_branch2b[0][0]              \n",
      "__________________________________________________________________________________________________\n",
      "res3a_branch2c (Conv2D)         (None, 28, 28, 512)  66048       activation_12[0][0]              \n",
      "__________________________________________________________________________________________________\n",
      "res3a_branch1 (Conv2D)          (None, 28, 28, 512)  131584      activation_10[0][0]              \n",
      "__________________________________________________________________________________________________\n",
      "bn3a_branch2c (BatchNormalizati (None, 28, 28, 512)  2048        res3a_branch2c[0][0]             \n",
      "__________________________________________________________________________________________________\n",
      "bn3a_branch1 (BatchNormalizatio (None, 28, 28, 512)  2048        res3a_branch1[0][0]              \n",
      "__________________________________________________________________________________________________\n",
      "add_4 (Add)                     (None, 28, 28, 512)  0           bn3a_branch2c[0][0]              \n",
      "                                                                 bn3a_branch1[0][0]               \n",
      "__________________________________________________________________________________________________\n",
      "activation_13 (Activation)      (None, 28, 28, 512)  0           add_4[0][0]                      \n",
      "__________________________________________________________________________________________________\n",
      "res3b_branch2a (Conv2D)         (None, 28, 28, 128)  65664       activation_13[0][0]              \n",
      "__________________________________________________________________________________________________\n",
      "bn3b_branch2a (BatchNormalizati (None, 28, 28, 128)  512         res3b_branch2a[0][0]             \n",
      "__________________________________________________________________________________________________\n",
      "activation_14 (Activation)      (None, 28, 28, 128)  0           bn3b_branch2a[0][0]              \n",
      "__________________________________________________________________________________________________\n",
      "res3b_branch2b (Conv2D)         (None, 28, 28, 128)  147584      activation_14[0][0]              \n",
      "__________________________________________________________________________________________________\n",
      "bn3b_branch2b (BatchNormalizati (None, 28, 28, 128)  512         res3b_branch2b[0][0]             \n",
      "__________________________________________________________________________________________________\n",
      "activation_15 (Activation)      (None, 28, 28, 128)  0           bn3b_branch2b[0][0]              \n",
      "__________________________________________________________________________________________________\n",
      "res3b_branch2c (Conv2D)         (None, 28, 28, 512)  66048       activation_15[0][0]              \n",
      "__________________________________________________________________________________________________\n",
      "bn3b_branch2c (BatchNormalizati (None, 28, 28, 512)  2048        res3b_branch2c[0][0]             \n",
      "__________________________________________________________________________________________________\n",
      "add_5 (Add)                     (None, 28, 28, 512)  0           bn3b_branch2c[0][0]              \n",
      "                                                                 activation_13[0][0]              \n",
      "__________________________________________________________________________________________________\n",
      "activation_16 (Activation)      (None, 28, 28, 512)  0           add_5[0][0]                      \n",
      "__________________________________________________________________________________________________\n",
      "res3c_branch2a (Conv2D)         (None, 28, 28, 128)  65664       activation_16[0][0]              \n",
      "__________________________________________________________________________________________________\n",
      "bn3c_branch2a (BatchNormalizati (None, 28, 28, 128)  512         res3c_branch2a[0][0]             \n",
      "__________________________________________________________________________________________________\n",
      "activation_17 (Activation)      (None, 28, 28, 128)  0           bn3c_branch2a[0][0]              \n",
      "__________________________________________________________________________________________________\n",
      "res3c_branch2b (Conv2D)         (None, 28, 28, 128)  147584      activation_17[0][0]              \n",
      "__________________________________________________________________________________________________\n",
      "bn3c_branch2b (BatchNormalizati (None, 28, 28, 128)  512         res3c_branch2b[0][0]             \n",
      "__________________________________________________________________________________________________\n",
      "activation_18 (Activation)      (None, 28, 28, 128)  0           bn3c_branch2b[0][0]              \n",
      "__________________________________________________________________________________________________\n",
      "res3c_branch2c (Conv2D)         (None, 28, 28, 512)  66048       activation_18[0][0]              \n",
      "__________________________________________________________________________________________________\n",
      "bn3c_branch2c (BatchNormalizati (None, 28, 28, 512)  2048        res3c_branch2c[0][0]             \n",
      "__________________________________________________________________________________________________\n",
      "add_6 (Add)                     (None, 28, 28, 512)  0           bn3c_branch2c[0][0]              \n",
      "                                                                 activation_16[0][0]              \n",
      "__________________________________________________________________________________________________\n",
      "activation_19 (Activation)      (None, 28, 28, 512)  0           add_6[0][0]                      \n",
      "__________________________________________________________________________________________________\n",
      "res3d_branch2a (Conv2D)         (None, 28, 28, 128)  65664       activation_19[0][0]              \n",
      "__________________________________________________________________________________________________\n",
      "bn3d_branch2a (BatchNormalizati (None, 28, 28, 128)  512         res3d_branch2a[0][0]             \n",
      "__________________________________________________________________________________________________\n",
      "activation_20 (Activation)      (None, 28, 28, 128)  0           bn3d_branch2a[0][0]              \n",
      "__________________________________________________________________________________________________\n",
      "res3d_branch2b (Conv2D)         (None, 28, 28, 128)  147584      activation_20[0][0]              \n",
      "__________________________________________________________________________________________________\n",
      "bn3d_branch2b (BatchNormalizati (None, 28, 28, 128)  512         res3d_branch2b[0][0]             \n",
      "__________________________________________________________________________________________________\n",
      "activation_21 (Activation)      (None, 28, 28, 128)  0           bn3d_branch2b[0][0]              \n",
      "__________________________________________________________________________________________________\n",
      "res3d_branch2c (Conv2D)         (None, 28, 28, 512)  66048       activation_21[0][0]              \n",
      "__________________________________________________________________________________________________\n",
      "bn3d_branch2c (BatchNormalizati (None, 28, 28, 512)  2048        res3d_branch2c[0][0]             \n",
      "__________________________________________________________________________________________________\n",
      "add_7 (Add)                     (None, 28, 28, 512)  0           bn3d_branch2c[0][0]              \n",
      "                                                                 activation_19[0][0]              \n",
      "__________________________________________________________________________________________________\n",
      "activation_22 (Activation)      (None, 28, 28, 512)  0           add_7[0][0]                      \n",
      "__________________________________________________________________________________________________\n",
      "res4a_branch2a (Conv2D)         (None, 14, 14, 256)  131328      activation_22[0][0]              \n",
      "__________________________________________________________________________________________________\n",
      "bn4a_branch2a (BatchNormalizati (None, 14, 14, 256)  1024        res4a_branch2a[0][0]             \n",
      "__________________________________________________________________________________________________\n",
      "activation_23 (Activation)      (None, 14, 14, 256)  0           bn4a_branch2a[0][0]              \n",
      "__________________________________________________________________________________________________\n",
      "res4a_branch2b (Conv2D)         (None, 14, 14, 256)  590080      activation_23[0][0]              \n",
      "__________________________________________________________________________________________________\n",
      "bn4a_branch2b (BatchNormalizati (None, 14, 14, 256)  1024        res4a_branch2b[0][0]             \n",
      "__________________________________________________________________________________________________\n",
      "activation_24 (Activation)      (None, 14, 14, 256)  0           bn4a_branch2b[0][0]              \n",
      "__________________________________________________________________________________________________\n",
      "res4a_branch2c (Conv2D)         (None, 14, 14, 1024) 263168      activation_24[0][0]              \n",
      "__________________________________________________________________________________________________\n",
      "res4a_branch1 (Conv2D)          (None, 14, 14, 1024) 525312      activation_22[0][0]              \n",
      "__________________________________________________________________________________________________\n",
      "bn4a_branch2c (BatchNormalizati (None, 14, 14, 1024) 4096        res4a_branch2c[0][0]             \n",
      "__________________________________________________________________________________________________\n",
      "bn4a_branch1 (BatchNormalizatio (None, 14, 14, 1024) 4096        res4a_branch1[0][0]              \n",
      "__________________________________________________________________________________________________\n",
      "add_8 (Add)                     (None, 14, 14, 1024) 0           bn4a_branch2c[0][0]              \n",
      "                                                                 bn4a_branch1[0][0]               \n",
      "__________________________________________________________________________________________________\n",
      "activation_25 (Activation)      (None, 14, 14, 1024) 0           add_8[0][0]                      \n",
      "__________________________________________________________________________________________________\n",
      "res4b_branch2a (Conv2D)         (None, 14, 14, 256)  262400      activation_25[0][0]              \n",
      "__________________________________________________________________________________________________\n",
      "bn4b_branch2a (BatchNormalizati (None, 14, 14, 256)  1024        res4b_branch2a[0][0]             \n",
      "__________________________________________________________________________________________________\n",
      "activation_26 (Activation)      (None, 14, 14, 256)  0           bn4b_branch2a[0][0]              \n",
      "__________________________________________________________________________________________________\n",
      "res4b_branch2b (Conv2D)         (None, 14, 14, 256)  590080      activation_26[0][0]              \n",
      "__________________________________________________________________________________________________\n",
      "bn4b_branch2b (BatchNormalizati (None, 14, 14, 256)  1024        res4b_branch2b[0][0]             \n",
      "__________________________________________________________________________________________________\n",
      "activation_27 (Activation)      (None, 14, 14, 256)  0           bn4b_branch2b[0][0]              \n",
      "__________________________________________________________________________________________________\n",
      "res4b_branch2c (Conv2D)         (None, 14, 14, 1024) 263168      activation_27[0][0]              \n",
      "__________________________________________________________________________________________________\n",
      "bn4b_branch2c (BatchNormalizati (None, 14, 14, 1024) 4096        res4b_branch2c[0][0]             \n",
      "__________________________________________________________________________________________________\n",
      "add_9 (Add)                     (None, 14, 14, 1024) 0           bn4b_branch2c[0][0]              \n",
      "                                                                 activation_25[0][0]              \n",
      "__________________________________________________________________________________________________\n",
      "activation_28 (Activation)      (None, 14, 14, 1024) 0           add_9[0][0]                      \n",
      "__________________________________________________________________________________________________\n",
      "res4c_branch2a (Conv2D)         (None, 14, 14, 256)  262400      activation_28[0][0]              \n",
      "__________________________________________________________________________________________________\n",
      "bn4c_branch2a (BatchNormalizati (None, 14, 14, 256)  1024        res4c_branch2a[0][0]             \n",
      "__________________________________________________________________________________________________\n",
      "activation_29 (Activation)      (None, 14, 14, 256)  0           bn4c_branch2a[0][0]              \n",
      "__________________________________________________________________________________________________\n",
      "res4c_branch2b (Conv2D)         (None, 14, 14, 256)  590080      activation_29[0][0]              \n",
      "__________________________________________________________________________________________________\n",
      "bn4c_branch2b (BatchNormalizati (None, 14, 14, 256)  1024        res4c_branch2b[0][0]             \n",
      "__________________________________________________________________________________________________\n",
      "activation_30 (Activation)      (None, 14, 14, 256)  0           bn4c_branch2b[0][0]              \n",
      "__________________________________________________________________________________________________\n",
      "res4c_branch2c (Conv2D)         (None, 14, 14, 1024) 263168      activation_30[0][0]              \n",
      "__________________________________________________________________________________________________\n",
      "bn4c_branch2c (BatchNormalizati (None, 14, 14, 1024) 4096        res4c_branch2c[0][0]             \n",
      "__________________________________________________________________________________________________\n",
      "add_10 (Add)                    (None, 14, 14, 1024) 0           bn4c_branch2c[0][0]              \n",
      "                                                                 activation_28[0][0]              \n",
      "__________________________________________________________________________________________________\n",
      "activation_31 (Activation)      (None, 14, 14, 1024) 0           add_10[0][0]                     \n",
      "__________________________________________________________________________________________________\n",
      "res4d_branch2a (Conv2D)         (None, 14, 14, 256)  262400      activation_31[0][0]              \n",
      "__________________________________________________________________________________________________\n",
      "bn4d_branch2a (BatchNormalizati (None, 14, 14, 256)  1024        res4d_branch2a[0][0]             \n",
      "__________________________________________________________________________________________________\n",
      "activation_32 (Activation)      (None, 14, 14, 256)  0           bn4d_branch2a[0][0]              \n",
      "__________________________________________________________________________________________________\n",
      "res4d_branch2b (Conv2D)         (None, 14, 14, 256)  590080      activation_32[0][0]              \n",
      "__________________________________________________________________________________________________\n",
      "bn4d_branch2b (BatchNormalizati (None, 14, 14, 256)  1024        res4d_branch2b[0][0]             \n",
      "__________________________________________________________________________________________________\n",
      "activation_33 (Activation)      (None, 14, 14, 256)  0           bn4d_branch2b[0][0]              \n",
      "__________________________________________________________________________________________________\n",
      "res4d_branch2c (Conv2D)         (None, 14, 14, 1024) 263168      activation_33[0][0]              \n",
      "__________________________________________________________________________________________________\n",
      "bn4d_branch2c (BatchNormalizati (None, 14, 14, 1024) 4096        res4d_branch2c[0][0]             \n",
      "__________________________________________________________________________________________________\n",
      "add_11 (Add)                    (None, 14, 14, 1024) 0           bn4d_branch2c[0][0]              \n",
      "                                                                 activation_31[0][0]              \n",
      "__________________________________________________________________________________________________\n",
      "activation_34 (Activation)      (None, 14, 14, 1024) 0           add_11[0][0]                     \n",
      "__________________________________________________________________________________________________\n",
      "res4e_branch2a (Conv2D)         (None, 14, 14, 256)  262400      activation_34[0][0]              \n",
      "__________________________________________________________________________________________________\n",
      "bn4e_branch2a (BatchNormalizati (None, 14, 14, 256)  1024        res4e_branch2a[0][0]             \n",
      "__________________________________________________________________________________________________\n",
      "activation_35 (Activation)      (None, 14, 14, 256)  0           bn4e_branch2a[0][0]              \n",
      "__________________________________________________________________________________________________\n",
      "res4e_branch2b (Conv2D)         (None, 14, 14, 256)  590080      activation_35[0][0]              \n",
      "__________________________________________________________________________________________________\n",
      "bn4e_branch2b (BatchNormalizati (None, 14, 14, 256)  1024        res4e_branch2b[0][0]             \n",
      "__________________________________________________________________________________________________\n",
      "activation_36 (Activation)      (None, 14, 14, 256)  0           bn4e_branch2b[0][0]              \n",
      "__________________________________________________________________________________________________\n",
      "res4e_branch2c (Conv2D)         (None, 14, 14, 1024) 263168      activation_36[0][0]              \n",
      "__________________________________________________________________________________________________\n",
      "bn4e_branch2c (BatchNormalizati (None, 14, 14, 1024) 4096        res4e_branch2c[0][0]             \n",
      "__________________________________________________________________________________________________\n",
      "add_12 (Add)                    (None, 14, 14, 1024) 0           bn4e_branch2c[0][0]              \n",
      "                                                                 activation_34[0][0]              \n",
      "__________________________________________________________________________________________________\n",
      "activation_37 (Activation)      (None, 14, 14, 1024) 0           add_12[0][0]                     \n",
      "__________________________________________________________________________________________________\n",
      "res4f_branch2a (Conv2D)         (None, 14, 14, 256)  262400      activation_37[0][0]              \n",
      "__________________________________________________________________________________________________\n",
      "bn4f_branch2a (BatchNormalizati (None, 14, 14, 256)  1024        res4f_branch2a[0][0]             \n",
      "__________________________________________________________________________________________________\n",
      "activation_38 (Activation)      (None, 14, 14, 256)  0           bn4f_branch2a[0][0]              \n",
      "__________________________________________________________________________________________________\n",
      "res4f_branch2b (Conv2D)         (None, 14, 14, 256)  590080      activation_38[0][0]              \n",
      "__________________________________________________________________________________________________\n",
      "bn4f_branch2b (BatchNormalizati (None, 14, 14, 256)  1024        res4f_branch2b[0][0]             \n",
      "__________________________________________________________________________________________________\n",
      "activation_39 (Activation)      (None, 14, 14, 256)  0           bn4f_branch2b[0][0]              \n",
      "__________________________________________________________________________________________________\n",
      "res4f_branch2c (Conv2D)         (None, 14, 14, 1024) 263168      activation_39[0][0]              \n",
      "__________________________________________________________________________________________________\n",
      "bn4f_branch2c (BatchNormalizati (None, 14, 14, 1024) 4096        res4f_branch2c[0][0]             \n",
      "__________________________________________________________________________________________________\n",
      "add_13 (Add)                    (None, 14, 14, 1024) 0           bn4f_branch2c[0][0]              \n",
      "                                                                 activation_37[0][0]              \n",
      "__________________________________________________________________________________________________\n",
      "activation_40 (Activation)      (None, 14, 14, 1024) 0           add_13[0][0]                     \n",
      "__________________________________________________________________________________________________\n",
      "res5a_branch2a (Conv2D)         (None, 7, 7, 512)    524800      activation_40[0][0]              \n",
      "__________________________________________________________________________________________________\n",
      "bn5a_branch2a (BatchNormalizati (None, 7, 7, 512)    2048        res5a_branch2a[0][0]             \n",
      "__________________________________________________________________________________________________\n",
      "activation_41 (Activation)      (None, 7, 7, 512)    0           bn5a_branch2a[0][0]              \n",
      "__________________________________________________________________________________________________\n",
      "res5a_branch2b (Conv2D)         (None, 7, 7, 512)    2359808     activation_41[0][0]              \n",
      "__________________________________________________________________________________________________\n",
      "bn5a_branch2b (BatchNormalizati (None, 7, 7, 512)    2048        res5a_branch2b[0][0]             \n",
      "__________________________________________________________________________________________________\n",
      "activation_42 (Activation)      (None, 7, 7, 512)    0           bn5a_branch2b[0][0]              \n",
      "__________________________________________________________________________________________________\n",
      "res5a_branch2c (Conv2D)         (None, 7, 7, 2048)   1050624     activation_42[0][0]              \n",
      "__________________________________________________________________________________________________\n",
      "res5a_branch1 (Conv2D)          (None, 7, 7, 2048)   2099200     activation_40[0][0]              \n",
      "__________________________________________________________________________________________________\n",
      "bn5a_branch2c (BatchNormalizati (None, 7, 7, 2048)   8192        res5a_branch2c[0][0]             \n",
      "__________________________________________________________________________________________________\n",
      "bn5a_branch1 (BatchNormalizatio (None, 7, 7, 2048)   8192        res5a_branch1[0][0]              \n",
      "__________________________________________________________________________________________________\n",
      "add_14 (Add)                    (None, 7, 7, 2048)   0           bn5a_branch2c[0][0]              \n",
      "                                                                 bn5a_branch1[0][0]               \n",
      "__________________________________________________________________________________________________\n",
      "activation_43 (Activation)      (None, 7, 7, 2048)   0           add_14[0][0]                     \n",
      "__________________________________________________________________________________________________\n",
      "res5b_branch2a (Conv2D)         (None, 7, 7, 512)    1049088     activation_43[0][0]              \n",
      "__________________________________________________________________________________________________\n",
      "bn5b_branch2a (BatchNormalizati (None, 7, 7, 512)    2048        res5b_branch2a[0][0]             \n",
      "__________________________________________________________________________________________________\n",
      "activation_44 (Activation)      (None, 7, 7, 512)    0           bn5b_branch2a[0][0]              \n",
      "__________________________________________________________________________________________________\n",
      "res5b_branch2b (Conv2D)         (None, 7, 7, 512)    2359808     activation_44[0][0]              \n",
      "__________________________________________________________________________________________________\n",
      "bn5b_branch2b (BatchNormalizati (None, 7, 7, 512)    2048        res5b_branch2b[0][0]             \n",
      "__________________________________________________________________________________________________\n",
      "activation_45 (Activation)      (None, 7, 7, 512)    0           bn5b_branch2b[0][0]              \n",
      "__________________________________________________________________________________________________\n",
      "res5b_branch2c (Conv2D)         (None, 7, 7, 2048)   1050624     activation_45[0][0]              \n",
      "__________________________________________________________________________________________________\n",
      "bn5b_branch2c (BatchNormalizati (None, 7, 7, 2048)   8192        res5b_branch2c[0][0]             \n",
      "__________________________________________________________________________________________________\n",
      "add_15 (Add)                    (None, 7, 7, 2048)   0           bn5b_branch2c[0][0]              \n",
      "                                                                 activation_43[0][0]              \n",
      "__________________________________________________________________________________________________\n",
      "activation_46 (Activation)      (None, 7, 7, 2048)   0           add_15[0][0]                     \n",
      "__________________________________________________________________________________________________\n",
      "res5c_branch2a (Conv2D)         (None, 7, 7, 512)    1049088     activation_46[0][0]              \n",
      "__________________________________________________________________________________________________\n",
      "bn5c_branch2a (BatchNormalizati (None, 7, 7, 512)    2048        res5c_branch2a[0][0]             \n",
      "__________________________________________________________________________________________________\n",
      "activation_47 (Activation)      (None, 7, 7, 512)    0           bn5c_branch2a[0][0]              \n",
      "__________________________________________________________________________________________________\n",
      "res5c_branch2b (Conv2D)         (None, 7, 7, 512)    2359808     activation_47[0][0]              \n",
      "__________________________________________________________________________________________________\n",
      "bn5c_branch2b (BatchNormalizati (None, 7, 7, 512)    2048        res5c_branch2b[0][0]             \n",
      "__________________________________________________________________________________________________\n",
      "activation_48 (Activation)      (None, 7, 7, 512)    0           bn5c_branch2b[0][0]              \n",
      "__________________________________________________________________________________________________\n",
      "res5c_branch2c (Conv2D)         (None, 7, 7, 2048)   1050624     activation_48[0][0]              \n",
      "__________________________________________________________________________________________________\n",
      "bn5c_branch2c (BatchNormalizati (None, 7, 7, 2048)   8192        res5c_branch2c[0][0]             \n",
      "__________________________________________________________________________________________________\n",
      "add_16 (Add)                    (None, 7, 7, 2048)   0           bn5c_branch2c[0][0]              \n",
      "                                                                 activation_46[0][0]              \n",
      "__________________________________________________________________________________________________\n",
      "activation_49 (Activation)      (None, 7, 7, 2048)   0           add_16[0][0]                     \n",
      "__________________________________________________________________________________________________\n",
      "avg_pool (AveragePooling2D)     (None, 1, 1, 2048)   0           activation_49[0][0]              \n",
      "__________________________________________________________________________________________________\n",
      "global_average_pooling2d_1 (Glo (None, 2048)         0           avg_pool[0][0]                   \n",
      "==================================================================================================\n",
      "Total params: 23,587,712\n",
      "Trainable params: 23,534,592\n",
      "Non-trainable params: 53,120\n",
      "__________________________________________________________________________________________________\n"
     ]
    }
   ],
   "source": [
    "model0.summary()"
   ]
  },
  {
   "cell_type": "code",
   "execution_count": 0,
   "metadata": {
    "colab": {},
    "colab_type": "code",
    "id": "QTBkDIMcCkfJ"
   },
   "outputs": [],
   "source": [
    "for layer in model0.layers[:]:\n",
    "    layer.trainable = False"
   ]
  },
  {
   "cell_type": "code",
   "execution_count": 21,
   "metadata": {
    "colab": {
     "base_uri": "https://localhost:8080/",
     "height": 3217
    },
    "colab_type": "code",
    "executionInfo": {
     "elapsed": 414,
     "status": "ok",
     "timestamp": 1541067061365,
     "user": {
      "displayName": "Arnaud Rousseau",
      "photoUrl": "https://lh3.googleusercontent.com/-Mpjc2MGPrQw/AAAAAAAAAAI/AAAAAAAAAA8/M6BM4QHffvQ/s64/photo.jpg",
      "userId": "05695251486119274053"
     },
     "user_tz": -60
    },
    "id": "OqKFtOWFC5EU",
    "outputId": "822e0f91-3cf1-4174-d7b0-2e27c8f7d4b3"
   },
   "outputs": [
    {
     "name": "stdout",
     "output_type": "stream",
     "text": [
      "<keras.engine.topology.InputLayer object at 0x7f159d4d0320> False\n",
      "<keras.layers.convolutional.ZeroPadding2D object at 0x7f159ceb9e48> False\n",
      "<keras.layers.convolutional.Conv2D object at 0x7f159ceb9668> False\n",
      "<keras.layers.normalization.BatchNormalization object at 0x7f159ceb9c50> False\n",
      "<keras.layers.core.Activation object at 0x7f159d4d0ef0> False\n",
      "<keras.layers.pooling.MaxPooling2D object at 0x7f159d365b38> False\n",
      "<keras.layers.convolutional.Conv2D object at 0x7f159d710048> False\n",
      "<keras.layers.normalization.BatchNormalization object at 0x7f159cdaa198> False\n",
      "<keras.layers.core.Activation object at 0x7f159d0927f0> False\n",
      "<keras.layers.convolutional.Conv2D object at 0x7f159ceb9978> False\n",
      "<keras.layers.normalization.BatchNormalization object at 0x7f159cdf3dd8> False\n",
      "<keras.layers.core.Activation object at 0x7f159cf54588> False\n",
      "<keras.layers.convolutional.Conv2D object at 0x7f159d28e9e8> False\n",
      "<keras.layers.convolutional.Conv2D object at 0x7f159cfc75f8> False\n",
      "<keras.layers.normalization.BatchNormalization object at 0x7f159d28e940> False\n",
      "<keras.layers.normalization.BatchNormalization object at 0x7f159d5406a0> False\n",
      "<keras.layers.merge.Add object at 0x7f159ce7bf98> False\n",
      "<keras.layers.core.Activation object at 0x7f159d674208> False\n",
      "<keras.layers.convolutional.Conv2D object at 0x7f159d6740f0> False\n",
      "<keras.layers.normalization.BatchNormalization object at 0x7f159d6a0ef0> False\n",
      "<keras.layers.core.Activation object at 0x7f159d1c3358> False\n",
      "<keras.layers.convolutional.Conv2D object at 0x7f159d301668> False\n",
      "<keras.layers.normalization.BatchNormalization object at 0x7f159d5c8160> False\n",
      "<keras.layers.core.Activation object at 0x7f159d205828> False\n",
      "<keras.layers.convolutional.Conv2D object at 0x7f159cf73dd8> False\n",
      "<keras.layers.normalization.BatchNormalization object at 0x7f159d39f940> False\n",
      "<keras.layers.merge.Add object at 0x7f159cf35588> False\n",
      "<keras.layers.core.Activation object at 0x7f159d3655f8> False\n",
      "<keras.layers.convolutional.Conv2D object at 0x7f159d365a90> False\n",
      "<keras.layers.normalization.BatchNormalization object at 0x7f15e6e54c50> False\n",
      "<keras.layers.core.Activation object at 0x7f159d2e0ba8> False\n",
      "<keras.layers.convolutional.Conv2D object at 0x7f159d71f748> False\n",
      "<keras.layers.normalization.BatchNormalization object at 0x7f159ceb9588> False\n",
      "<keras.layers.core.Activation object at 0x7f159d4b2470> False\n",
      "<keras.layers.convolutional.Conv2D object at 0x7f159d6f1b00> False\n",
      "<keras.layers.normalization.BatchNormalization object at 0x7f159d6f1ac8> False\n",
      "<keras.layers.merge.Add object at 0x7f159d491ac8> False\n",
      "<keras.layers.core.Activation object at 0x7f159d4122b0> False\n",
      "<keras.layers.convolutional.Conv2D object at 0x7f159d4120b8> False\n",
      "<keras.layers.normalization.BatchNormalization object at 0x7f159d664630> False\n",
      "<keras.layers.core.Activation object at 0x7f159d727f98> False\n",
      "<keras.layers.convolutional.Conv2D object at 0x7f159cdcd828> False\n",
      "<keras.layers.normalization.BatchNormalization object at 0x7f159ce16fd0> False\n",
      "<keras.layers.core.Activation object at 0x7f159cdae588> False\n",
      "<keras.layers.convolutional.Conv2D object at 0x7f159d246048> False\n",
      "<keras.layers.convolutional.Conv2D object at 0x7f159ce44dd8> False\n",
      "<keras.layers.normalization.BatchNormalization object at 0x7f159d70d518> False\n",
      "<keras.layers.normalization.BatchNormalization object at 0x7f159ce47400> False\n",
      "<keras.layers.merge.Add object at 0x7f15960fa860> False\n",
      "<keras.layers.core.Activation object at 0x7f159609e588> False\n",
      "<keras.layers.convolutional.Conv2D object at 0x7f159609e748> False\n",
      "<keras.layers.normalization.BatchNormalization object at 0x7f15960c5400> False\n",
      "<keras.layers.core.Activation object at 0x7f159607e898> False\n",
      "<keras.layers.convolutional.Conv2D object at 0x7f159601b710> False\n",
      "<keras.layers.normalization.BatchNormalization object at 0x7f159601b7b8> False\n",
      "<keras.layers.core.Activation object at 0x7f1595f71390> False\n",
      "<keras.layers.convolutional.Conv2D object at 0x7f1595f0b5f8> False\n",
      "<keras.layers.normalization.BatchNormalization object at 0x7f1595f0b6a0> False\n",
      "<keras.layers.merge.Add object at 0x7f1595ddc080> False\n",
      "<keras.layers.core.Activation object at 0x7f1595dff3c8> False\n",
      "<keras.layers.convolutional.Conv2D object at 0x7f1595dff588> False\n",
      "<keras.layers.normalization.BatchNormalization object at 0x7f1595db0fd0> False\n",
      "<keras.layers.core.Activation object at 0x7f1595d4ea58> False\n",
      "<keras.layers.convolutional.Conv2D object at 0x7f1595cf2550> False\n",
      "<keras.layers.normalization.BatchNormalization object at 0x7f1595cf25f8> False\n",
      "<keras.layers.core.Activation object at 0x7f1595c46c18> False\n",
      "<keras.layers.convolutional.Conv2D object at 0x7f1595bed438> False\n",
      "<keras.layers.normalization.BatchNormalization object at 0x7f1595bed4e0> False\n",
      "<keras.layers.merge.Add object at 0x7f1595b9efd0> False\n",
      "<keras.layers.core.Activation object at 0x7f1595aed320> False\n",
      "<keras.layers.convolutional.Conv2D object at 0x7f1595aed208> False\n",
      "<keras.layers.normalization.BatchNormalization object at 0x7f1595b01160> False\n",
      "<keras.layers.core.Activation object at 0x7f1595a3d898> False\n",
      "<keras.layers.convolutional.Conv2D object at 0x7f15959e5390> False\n",
      "<keras.layers.normalization.BatchNormalization object at 0x7f15959e5438> False\n",
      "<keras.layers.core.Activation object at 0x7f1595a1afd0> False\n",
      "<keras.layers.convolutional.Conv2D object at 0x7f159593bbe0> False\n",
      "<keras.layers.normalization.BatchNormalization object at 0x7f15958e4160> False\n",
      "<keras.layers.merge.Add object at 0x7f1595916f98> False\n",
      "<keras.layers.core.Activation object at 0x7f159585b160> False\n",
      "<keras.layers.convolutional.Conv2D object at 0x7f159585b0b8> False\n",
      "<keras.layers.normalization.BatchNormalization object at 0x7f1595815780> False\n",
      "<keras.layers.core.Activation object at 0x7f15957b5470> False\n",
      "<keras.layers.convolutional.Conv2D object at 0x7f15957306d8> False\n",
      "<keras.layers.normalization.BatchNormalization object at 0x7f15957581d0> False\n",
      "<keras.layers.core.Activation object at 0x7f1595713d68> False\n",
      "<keras.layers.convolutional.Conv2D object at 0x7f159562ca20> False\n",
      "<keras.layers.convolutional.Conv2D object at 0x7f1595611898> False\n",
      "<keras.layers.normalization.BatchNormalization object at 0x7f1595654e48> False\n",
      "<keras.layers.normalization.BatchNormalization object at 0x7f159552a9b0> False\n",
      "<keras.layers.merge.Add object at 0x7f159550db00> False\n",
      "<keras.layers.core.Activation object at 0x7f15954500f0> False\n",
      "<keras.layers.convolutional.Conv2D object at 0x7f15953e6c50> False\n",
      "<keras.layers.normalization.BatchNormalization object at 0x7f1595450198> False\n",
      "<keras.layers.core.Activation object at 0x7f1595325c50> False\n",
      "<keras.layers.convolutional.Conv2D object at 0x7f15953495c0> False\n",
      "<keras.layers.normalization.BatchNormalization object at 0x7f1595349668> False\n",
      "<keras.layers.core.Activation object at 0x7f1595222c88> False\n",
      "<keras.layers.convolutional.Conv2D object at 0x7f15952484a8> False\n",
      "<keras.layers.normalization.BatchNormalization object at 0x7f1595248550> False\n",
      "<keras.layers.merge.Add object at 0x7f1595120cf8> False\n",
      "<keras.layers.core.Activation object at 0x7f1595144278> False\n",
      "<keras.layers.convolutional.Conv2D object at 0x7f1595144438> False\n",
      "<keras.layers.normalization.BatchNormalization object at 0x7f159515a0f0> False\n",
      "<keras.layers.core.Activation object at 0x7f15950a0048> False\n",
      "<keras.layers.convolutional.Conv2D object at 0x7f1595038c50> False\n",
      "<keras.layers.normalization.BatchNormalization object at 0x7f15950382e8> False\n",
      "<keras.layers.core.Activation object at 0x7f159501a128> False\n",
      "<keras.layers.convolutional.Conv2D object at 0x7f1594f35748> False\n",
      "<keras.layers.normalization.BatchNormalization object at 0x7f1594f357f0> False\n",
      "<keras.layers.merge.Add object at 0x7f1594ed25c0> False\n",
      "<keras.layers.core.Activation object at 0x7f1594e3a668> False\n",
      "<keras.layers.convolutional.Conv2D object at 0x7f1594e3a6d8> False\n",
      "<keras.layers.normalization.BatchNormalization object at 0x7f1594dca668> False\n",
      "<keras.layers.core.Activation object at 0x7f1594e12828> False\n",
      "<keras.layers.convolutional.Conv2D object at 0x7f1594d2fa20> False\n",
      "<keras.layers.normalization.BatchNormalization object at 0x7f1594d2f550> False\n",
      "<keras.layers.core.Activation object at 0x7f1594d0c400> False\n",
      "<keras.layers.convolutional.Conv2D object at 0x7f1594c2ab38> False\n",
      "<keras.layers.normalization.BatchNormalization object at 0x7f1594c2aa90> False\n",
      "<keras.layers.merge.Add object at 0x7f1594c094e0> False\n",
      "<keras.layers.core.Activation object at 0x7f1594b28908> False\n",
      "<keras.layers.convolutional.Conv2D object at 0x7f1594b28978> False\n",
      "<keras.layers.normalization.BatchNormalization object at 0x7f1594b4a630> False\n",
      "<keras.layers.core.Activation object at 0x7f1594b0aac8> False\n",
      "<keras.layers.convolutional.Conv2D object at 0x7f15949dfdd8> False\n",
      "<keras.layers.normalization.BatchNormalization object at 0x7f1594a1e828> False\n",
      "<keras.layers.core.Activation object at 0x7f15949fe5f8> False\n",
      "<keras.layers.convolutional.Conv2D object at 0x7f159491dba8> False\n",
      "<keras.layers.normalization.BatchNormalization object at 0x7f159491d668> False\n",
      "<keras.layers.merge.Add object at 0x7f1594900fd0> False\n",
      "<keras.layers.core.Activation object at 0x7f159489ab00> False\n",
      "<keras.layers.convolutional.Conv2D object at 0x7f159489a5c0> False\n",
      "<keras.layers.normalization.BatchNormalization object at 0x7f1594840e80> False\n",
      "<keras.layers.core.Activation object at 0x7f15947f9e10> False\n",
      "<keras.layers.convolutional.Conv2D object at 0x7f1594792a58> False\n",
      "<keras.layers.normalization.BatchNormalization object at 0x7f1594792f98> False\n",
      "<keras.layers.core.Activation object at 0x7f15946f5898> False\n",
      "<keras.layers.convolutional.Conv2D object at 0x7f159464efd0> False\n",
      "<keras.layers.normalization.BatchNormalization object at 0x7f159468d9b0> False\n",
      "<keras.layers.merge.Add object at 0x7f15945f2588> False\n",
      "<keras.layers.core.Activation object at 0x7f159458d860> False\n",
      "<keras.layers.convolutional.Conv2D object at 0x7f159458d7b8> False\n",
      "<keras.layers.normalization.BatchNormalization object at 0x7f159454add8> False\n",
      "<keras.layers.core.Activation object at 0x7f1594514198> False\n",
      "<keras.layers.convolutional.Conv2D object at 0x7f1594488828> False\n",
      "<keras.layers.normalization.BatchNormalization object at 0x7f1594431208> False\n",
      "<keras.layers.core.Activation object at 0x7f15943e0fd0> False\n",
      "<keras.layers.convolutional.Conv2D object at 0x7f1594384ba8> False\n",
      "<keras.layers.convolutional.Conv2D object at 0x7f15942e3fd0> False\n",
      "<keras.layers.normalization.BatchNormalization object at 0x7f159432c128> False\n",
      "<keras.layers.normalization.BatchNormalization object at 0x7f1594227f98> False\n",
      "<keras.layers.merge.Add object at 0x7f15941e5c50> False\n",
      "<keras.layers.core.Activation object at 0x7f1594127208> False\n",
      "<keras.layers.convolutional.Conv2D object at 0x7f15941270f0> False\n",
      "<keras.layers.normalization.BatchNormalization object at 0x7f159413efd0> False\n",
      "<keras.layers.core.Activation object at 0x7f1594102470> False\n",
      "<keras.layers.convolutional.Conv2D object at 0x7f15940246d8> False\n",
      "<keras.layers.normalization.BatchNormalization object at 0x7f1594024780> False\n",
      "<keras.layers.core.Activation object at 0x7f1593f75358> False\n",
      "<keras.layers.convolutional.Conv2D object at 0x7f1593f1e5c0> False\n",
      "<keras.layers.normalization.BatchNormalization object at 0x7f1593f1e668> False\n",
      "<keras.layers.merge.Add object at 0x7f1593e76c88> False\n",
      "<keras.layers.core.Activation object at 0x7f1593e1c390> False\n",
      "<keras.layers.convolutional.Conv2D object at 0x7f1593e1c550> False\n",
      "<keras.layers.normalization.BatchNormalization object at 0x7f1593e35208> False\n",
      "<keras.layers.core.Activation object at 0x7f1593dc5a20> False\n",
      "<keras.layers.convolutional.Conv2D object at 0x7f1593d91ac8> False\n",
      "<keras.layers.normalization.BatchNormalization object at 0x7f1593d913c8> False\n",
      "<keras.layers.core.Activation object at 0x7f1593cec4e0> False\n",
      "<keras.layers.convolutional.Conv2D object at 0x7f1593c8ec50> False\n",
      "<keras.layers.normalization.BatchNormalization object at 0x7f1593c8e908> False\n",
      "<keras.layers.merge.Add object at 0x7f1593bee128> False\n",
      "<keras.layers.core.Activation object at 0x7f1593b8b780> False\n",
      "<keras.layers.pooling.AveragePooling2D object at 0x7f1593b8b7f0> False\n",
      "<keras.layers.pooling.GlobalAveragePooling2D object at 0x7f1593b2e160> False\n"
     ]
    }
   ],
   "source": [
    "# Check the trainable status of the individual layers\n",
    "for layer in model0.layers:\n",
    "    print(layer, layer.trainable)"
   ]
  },
  {
   "cell_type": "markdown",
   "metadata": {
    "colab_type": "text",
    "id": "mkzxRl53lFd2"
   },
   "source": [
    "**- - - - - - - - - - - - - - - - - - - - - - - - - - - - - - - - - - **"
   ]
  },
  {
   "cell_type": "markdown",
   "metadata": {
    "colab_type": "text",
    "id": "8iTm8Uoz6xDq"
   },
   "source": [
    "#Generator"
   ]
  },
  {
   "cell_type": "markdown",
   "metadata": {
    "colab_type": "text",
    "id": "2oSmcW4csFYQ"
   },
   "source": [
    "Misc"
   ]
  },
  {
   "cell_type": "code",
   "execution_count": 0,
   "metadata": {
    "colab": {},
    "colab_type": "code",
    "id": "qtq3j_1ucP57"
   },
   "outputs": [],
   "source": [
    "train_data_dir = \"train\"\n",
    "test_data_dir = \"test\"\n",
    "\n",
    "img_width = 224\n",
    "img_height = 224\n",
    "\n",
    "batch_size = 16\n",
    "\n",
    "nb_train_samples  = 12000\n",
    "nb_validation_samples = 8580\n",
    "epochs = 50"
   ]
  },
  {
   "cell_type": "code",
   "execution_count": 0,
   "metadata": {
    "colab": {},
    "colab_type": "code",
    "id": "_D_WtuMjcP-7"
   },
   "outputs": [],
   "source": [
    "train_datagen = ImageDataGenerator(preprocessing_function=preprocess_input)"
   ]
  },
  {
   "cell_type": "code",
   "execution_count": 24,
   "metadata": {
    "colab": {
     "base_uri": "https://localhost:8080/",
     "height": 35
    },
    "colab_type": "code",
    "executionInfo": {
     "elapsed": 1576,
     "status": "ok",
     "timestamp": 1541067064316,
     "user": {
      "displayName": "Arnaud Rousseau",
      "photoUrl": "https://lh3.googleusercontent.com/-Mpjc2MGPrQw/AAAAAAAAAAI/AAAAAAAAAA8/M6BM4QHffvQ/s64/photo.jpg",
      "userId": "05695251486119274053"
     },
     "user_tz": -60
    },
    "id": "xyhM65ZgqG4A",
    "outputId": "c031ba75-0bf8-4565-f5b1-36ecf84ddf99"
   },
   "outputs": [
    {
     "name": "stdout",
     "output_type": "stream",
     "text": [
      "Found 12000 images belonging to 120 classes.\n"
     ]
    }
   ],
   "source": [
    "train_generator = train_datagen.flow_from_directory(\n",
    "    train_data_dir,\n",
    "    target_size=(img_height, img_width),\n",
    "    class_mode=None,\n",
    "    batch_size=batch_size,\n",
    "    shuffle=False)"
   ]
  },
  {
   "cell_type": "code",
   "execution_count": 0,
   "metadata": {
    "colab": {},
    "colab_type": "code",
    "id": "md5m6hZhr-Pk"
   },
   "outputs": [],
   "source": [
    "bottleneck_features_train = model0.predict_generator(train_generator)"
   ]
  },
  {
   "cell_type": "code",
   "execution_count": 26,
   "metadata": {
    "colab": {
     "base_uri": "https://localhost:8080/",
     "height": 254
    },
    "colab_type": "code",
    "executionInfo": {
     "elapsed": 393,
     "status": "ok",
     "timestamp": 1541067192362,
     "user": {
      "displayName": "Arnaud Rousseau",
      "photoUrl": "https://lh3.googleusercontent.com/-Mpjc2MGPrQw/AAAAAAAAAAI/AAAAAAAAAA8/M6BM4QHffvQ/s64/photo.jpg",
      "userId": "05695251486119274053"
     },
     "user_tz": -60
    },
    "id": "v1ibpfjcle1K",
    "outputId": "640fe627-4d9f-47f8-ce32-f633efd79c5d"
   },
   "outputs": [
    {
     "data": {
      "text/plain": [
       "array([[0.74069285, 0.15516727, 0.        , ..., 2.9568105 , 0.33685625,\n",
       "        0.21766798],\n",
       "       [0.        , 0.        , 0.05354649, ..., 0.16494225, 0.15505166,\n",
       "        0.6573303 ],\n",
       "       [0.1052823 , 0.22859137, 0.10642652, ..., 0.1122757 , 0.6222735 ,\n",
       "        0.05682056],\n",
       "       ...,\n",
       "       [0.        , 0.54635817, 0.19444072, ..., 0.21147327, 0.0812128 ,\n",
       "        0.28938317],\n",
       "       [0.42845434, 0.29389435, 0.03062267, ..., 0.00534179, 0.00669176,\n",
       "        0.24404985],\n",
       "       [0.06056613, 0.51164454, 0.32108283, ..., 0.24119358, 0.0865832 ,\n",
       "        0.10316335]], dtype=float32)"
      ]
     },
     "execution_count": 26,
     "metadata": {
      "tags": []
     },
     "output_type": "execute_result"
    }
   ],
   "source": [
    "bottleneck_features_train"
   ]
  },
  {
   "cell_type": "code",
   "execution_count": 0,
   "metadata": {
    "colab": {},
    "colab_type": "code",
    "id": "9fnwCcOeliV2"
   },
   "outputs": [],
   "source": [
    "train_labels = to_categorical(train_generator.classes , \n",
    "                              num_classes=120)"
   ]
  },
  {
   "cell_type": "code",
   "execution_count": 28,
   "metadata": {
    "colab": {
     "base_uri": "https://localhost:8080/",
     "height": 145
    },
    "colab_type": "code",
    "executionInfo": {
     "elapsed": 384,
     "status": "ok",
     "timestamp": 1541067193433,
     "user": {
      "displayName": "Arnaud Rousseau",
      "photoUrl": "https://lh3.googleusercontent.com/-Mpjc2MGPrQw/AAAAAAAAAAI/AAAAAAAAAA8/M6BM4QHffvQ/s64/photo.jpg",
      "userId": "05695251486119274053"
     },
     "user_tz": -60
    },
    "id": "1KK-UCkPlgxc",
    "outputId": "e6a53dcc-a474-4987-bfcc-c224551a1cde"
   },
   "outputs": [
    {
     "data": {
      "text/plain": [
       "array([[1., 0., 0., ..., 0., 0., 0.],\n",
       "       [1., 0., 0., ..., 0., 0., 0.],\n",
       "       [1., 0., 0., ..., 0., 0., 0.],\n",
       "       ...,\n",
       "       [0., 0., 0., ..., 0., 0., 1.],\n",
       "       [0., 0., 0., ..., 0., 0., 1.],\n",
       "       [0., 0., 0., ..., 0., 0., 1.]], dtype=float32)"
      ]
     },
     "execution_count": 28,
     "metadata": {
      "tags": []
     },
     "output_type": "execute_result"
    }
   ],
   "source": [
    "train_labels"
   ]
  },
  {
   "cell_type": "code",
   "execution_count": 0,
   "metadata": {
    "colab": {},
    "colab_type": "code",
    "id": "j3Q6I-Qbc2XA"
   },
   "outputs": [],
   "source": [
    "test_datagen = ImageDataGenerator(preprocessing_function=preprocess_input)"
   ]
  },
  {
   "cell_type": "code",
   "execution_count": 30,
   "metadata": {
    "colab": {
     "base_uri": "https://localhost:8080/",
     "height": 35
    },
    "colab_type": "code",
    "executionInfo": {
     "elapsed": 1344,
     "status": "ok",
     "timestamp": 1541067195407,
     "user": {
      "displayName": "Arnaud Rousseau",
      "photoUrl": "https://lh3.googleusercontent.com/-Mpjc2MGPrQw/AAAAAAAAAAI/AAAAAAAAAA8/M6BM4QHffvQ/s64/photo.jpg",
      "userId": "05695251486119274053"
     },
     "user_tz": -60
    },
    "id": "hDXQjAVCqa2V",
    "outputId": "26540ad5-a385-4dc5-ffb7-88360c429cdf"
   },
   "outputs": [
    {
     "name": "stdout",
     "output_type": "stream",
     "text": [
      "Found 8580 images belonging to 120 classes.\n"
     ]
    }
   ],
   "source": [
    "test_generator = test_datagen.flow_from_directory(\n",
    "    test_data_dir,\n",
    "    target_size = (img_height, img_width),\n",
    "    class_mode=None,\n",
    "    batch_size=batch_size,\n",
    "    shuffle=False)"
   ]
  },
  {
   "cell_type": "code",
   "execution_count": 0,
   "metadata": {
    "colab": {},
    "colab_type": "code",
    "id": "8aDwO6dEsCkz"
   },
   "outputs": [],
   "source": [
    "bottleneck_features_test = model0.predict_generator(test_generator)"
   ]
  },
  {
   "cell_type": "code",
   "execution_count": 0,
   "metadata": {
    "colab": {},
    "colab_type": "code",
    "id": "kV7Y3Cxrmucg"
   },
   "outputs": [],
   "source": [
    "test_labels = to_categorical(test_generator.classes, \n",
    "                             num_classes=120)"
   ]
  },
  {
   "cell_type": "markdown",
   "metadata": {
    "colab_type": "text",
    "id": "Bbmxyi8AuJhO"
   },
   "source": [
    "### Labels saving"
   ]
  },
  {
   "cell_type": "code",
   "execution_count": 33,
   "metadata": {
    "colab": {
     "base_uri": "https://localhost:8080/",
     "height": 198
    },
    "colab_type": "code",
    "executionInfo": {
     "elapsed": 1497,
     "status": "ok",
     "timestamp": 1541067288308,
     "user": {
      "displayName": "Arnaud Rousseau",
      "photoUrl": "https://lh3.googleusercontent.com/-Mpjc2MGPrQw/AAAAAAAAAAI/AAAAAAAAAA8/M6BM4QHffvQ/s64/photo.jpg",
      "userId": "05695251486119274053"
     },
     "user_tz": -60
    },
    "id": "I4RnDBxxLNwD",
    "outputId": "05660629-27e2-4ffa-cd4f-08fbc7543fcc"
   },
   "outputs": [
    {
     "data": {
      "text/html": [
       "<div>\n",
       "<style scoped>\n",
       "    .dataframe tbody tr th:only-of-type {\n",
       "        vertical-align: middle;\n",
       "    }\n",
       "\n",
       "    .dataframe tbody tr th {\n",
       "        vertical-align: top;\n",
       "    }\n",
       "\n",
       "    .dataframe thead th {\n",
       "        text-align: right;\n",
       "    }\n",
       "</style>\n",
       "<table border=\"1\" class=\"dataframe\">\n",
       "  <thead>\n",
       "    <tr style=\"text-align: right;\">\n",
       "      <th></th>\n",
       "      <th>class</th>\n",
       "    </tr>\n",
       "  </thead>\n",
       "  <tbody>\n",
       "    <tr>\n",
       "      <th>0</th>\n",
       "      <td>n02085620-Chihuahua</td>\n",
       "    </tr>\n",
       "    <tr>\n",
       "      <th>1</th>\n",
       "      <td>n02085782-Japanese_spaniel</td>\n",
       "    </tr>\n",
       "    <tr>\n",
       "      <th>2</th>\n",
       "      <td>n02085936-Maltese_dog</td>\n",
       "    </tr>\n",
       "    <tr>\n",
       "      <th>3</th>\n",
       "      <td>n02086079-Pekinese</td>\n",
       "    </tr>\n",
       "    <tr>\n",
       "      <th>4</th>\n",
       "      <td>n02086240-Shih-Tzu</td>\n",
       "    </tr>\n",
       "  </tbody>\n",
       "</table>\n",
       "</div>"
      ],
      "text/plain": [
       "                        class\n",
       "0         n02085620-Chihuahua\n",
       "1  n02085782-Japanese_spaniel\n",
       "2       n02085936-Maltese_dog\n",
       "3          n02086079-Pekinese\n",
       "4          n02086240-Shih-Tzu"
      ]
     },
     "execution_count": 33,
     "metadata": {
      "tags": []
     },
     "output_type": "execute_result"
    }
   ],
   "source": [
    "class_frame = pd.DataFrame.from_dict(test_generator.class_indices,\n",
    "                                     orient='index')\n",
    "class_frame = class_frame.reset_index()\n",
    "class_frame['class'] = class_frame['index']\n",
    "class_frame = pd.DataFrame(class_frame['class'])\n",
    "\n",
    "class_frame.to_csv(path_or_buf='class_frame.csv')\n",
    "files.download('class_frame.csv')\n",
    "\n",
    "class_frame.head()"
   ]
  },
  {
   "cell_type": "markdown",
   "metadata": {
    "colab_type": "text",
    "id": "XmvPK9s2sR3o"
   },
   "source": [
    "### Checkpoint"
   ]
  },
  {
   "cell_type": "code",
   "execution_count": 0,
   "metadata": {
    "colab": {},
    "colab_type": "code",
    "id": "XReO84Sk2ryb"
   },
   "outputs": [],
   "source": [
    "early = EarlyStopping(monitor='val_acc', \n",
    "                      min_delta=0, \n",
    "                      patience=10, \n",
    "                      verbose=1, \n",
    "                      mode='auto')"
   ]
  },
  {
   "cell_type": "markdown",
   "metadata": {
    "colab_type": "text",
    "id": "HO5VKylWtYrd"
   },
   "source": [
    "## Model Dense adding"
   ]
  },
  {
   "cell_type": "code",
   "execution_count": 35,
   "metadata": {
    "colab": {
     "base_uri": "https://localhost:8080/",
     "height": 35
    },
    "colab_type": "code",
    "executionInfo": {
     "elapsed": 383,
     "status": "ok",
     "timestamp": 1541067289176,
     "user": {
      "displayName": "Arnaud Rousseau",
      "photoUrl": "https://lh3.googleusercontent.com/-Mpjc2MGPrQw/AAAAAAAAAAI/AAAAAAAAAA8/M6BM4QHffvQ/s64/photo.jpg",
      "userId": "05695251486119274053"
     },
     "user_tz": -60
    },
    "id": "4SQS_mtRBU7h",
    "outputId": "d3add350-d254-475b-d6b8-aadabadc8246"
   },
   "outputs": [
    {
     "data": {
      "text/plain": [
       "(2048,)"
      ]
     },
     "execution_count": 35,
     "metadata": {
      "tags": []
     },
     "output_type": "execute_result"
    }
   ],
   "source": [
    "bottleneck_features_train.shape[1:]"
   ]
  },
  {
   "cell_type": "code",
   "execution_count": 0,
   "metadata": {
    "colab": {},
    "colab_type": "code",
    "id": "0WRd9W48WHeL"
   },
   "outputs": [],
   "source": [
    "model = Sequential()"
   ]
  },
  {
   "cell_type": "code",
   "execution_count": 0,
   "metadata": {
    "colab": {},
    "colab_type": "code",
    "id": "4W6LBdQIrAY9"
   },
   "outputs": [],
   "source": [
    "model.add(Dense(120, \n",
    "                activation='softmax', \n",
    "                name='pred', \n",
    "                input_shape = bottleneck_features_train.shape[1:]))"
   ]
  },
  {
   "cell_type": "code",
   "execution_count": 38,
   "metadata": {
    "colab": {
     "base_uri": "https://localhost:8080/",
     "height": 181
    },
    "colab_type": "code",
    "executionInfo": {
     "elapsed": 414,
     "status": "ok",
     "timestamp": 1541067290719,
     "user": {
      "displayName": "Arnaud Rousseau",
      "photoUrl": "https://lh3.googleusercontent.com/-Mpjc2MGPrQw/AAAAAAAAAAI/AAAAAAAAAA8/M6BM4QHffvQ/s64/photo.jpg",
      "userId": "05695251486119274053"
     },
     "user_tz": -60
    },
    "id": "BzrtJICoq1tK",
    "outputId": "6c94f8f6-67e8-4613-e556-3ec036bcda53"
   },
   "outputs": [
    {
     "name": "stdout",
     "output_type": "stream",
     "text": [
      "_________________________________________________________________\n",
      "Layer (type)                 Output Shape              Param #   \n",
      "=================================================================\n",
      "pred (Dense)                 (None, 120)               245880    \n",
      "=================================================================\n",
      "Total params: 245,880\n",
      "Trainable params: 245,880\n",
      "Non-trainable params: 0\n",
      "_________________________________________________________________\n"
     ]
    }
   ],
   "source": [
    "model.summary()"
   ]
  },
  {
   "cell_type": "code",
   "execution_count": 0,
   "metadata": {
    "colab": {},
    "colab_type": "code",
    "id": "nVcZAKl53iL6"
   },
   "outputs": [],
   "source": [
    "model.compile(loss = \"categorical_crossentropy\", \n",
    "              optimizer = 'sgd',\n",
    "              metrics=[\"accuracy\"])"
   ]
  },
  {
   "cell_type": "markdown",
   "metadata": {
    "colab_type": "text",
    "id": "EnVeZL-gxGxs"
   },
   "source": [
    "'optimizers.SGD(lr=0.0024, # lr =  0.0016 --> 0.38,  lr =  0.002 --> 0.36, lr=0.0021 --> 0.60 \n",
    "                                         decay=1e-6, \n",
    "                                         momentum=0.9), "
   ]
  },
  {
   "cell_type": "code",
   "execution_count": 40,
   "metadata": {
    "colab": {
     "base_uri": "https://localhost:8080/",
     "height": 55
    },
    "colab_type": "code",
    "executionInfo": {
     "elapsed": 402,
     "status": "ok",
     "timestamp": 1541067291822,
     "user": {
      "displayName": "Arnaud Rousseau",
      "photoUrl": "https://lh3.googleusercontent.com/-Mpjc2MGPrQw/AAAAAAAAAAI/AAAAAAAAAA8/M6BM4QHffvQ/s64/photo.jpg",
      "userId": "05695251486119274053"
     },
     "user_tz": -60
    },
    "id": "kLvRHxElNnHB",
    "outputId": "05c0bfb4-ab6c-486c-acaf-5ada2da641d7"
   },
   "outputs": [
    {
     "name": "stdout",
     "output_type": "stream",
     "text": [
      "[{'class_name': 'Dense', 'config': {'name': 'pred', 'trainable': True, 'batch_input_shape': (None, 2048), 'dtype': 'float32', 'units': 120, 'activation': 'softmax', 'use_bias': True, 'kernel_initializer': {'class_name': 'VarianceScaling', 'config': {'scale': 1.0, 'mode': 'fan_avg', 'distribution': 'uniform', 'seed': None}}, 'bias_initializer': {'class_name': 'Zeros', 'config': {}}, 'kernel_regularizer': None, 'bias_regularizer': None, 'activity_regularizer': None, 'kernel_constraint': None, 'bias_constraint': None}}]\n"
     ]
    }
   ],
   "source": [
    "print(model.get_config())"
   ]
  },
  {
   "cell_type": "markdown",
   "metadata": {
    "colab_type": "text",
    "id": "0NHXb_Tc8nFg"
   },
   "source": [
    "# Model Fit"
   ]
  },
  {
   "cell_type": "code",
   "execution_count": 41,
   "metadata": {
    "colab": {
     "base_uri": "https://localhost:8080/",
     "height": 581
    },
    "colab_type": "code",
    "executionInfo": {
     "elapsed": 72422,
     "status": "ok",
     "timestamp": 1541067364368,
     "user": {
      "displayName": "Arnaud Rousseau",
      "photoUrl": "https://lh3.googleusercontent.com/-Mpjc2MGPrQw/AAAAAAAAAAI/AAAAAAAAAA8/M6BM4QHffvQ/s64/photo.jpg",
      "userId": "05695251486119274053"
     },
     "user_tz": -60
    },
    "id": "znMANJNGt3q-",
    "outputId": "9a5519de-8c78-406c-f593-63ab40059881"
   },
   "outputs": [
    {
     "name": "stdout",
     "output_type": "stream",
     "text": [
      "Train on 12000 samples, validate on 8580 samples\n",
      "Epoch 1/15\n",
      "12000/12000 [==============================] - 6s 470us/step - loss: 1.9502 - acc: 0.5636 - val_loss: 0.9762 - val_acc: 0.7562\n",
      "Epoch 2/15\n",
      "12000/12000 [==============================] - 5s 388us/step - loss: 0.7640 - acc: 0.8056 - val_loss: 0.7459 - val_acc: 0.7960\n",
      "Epoch 3/15\n",
      "12000/12000 [==============================] - 5s 388us/step - loss: 0.5759 - acc: 0.8509 - val_loss: 0.6854 - val_acc: 0.8017\n",
      "Epoch 4/15\n",
      "12000/12000 [==============================] - 5s 388us/step - loss: 0.4781 - acc: 0.8760 - val_loss: 0.6442 - val_acc: 0.8084\n",
      "Epoch 5/15\n",
      "12000/12000 [==============================] - 5s 389us/step - loss: 0.4142 - acc: 0.8958 - val_loss: 0.6054 - val_acc: 0.8199\n",
      "Epoch 6/15\n",
      "12000/12000 [==============================] - 5s 389us/step - loss: 0.3662 - acc: 0.9123 - val_loss: 0.5945 - val_acc: 0.8219\n",
      "Epoch 7/15\n",
      "12000/12000 [==============================] - 5s 389us/step - loss: 0.3276 - acc: 0.9226 - val_loss: 0.5905 - val_acc: 0.8193\n",
      "Epoch 8/15\n",
      "12000/12000 [==============================] - 5s 391us/step - loss: 0.2976 - acc: 0.9321 - val_loss: 0.5801 - val_acc: 0.8205\n",
      "Epoch 9/15\n",
      "12000/12000 [==============================] - 5s 387us/step - loss: 0.2714 - acc: 0.9427 - val_loss: 0.5673 - val_acc: 0.8265\n",
      "Epoch 10/15\n",
      "12000/12000 [==============================] - 5s 383us/step - loss: 0.2493 - acc: 0.9499 - val_loss: 0.5608 - val_acc: 0.8280\n",
      "Epoch 11/15\n",
      "12000/12000 [==============================] - 5s 387us/step - loss: 0.2303 - acc: 0.9540 - val_loss: 0.5617 - val_acc: 0.8254\n",
      "Epoch 12/15\n",
      "12000/12000 [==============================] - 5s 407us/step - loss: 0.2148 - acc: 0.9591 - val_loss: 0.5553 - val_acc: 0.8291\n",
      "Epoch 13/15\n",
      "12000/12000 [==============================] - 5s 409us/step - loss: 0.1999 - acc: 0.9652 - val_loss: 0.5520 - val_acc: 0.8293\n",
      "Epoch 14/15\n",
      "12000/12000 [==============================] - 5s 415us/step - loss: 0.1871 - acc: 0.9684 - val_loss: 0.5505 - val_acc: 0.8288\n",
      "Epoch 15/15\n",
      "12000/12000 [==============================] - 5s 403us/step - loss: 0.1757 - acc: 0.9713 - val_loss: 0.5496 - val_acc: 0.8295\n"
     ]
    }
   ],
   "source": [
    "history = model.fit(bottleneck_features_train,train_labels,\n",
    "                    epochs=15,\n",
    "                    batch_size=batch_size,\n",
    "                    validation_data=(bottleneck_features_test, test_labels),\n",
    "                    callbacks = [early])"
   ]
  },
  {
   "cell_type": "code",
   "execution_count": 0,
   "metadata": {
    "colab": {},
    "colab_type": "code",
    "id": "BZCOIYtIr1Tr"
   },
   "outputs": [],
   "source": [
    "sauvegarde = model.save('sauvegarde_82.h5')"
   ]
  },
  {
   "cell_type": "code",
   "execution_count": 0,
   "metadata": {
    "colab": {},
    "colab_type": "code",
    "id": "p5sxkJOLifWi"
   },
   "outputs": [],
   "source": [
    "files.download('sauvegarde_82.h5')"
   ]
  },
  {
   "cell_type": "code",
   "execution_count": 44,
   "metadata": {
    "colab": {
     "base_uri": "https://localhost:8080/",
     "height": 620
    },
    "colab_type": "code",
    "executionInfo": {
     "elapsed": 949,
     "status": "ok",
     "timestamp": 1541067368244,
     "user": {
      "displayName": "Arnaud Rousseau",
      "photoUrl": "https://lh3.googleusercontent.com/-Mpjc2MGPrQw/AAAAAAAAAAI/AAAAAAAAAA8/M6BM4QHffvQ/s64/photo.jpg",
      "userId": "05695251486119274053"
     },
     "user_tz": -60
    },
    "id": "l9tlc2Ne0JhM",
    "outputId": "fbf0c84d-12d3-4c74-955a-84edaeada936"
   },
   "outputs": [
    {
     "data": {
      "image/png": "[encoded data removed]",
      "text/plain": [
       "<matplotlib.figure.Figure at 0x7f1596c5c978>"
      ]
     },
     "metadata": {
      "tags": []
     },
     "output_type": "display_data"
    }
   ],
   "source": [
    "fig = plt.figure(figsize=(10,10))\n",
    "\n",
    "# Plot training & validation accuracy values\n",
    "plt.plot(history.history['acc'])\n",
    "plt.plot(history.history['val_acc'])\n",
    "plt.title('Model accuracy')\n",
    "plt.ylabel('Accuracy')\n",
    "plt.xlabel('Epoch')\n",
    "plt.legend(['Train', 'Test'], loc='upper left')\n",
    "plt.show()\n"
   ]
  },
  {
   "cell_type": "code",
   "execution_count": 45,
   "metadata": {
    "colab": {
     "base_uri": "https://localhost:8080/",
     "height": 620
    },
    "colab_type": "code",
    "executionInfo": {
     "elapsed": 971,
     "status": "ok",
     "timestamp": 1541067369241,
     "user": {
      "displayName": "Arnaud Rousseau",
      "photoUrl": "https://lh3.googleusercontent.com/-Mpjc2MGPrQw/AAAAAAAAAAI/AAAAAAAAAA8/M6BM4QHffvQ/s64/photo.jpg",
      "userId": "05695251486119274053"
     },
     "user_tz": -60
    },
    "id": "3fVjmamkR3il",
    "outputId": "01a2b021-bb55-4596-883d-bdca1e261587"
   },
   "outputs": [
    {
     "data": {
      "image/png": "[encoded data removed]",
      "text/plain": [
       "<matplotlib.figure.Figure at 0x7f1596c09f60>"
      ]
     },
     "metadata": {
      "tags": []
     },
     "output_type": "display_data"
    }
   ],
   "source": [
    "fig = plt.figure(figsize=(10,10))\n",
    "\n",
    "# Plot training & validation loss values\n",
    "plt.plot(history.history['loss'])\n",
    "plt.plot(history.history['val_loss'])\n",
    "plt.title('Model loss')\n",
    "plt.ylabel('Loss')\n",
    "plt.xlabel('Epoch')\n",
    "plt.legend(['Train', 'Test'], loc='upper left')\n",
    "plt.show()"
   ]
  },
  {
   "cell_type": "markdown",
   "metadata": {
    "colab_type": "text",
    "id": "ZKy59yZ4suHl"
   },
   "source": [
    "# Test with 1 Pic"
   ]
  },
  {
   "cell_type": "markdown",
   "metadata": {
    "colab_type": "text",
    "id": "mRX0plLwDryr"
   },
   "source": [
    "### Load 2 Models from .h5"
   ]
  },
  {
   "cell_type": "code",
   "execution_count": 0,
   "metadata": {
    "colab": {},
    "colab_type": "code",
    "id": "igJViyWcfMX9"
   },
   "outputs": [],
   "source": [
    "model0_test = models.load_model('sauvegarde_0.h5')"
   ]
  },
  {
   "cell_type": "code",
   "execution_count": 0,
   "metadata": {
    "colab": {},
    "colab_type": "code",
    "id": "jHBZ7ly4qmVa"
   },
   "outputs": [],
   "source": [
    "model_test = models.load_model('sauvegarde_82.h5')"
   ]
  },
  {
   "cell_type": "markdown",
   "metadata": {
    "colab_type": "text",
    "id": "KALbSKxn5tNK"
   },
   "source": [
    "### Pre processing"
   ]
  },
  {
   "cell_type": "code",
   "execution_count": 0,
   "metadata": {
    "colab": {},
    "colab_type": "code",
    "id": "RVJgTzssm78f"
   },
   "outputs": [],
   "source": [
    "def reshape(img, dirs, name_tmp):\n",
    "    name_tronc = name_tmp[:-4]\n",
    "    name_annot = \"Annotation/\" + dirs +\"/\" + name_tronc  \n",
    "    \n",
    "    annot = ET.parse(name_annot)\n",
    "    root = annot.getroot()\n",
    "\n",
    "    xmin = root[5][4][0].text\n",
    "    xmin = int(xmin)\n",
    "    ymin = root[5][4][1].text\n",
    "    ymin = int(ymin)\n",
    "    xmax = root[5][4][2].text\n",
    "    xmax = int(xmax)\n",
    "    ymax = root[5][4][3].text\n",
    "    ymax = int(ymax)\n",
    "\n",
    "    # he crop rectangle, as a (left, upper, right, lower)-tuple.\n",
    "    crop_rectangle = (xmin, ymin, xmax, ymax)\n",
    "\n",
    "    cropped_im = img.crop(crop_rectangle)\n",
    "    return cropped_im"
   ]
  },
  {
   "cell_type": "code",
   "execution_count": 49,
   "metadata": {
    "colab": {
     "base_uri": "https://localhost:8080/",
     "height": 35
    },
    "colab_type": "code",
    "executionInfo": {
     "elapsed": 414,
     "status": "ok",
     "timestamp": 1541067387471,
     "user": {
      "displayName": "Arnaud Rousseau",
      "photoUrl": "https://lh3.googleusercontent.com/-Mpjc2MGPrQw/AAAAAAAAAAI/AAAAAAAAAA8/M6BM4QHffvQ/s64/photo.jpg",
      "userId": "05695251486119274053"
     },
     "user_tz": -60
    },
    "id": "dD5PfkTnxyDW",
    "outputId": "747d4f02-54af-43c0-9520-e334304fdda3"
   },
   "outputs": [
    {
     "name": "stdout",
     "output_type": "stream",
     "text": [
      "_File = test/n02085620-Chihuahua/n02085620_10131.jpg\n"
     ]
    }
   ],
   "source": [
    "name_file = 'test/n02085620-Chihuahua/n02085620_10131.jpg'\n",
    "print(\"_File =\", name_file)"
   ]
  },
  {
   "cell_type": "code",
   "execution_count": 50,
   "metadata": {
    "colab": {
     "base_uri": "https://localhost:8080/",
     "height": 35
    },
    "colab_type": "code",
    "executionInfo": {
     "elapsed": 384,
     "status": "ok",
     "timestamp": 1541067387975,
     "user": {
      "displayName": "Arnaud Rousseau",
      "photoUrl": "https://lh3.googleusercontent.com/-Mpjc2MGPrQw/AAAAAAAAAAI/AAAAAAAAAA8/M6BM4QHffvQ/s64/photo.jpg",
      "userId": "05695251486119274053"
     },
     "user_tz": -60
    },
    "id": "VOv3z0m8y_V-",
    "outputId": "f97c572f-6640-479c-846c-6457f4203ef1"
   },
   "outputs": [
    {
     "data": {
      "text/plain": [
       "['test', 'n02085620-Chihuahua', 'n02085620_10131.jpg']"
      ]
     },
     "execution_count": 50,
     "metadata": {
      "tags": []
     },
     "output_type": "execute_result"
    }
   ],
   "source": [
    "array = name_file.split(\"/\")\n",
    "array"
   ]
  },
  {
   "cell_type": "code",
   "execution_count": 51,
   "metadata": {
    "colab": {
     "base_uri": "https://localhost:8080/",
     "height": 72
    },
    "colab_type": "code",
    "executionInfo": {
     "elapsed": 399,
     "status": "ok",
     "timestamp": 1541067388479,
     "user": {
      "displayName": "Arnaud Rousseau",
      "photoUrl": "https://lh3.googleusercontent.com/-Mpjc2MGPrQw/AAAAAAAAAAI/AAAAAAAAAA8/M6BM4QHffvQ/s64/photo.jpg",
      "userId": "05695251486119274053"
     },
     "user_tz": -60
    },
    "id": "q1xa2rRZ9cY2",
    "outputId": "f77856b0-cd8a-416f-83e6-3d66d6174fc8"
   },
   "outputs": [
    {
     "name": "stdout",
     "output_type": "stream",
     "text": [
      "test\n",
      "n02085620-Chihuahua\n",
      "n02085620_10131.jpg\n"
     ]
    }
   ],
   "source": [
    "i = 0\n",
    "for word in array:\n",
    "    if i == 0:\n",
    "        test = word\n",
    "        print(word)\n",
    "    if i == 1:\n",
    "        dirs = word\n",
    "        print(word)\n",
    "    if i == 2:\n",
    "        name_tmp = word\n",
    "        print(word)\n",
    "    i = i + 1"
   ]
  },
  {
   "cell_type": "code",
   "execution_count": 52,
   "metadata": {
    "colab": {
     "base_uri": "https://localhost:8080/",
     "height": 35
    },
    "colab_type": "code",
    "executionInfo": {
     "elapsed": 387,
     "status": "ok",
     "timestamp": 1541067388983,
     "user": {
      "displayName": "Arnaud Rousseau",
      "photoUrl": "https://lh3.googleusercontent.com/-Mpjc2MGPrQw/AAAAAAAAAAI/AAAAAAAAAA8/M6BM4QHffvQ/s64/photo.jpg",
      "userId": "05695251486119274053"
     },
     "user_tz": -60
    },
    "id": "2w-4011D6zjQ",
    "outputId": "cd919144-6a1a-4cef-dbb5-a7d9c25b6b12"
   },
   "outputs": [
    {
     "name": "stdout",
     "output_type": "stream",
     "text": [
      "_File = test/n02085620-Chihuahua/n02085620_10131.jpg\n"
     ]
    }
   ],
   "source": [
    "name_file = 'test/n02085620-Chihuahua/n02085620_10131.jpg'\n",
    "print(\"_File =\", name_file)\n",
    "\n",
    "array = name_file.split(\"/\")\n",
    "i = 0\n",
    "for word in array:\n",
    "    if i == 0:\n",
    "        test = word\n",
    "    if i == 1:\n",
    "        dirs = word\n",
    "    if i == 2:\n",
    "        name_tmp = word\n",
    "    i = i + 1\n",
    "\n",
    "img = image.load_img(name_file, target_size=(224, 224))\n",
    "img = np.array(img)\n",
    "cv2.imwrite(\"image_tmp.jpg\", img)\n",
    "image_focus_tmp = Image.open(\"image_tmp.jpg\")\n",
    "img = reshape(image_focus_tmp, dirs, name_tmp)\n",
    "img = img_to_array(img)\n",
    "img = cv2.resize(img, dsize=(224, 224))\n",
    "img = img_to_array(img)\n",
    "img = img.reshape((1, img.shape[0], img.shape[1], img.shape[2]))  \n",
    "img = preprocess_input(img)  "
   ]
  },
  {
   "cell_type": "code",
   "execution_count": 53,
   "metadata": {
    "colab": {
     "base_uri": "https://localhost:8080/",
     "height": 35
    },
    "colab_type": "code",
    "executionInfo": {
     "elapsed": 361,
     "status": "ok",
     "timestamp": 1541067389481,
     "user": {
      "displayName": "Arnaud Rousseau",
      "photoUrl": "https://lh3.googleusercontent.com/-Mpjc2MGPrQw/AAAAAAAAAAI/AAAAAAAAAA8/M6BM4QHffvQ/s64/photo.jpg",
      "userId": "05695251486119274053"
     },
     "user_tz": -60
    },
    "id": "PEsH15Us7XvD",
    "outputId": "dcc6a1a7-36a3-4a5c-d8a6-8d9a1704fa9f"
   },
   "outputs": [
    {
     "data": {
      "text/plain": [
       "numpy.ndarray"
      ]
     },
     "execution_count": 53,
     "metadata": {
      "tags": []
     },
     "output_type": "execute_result"
    }
   ],
   "source": [
    "type(img)"
   ]
  },
  {
   "cell_type": "code",
   "execution_count": 54,
   "metadata": {
    "colab": {
     "base_uri": "https://localhost:8080/",
     "height": 35
    },
    "colab_type": "code",
    "executionInfo": {
     "elapsed": 435,
     "status": "ok",
     "timestamp": 1541067390078,
     "user": {
      "displayName": "Arnaud Rousseau",
      "photoUrl": "https://lh3.googleusercontent.com/-Mpjc2MGPrQw/AAAAAAAAAAI/AAAAAAAAAA8/M6BM4QHffvQ/s64/photo.jpg",
      "userId": "05695251486119274053"
     },
     "user_tz": -60
    },
    "id": "-25omGJW-BCm",
    "outputId": "c7290047-2ca8-4e93-ba01-634e4aab5c43"
   },
   "outputs": [
    {
     "data": {
      "text/plain": [
       "(1, 224, 224, 3)"
      ]
     },
     "execution_count": 54,
     "metadata": {
      "tags": []
     },
     "output_type": "execute_result"
    }
   ],
   "source": [
    "img.shape"
   ]
  },
  {
   "cell_type": "markdown",
   "metadata": {
    "colab_type": "text",
    "id": "xa7MIrLkDoJj"
   },
   "source": [
    "###Prediction"
   ]
  },
  {
   "cell_type": "code",
   "execution_count": 0,
   "metadata": {
    "colab": {},
    "colab_type": "code",
    "id": "GNd6LfYRgUcp"
   },
   "outputs": [],
   "source": [
    "features = model0_test.predict(img)"
   ]
  },
  {
   "cell_type": "code",
   "execution_count": 56,
   "metadata": {
    "colab": {
     "base_uri": "https://localhost:8080/",
     "height": 35
    },
    "colab_type": "code",
    "executionInfo": {
     "elapsed": 1249,
     "status": "ok",
     "timestamp": 1541067393662,
     "user": {
      "displayName": "Arnaud Rousseau",
      "photoUrl": "https://lh3.googleusercontent.com/-Mpjc2MGPrQw/AAAAAAAAAAI/AAAAAAAAAA8/M6BM4QHffvQ/s64/photo.jpg",
      "userId": "05695251486119274053"
     },
     "user_tz": -60
    },
    "id": "_3D0cgvvAAol",
    "outputId": "734e5078-bbb6-4b53-c829-1e6c9f477aeb"
   },
   "outputs": [
    {
     "data": {
      "text/plain": [
       "(1, 120)"
      ]
     },
     "execution_count": 56,
     "metadata": {
      "tags": []
     },
     "output_type": "execute_result"
    }
   ],
   "source": [
    "outcome = model_test.predict(features)\n",
    "outcome.shape"
   ]
  },
  {
   "cell_type": "code",
   "execution_count": 57,
   "metadata": {
    "colab": {
     "base_uri": "https://localhost:8080/",
     "height": 581
    },
    "colab_type": "code",
    "executionInfo": {
     "elapsed": 454,
     "status": "ok",
     "timestamp": 1541067394179,
     "user": {
      "displayName": "Arnaud Rousseau",
      "photoUrl": "https://lh3.googleusercontent.com/-Mpjc2MGPrQw/AAAAAAAAAAI/AAAAAAAAAA8/M6BM4QHffvQ/s64/photo.jpg",
      "userId": "05695251486119274053"
     },
     "user_tz": -60
    },
    "id": "HwW5tFj5O-0n",
    "outputId": "aafb7c26-4ecc-4d8d-a0d9-65eb5758b3ad"
   },
   "outputs": [
    {
     "data": {
      "text/plain": [
       "array([[3.34206849e-01, 2.71988858e-04, 3.69411823e-03, 3.90384719e-03,\n",
       "        2.67426530e-03, 1.82106881e-03, 2.58522504e-03, 8.58615432e-03,\n",
       "        2.13392064e-04, 2.35789944e-03, 6.41732514e-02, 1.39429513e-02,\n",
       "        4.19901044e-04, 2.75072251e-02, 1.65266101e-03, 3.73793446e-04,\n",
       "        1.78493524e-03, 1.77066133e-03, 3.28839496e-02, 1.54218613e-03,\n",
       "        7.06152711e-03, 2.56560892e-02, 1.31511374e-03, 1.38357538e-03,\n",
       "        6.61017373e-04, 2.44778418e-03, 6.90806005e-03, 5.59589686e-03,\n",
       "        1.23727252e-03, 2.43308675e-03, 1.19135517e-03, 1.27717853e-03,\n",
       "        7.22838100e-04, 4.54762077e-04, 1.76570285e-03, 9.64113642e-05,\n",
       "        4.33309190e-02, 1.19443191e-03, 1.24535139e-03, 4.37937444e-04,\n",
       "        5.55720180e-04, 1.18003727e-03, 6.21986052e-04, 3.66647169e-03,\n",
       "        8.27442016e-03, 2.21906397e-02, 7.05255382e-03, 2.37789098e-03,\n",
       "        4.38350486e-03, 2.81163957e-04, 8.02276132e-04, 5.81701752e-04,\n",
       "        4.70674044e-04, 1.76424033e-03, 1.60259253e-03, 2.02498119e-03,\n",
       "        6.14637276e-03, 1.44619343e-03, 1.52454464e-04, 1.30071223e-03,\n",
       "        1.92763808e-04, 2.66273296e-03, 1.13491078e-04, 4.45103215e-04,\n",
       "        1.01276033e-03, 2.54975818e-03, 1.58839405e-03, 3.01417429e-04,\n",
       "        7.50902994e-03, 2.32088417e-02, 8.49494361e-04, 1.43696635e-03,\n",
       "        1.44226179e-02, 4.04906832e-03, 1.51160551e-04, 1.08010685e-02,\n",
       "        7.50529673e-03, 1.00105314e-03, 8.95428821e-04, 2.53430475e-03,\n",
       "        4.16164577e-04, 1.73083111e-03, 7.53091415e-04, 4.90523780e-05,\n",
       "        4.15884453e-04, 4.47789626e-03, 3.09110829e-03, 5.49953664e-04,\n",
       "        8.10832623e-03, 1.00185899e-02, 3.27198970e-04, 2.73425528e-03,\n",
       "        3.64488777e-04, 1.05999527e-03, 1.96366571e-03, 1.24989739e-02,\n",
       "        5.04135533e-05, 7.37077557e-04, 4.26288025e-04, 2.16035265e-02,\n",
       "        2.89471028e-03, 2.69662384e-02, 1.53764244e-02, 1.30805280e-03,\n",
       "        1.83754275e-03, 1.24225486e-03, 3.76743992e-04, 8.90626758e-03,\n",
       "        2.95882928e-03, 1.56767876e-03, 6.32079551e-03, 2.29617581e-03,\n",
       "        1.25286002e-02, 5.30532654e-03, 2.38388721e-02, 8.69109388e-03,\n",
       "        3.84946391e-02, 3.39766324e-04, 2.32119416e-03, 2.16214987e-03]],\n",
       "      dtype=float32)"
      ]
     },
     "execution_count": 57,
     "metadata": {
      "tags": []
     },
     "output_type": "execute_result"
    }
   ],
   "source": [
    "outcome"
   ]
  },
  {
   "cell_type": "code",
   "execution_count": 58,
   "metadata": {
    "colab": {
     "base_uri": "https://localhost:8080/",
     "height": 35
    },
    "colab_type": "code",
    "executionInfo": {
     "elapsed": 389,
     "status": "ok",
     "timestamp": 1541067394680,
     "user": {
      "displayName": "Arnaud Rousseau",
      "photoUrl": "https://lh3.googleusercontent.com/-Mpjc2MGPrQw/AAAAAAAAAAI/AAAAAAAAAA8/M6BM4QHffvQ/s64/photo.jpg",
      "userId": "05695251486119274053"
     },
     "user_tz": -60
    },
    "id": "YvCT8aogQ1E6",
    "outputId": "f8f17dda-4708-4953-8ecd-adbe007ae7af"
   },
   "outputs": [
    {
     "data": {
      "text/plain": [
       "0"
      ]
     },
     "execution_count": 58,
     "metadata": {
      "tags": []
     },
     "output_type": "execute_result"
    }
   ],
   "source": [
    "outcome.argmax()"
   ]
  },
  {
   "cell_type": "markdown",
   "metadata": {
    "colab_type": "text",
    "id": "y92JtyN-XaXf"
   },
   "source": [
    "= Number of the predicted class, here = 0 = Chihuahua"
   ]
  },
  {
   "cell_type": "code",
   "execution_count": 59,
   "metadata": {
    "colab": {
     "base_uri": "https://localhost:8080/",
     "height": 54
    },
    "colab_type": "code",
    "executionInfo": {
     "elapsed": 373,
     "status": "ok",
     "timestamp": 1541067395185,
     "user": {
      "displayName": "Arnaud Rousseau",
      "photoUrl": "https://lh3.googleusercontent.com/-Mpjc2MGPrQw/AAAAAAAAAAI/AAAAAAAAAA8/M6BM4QHffvQ/s64/photo.jpg",
      "userId": "05695251486119274053"
     },
     "user_tz": -60
    },
    "id": "inKXl4PDjUDh",
    "outputId": "7f984fb4-522e-4ca7-d635-4a8a2d6a355e"
   },
   "outputs": [
    {
     "data": {
      "text/plain": [
       "class    n02085620-Chihuahua\n",
       "Name: 0, dtype: object"
      ]
     },
     "execution_count": 59,
     "metadata": {
      "tags": []
     },
     "output_type": "execute_result"
    }
   ],
   "source": [
    "class_frame.iloc[outcome.argmax()]"
   ]
  }
 ],
 "metadata": {
  "accelerator": "GPU",
  "colab": {
   "collapsed_sections": [],
   "name": "20181101_Dog_Race_Prediction_Transfer_Learning_Resnet50_D1_bottleneck_82.ipynb",
   "provenance": [],
   "version": "0.3.2"
  },
  "kernelspec": {
   "display_name": "Python 3",
   "language": "python",
   "name": "python3"
  },
  "language_info": {
   "codemirror_mode": {
    "name": "ipython",
    "version": 3
   },
   "file_extension": ".py",
   "mimetype": "text/x-python",
   "name": "python",
   "nbconvert_exporter": "python",
   "pygments_lexer": "ipython3",
   "version": "3.6.4"
  }
 },
 "nbformat": 4,
 "nbformat_minor": 1
}
