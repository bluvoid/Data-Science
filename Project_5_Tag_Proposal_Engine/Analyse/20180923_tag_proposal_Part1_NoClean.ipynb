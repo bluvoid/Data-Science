{
 "cells": [
  {
   "cell_type": "markdown",
   "metadata": {},
   "source": [
    "#  <span style=\"color:#3366ff\"> <strong> Tags Proposal</strong>"
   ]
  },
  {
   "cell_type": "markdown",
   "metadata": {},
   "source": [
    "#  <span style=\"color:#3366ff\"> <strong> 20180911 (Part 1 Cleaning)"
   ]
  },
  {
   "cell_type": "markdown",
   "metadata": {},
   "source": [
    "<span style=\"color:#3366ff\"> This notebook is dedicated to the StackExchange Database cleaning:   \n",
    "<span style=\"color:#3366ff\"> - 5000 lines sampling;  \n",
    "<span style=\"color:#3366ff\"> - Beautifulsoup : html code removal;    \n",
    "<span style=\"color:#3366ff\"> - stopwords removal (english most common words);  \n",
    "<span style=\"color:#3366ff\"> - Lemmatization;         \n",
    "<span style=\"color:#3366ff\"> - Duplicate words removal phase;      \n",
    "<span style=\"color:#3366ff\"> - Nan removal.     "
   ]
  },
  {
   "cell_type": "markdown",
   "metadata": {},
   "source": [
    "### Librairies Import"
   ]
  },
  {
   "cell_type": "code",
   "execution_count": 1,
   "metadata": {},
   "outputs": [],
   "source": [
    "import pandas as pd\n",
    "\n",
    "from bs4 import BeautifulSoup \n",
    "\n",
    "import nltk\n",
    "from nltk.corpus import stopwords # Import the stop word list\n",
    "from nltk.tokenize import word_tokenize\n",
    "from nltk.stem import WordNetLemmatizer\n",
    "\n",
    "import re\n",
    "\n",
    "import string"
   ]
  },
  {
   "cell_type": "markdown",
   "metadata": {},
   "source": [
    "### Database loading"
   ]
  },
  {
   "cell_type": "code",
   "execution_count": 2,
   "metadata": {},
   "outputs": [
    {
     "data": {
      "text/html": [
       "<div>\n",
       "<style scoped>\n",
       "    .dataframe tbody tr th:only-of-type {\n",
       "        vertical-align: middle;\n",
       "    }\n",
       "\n",
       "    .dataframe tbody tr th {\n",
       "        vertical-align: top;\n",
       "    }\n",
       "\n",
       "    .dataframe thead th {\n",
       "        text-align: right;\n",
       "    }\n",
       "</style>\n",
       "<table border=\"1\" class=\"dataframe\">\n",
       "  <thead>\n",
       "    <tr style=\"text-align: right;\">\n",
       "      <th></th>\n",
       "      <th>Id</th>\n",
       "      <th>Body</th>\n",
       "      <th>Title</th>\n",
       "      <th>Tags</th>\n",
       "    </tr>\n",
       "  </thead>\n",
       "  <tbody>\n",
       "    <tr>\n",
       "      <th>0</th>\n",
       "      <td>4</td>\n",
       "      <td>&lt;p&gt;I want to use a track-bar to change a form'...</td>\n",
       "      <td>Convert Decimal to Double?</td>\n",
       "      <td>&lt;c#&gt;&lt;floating-point&gt;&lt;type-conversion&gt;&lt;double&gt;&lt;...</td>\n",
       "    </tr>\n",
       "    <tr>\n",
       "      <th>1</th>\n",
       "      <td>6</td>\n",
       "      <td>&lt;p&gt;I have an absolutely positioned &lt;code&gt;div&lt;/...</td>\n",
       "      <td>Percentage width child element in absolutely p...</td>\n",
       "      <td>&lt;html&gt;&lt;css&gt;&lt;css3&gt;&lt;internet-explorer-7&gt;</td>\n",
       "    </tr>\n",
       "    <tr>\n",
       "      <th>2</th>\n",
       "      <td>9</td>\n",
       "      <td>&lt;p&gt;Given a &lt;code&gt;DateTime&lt;/code&gt; representing ...</td>\n",
       "      <td>How do I calculate someone's age in C#?</td>\n",
       "      <td>&lt;c#&gt;&lt;.net&gt;&lt;datetime&gt;</td>\n",
       "    </tr>\n",
       "    <tr>\n",
       "      <th>3</th>\n",
       "      <td>11</td>\n",
       "      <td>&lt;p&gt;Given a specific &lt;code&gt;DateTime&lt;/code&gt; valu...</td>\n",
       "      <td>Calculate relative time in C#</td>\n",
       "      <td>&lt;c#&gt;&lt;datetime&gt;&lt;time&gt;&lt;datediff&gt;&lt;relative-time-s...</td>\n",
       "    </tr>\n",
       "    <tr>\n",
       "      <th>4</th>\n",
       "      <td>13</td>\n",
       "      <td>&lt;p&gt;Is there any standard way for a Web Server ...</td>\n",
       "      <td>Determine a User's Timezone</td>\n",
       "      <td>&lt;javascript&gt;&lt;html&gt;&lt;browser&gt;&lt;timezone&gt;&lt;timezone...</td>\n",
       "    </tr>\n",
       "  </tbody>\n",
       "</table>\n",
       "</div>"
      ],
      "text/plain": [
       "   Id                                               Body  \\\n",
       "0   4  <p>I want to use a track-bar to change a form'...   \n",
       "1   6  <p>I have an absolutely positioned <code>div</...   \n",
       "2   9  <p>Given a <code>DateTime</code> representing ...   \n",
       "3  11  <p>Given a specific <code>DateTime</code> valu...   \n",
       "4  13  <p>Is there any standard way for a Web Server ...   \n",
       "\n",
       "                                               Title  \\\n",
       "0                         Convert Decimal to Double?   \n",
       "1  Percentage width child element in absolutely p...   \n",
       "2            How do I calculate someone's age in C#?   \n",
       "3                      Calculate relative time in C#   \n",
       "4                        Determine a User's Timezone   \n",
       "\n",
       "                                                Tags  \n",
       "0  <c#><floating-point><type-conversion><double><...  \n",
       "1             <html><css><css3><internet-explorer-7>  \n",
       "2                               <c#><.net><datetime>  \n",
       "3  <c#><datetime><time><datediff><relative-time-s...  \n",
       "4  <javascript><html><browser><timezone><timezone...  "
      ]
     },
     "execution_count": 2,
     "metadata": {},
     "output_type": "execute_result"
    }
   ],
   "source": [
    "data_text_raw1 = pd.read_csv(\n",
    "    'DATA/QueryResults213000.csv', \n",
    "    #sep='\\t', \n",
    "    encoding='utf-8', \n",
    "    low_memory = False)\n",
    "\n",
    "data_text_raw1.head()"
   ]
  },
  {
   "cell_type": "code",
   "execution_count": 3,
   "metadata": {
    "scrolled": true
   },
   "outputs": [
    {
     "name": "stdout",
     "output_type": "stream",
     "text": [
      "This database contains 26683 questions/titles  + tags.\n"
     ]
    }
   ],
   "source": [
    "# Concat Body + Title = Text\n",
    "data_text_raw1['Text'] = data_text_raw1['Body'] + data_text_raw1['Title']\n",
    "\n",
    "data_text_raw = data_text_raw1.filter(items=(['Text', 'Tags']))\n",
    "\n",
    "shaperaw = data_text_raw.shape\n",
    "\n",
    "print(\"This database contains\",shaperaw[0], \n",
    "      \"questions/titles  + tags.\")"
   ]
  },
  {
   "cell_type": "code",
   "execution_count": 4,
   "metadata": {},
   "outputs": [
    {
     "data": {
      "text/html": [
       "<div>\n",
       "<style scoped>\n",
       "    .dataframe tbody tr th:only-of-type {\n",
       "        vertical-align: middle;\n",
       "    }\n",
       "\n",
       "    .dataframe tbody tr th {\n",
       "        vertical-align: top;\n",
       "    }\n",
       "\n",
       "    .dataframe thead th {\n",
       "        text-align: right;\n",
       "    }\n",
       "</style>\n",
       "<table border=\"1\" class=\"dataframe\">\n",
       "  <thead>\n",
       "    <tr style=\"text-align: right;\">\n",
       "      <th></th>\n",
       "      <th>Text</th>\n",
       "      <th>Tags</th>\n",
       "    </tr>\n",
       "  </thead>\n",
       "  <tbody>\n",
       "    <tr>\n",
       "      <th>0</th>\n",
       "      <td>&lt;p&gt;I want to use a track-bar to change a form'...</td>\n",
       "      <td>&lt;c#&gt;&lt;floating-point&gt;&lt;type-conversion&gt;&lt;double&gt;&lt;...</td>\n",
       "    </tr>\n",
       "    <tr>\n",
       "      <th>1</th>\n",
       "      <td>&lt;p&gt;I have an absolutely positioned &lt;code&gt;div&lt;/...</td>\n",
       "      <td>&lt;html&gt;&lt;css&gt;&lt;css3&gt;&lt;internet-explorer-7&gt;</td>\n",
       "    </tr>\n",
       "    <tr>\n",
       "      <th>2</th>\n",
       "      <td>&lt;p&gt;Given a &lt;code&gt;DateTime&lt;/code&gt; representing ...</td>\n",
       "      <td>&lt;c#&gt;&lt;.net&gt;&lt;datetime&gt;</td>\n",
       "    </tr>\n",
       "    <tr>\n",
       "      <th>3</th>\n",
       "      <td>&lt;p&gt;Given a specific &lt;code&gt;DateTime&lt;/code&gt; valu...</td>\n",
       "      <td>&lt;c#&gt;&lt;datetime&gt;&lt;time&gt;&lt;datediff&gt;&lt;relative-time-s...</td>\n",
       "    </tr>\n",
       "    <tr>\n",
       "      <th>4</th>\n",
       "      <td>&lt;p&gt;Is there any standard way for a Web Server ...</td>\n",
       "      <td>&lt;javascript&gt;&lt;html&gt;&lt;browser&gt;&lt;timezone&gt;&lt;timezone...</td>\n",
       "    </tr>\n",
       "    <tr>\n",
       "      <th>5</th>\n",
       "      <td>&lt;p&gt;What is the difference between &lt;a href=\"htt...</td>\n",
       "      <td>&lt;.net&gt;&lt;math&gt;</td>\n",
       "    </tr>\n",
       "    <tr>\n",
       "      <th>6</th>\n",
       "      <td>&lt;p&gt;How do you expose a LINQ query as an ASMX w...</td>\n",
       "      <td>&lt;c#&gt;&lt;linq&gt;&lt;web-services&gt;&lt;.net-3.5&gt;</td>\n",
       "    </tr>\n",
       "    <tr>\n",
       "      <th>7</th>\n",
       "      <td>&lt;p&gt;How do I store binary data in &lt;a href=\"http...</td>\n",
       "      <td>&lt;mysql&gt;&lt;database&gt;&lt;binary-data&gt;&lt;data-storage&gt;</td>\n",
       "    </tr>\n",
       "    <tr>\n",
       "      <th>8</th>\n",
       "      <td>&lt;p&gt;I'm looking for the fastest way to obtain t...</td>\n",
       "      <td>&lt;performance&gt;&lt;algorithm&gt;&lt;language-agnostic&gt;&lt;un...</td>\n",
       "    </tr>\n",
       "    <tr>\n",
       "      <th>9</th>\n",
       "      <td>&lt;p&gt;If I have a &lt;code&gt;trigger&lt;/code&gt; &lt;code&gt;befo...</td>\n",
       "      <td>&lt;mysql&gt;&lt;database&gt;&lt;triggers&gt;</td>\n",
       "    </tr>\n",
       "  </tbody>\n",
       "</table>\n",
       "</div>"
      ],
      "text/plain": [
       "                                                Text  \\\n",
       "0  <p>I want to use a track-bar to change a form'...   \n",
       "1  <p>I have an absolutely positioned <code>div</...   \n",
       "2  <p>Given a <code>DateTime</code> representing ...   \n",
       "3  <p>Given a specific <code>DateTime</code> valu...   \n",
       "4  <p>Is there any standard way for a Web Server ...   \n",
       "5  <p>What is the difference between <a href=\"htt...   \n",
       "6  <p>How do you expose a LINQ query as an ASMX w...   \n",
       "7  <p>How do I store binary data in <a href=\"http...   \n",
       "8  <p>I'm looking for the fastest way to obtain t...   \n",
       "9  <p>If I have a <code>trigger</code> <code>befo...   \n",
       "\n",
       "                                                Tags  \n",
       "0  <c#><floating-point><type-conversion><double><...  \n",
       "1             <html><css><css3><internet-explorer-7>  \n",
       "2                               <c#><.net><datetime>  \n",
       "3  <c#><datetime><time><datediff><relative-time-s...  \n",
       "4  <javascript><html><browser><timezone><timezone...  \n",
       "5                                       <.net><math>  \n",
       "6                 <c#><linq><web-services><.net-3.5>  \n",
       "7       <mysql><database><binary-data><data-storage>  \n",
       "8  <performance><algorithm><language-agnostic><un...  \n",
       "9                        <mysql><database><triggers>  "
      ]
     },
     "execution_count": 4,
     "metadata": {},
     "output_type": "execute_result"
    }
   ],
   "source": [
    "pd.options.display.max_columns=999\n",
    "data_text_raw.head(10)"
   ]
  },
  {
   "cell_type": "markdown",
   "metadata": {},
   "source": [
    "# 10000 lines Sampled database for Test"
   ]
  },
  {
   "cell_type": "code",
   "execution_count": 5,
   "metadata": {},
   "outputs": [],
   "source": [
    "data_test = data_text_raw.head(10000)"
   ]
  },
  {
   "cell_type": "code",
   "execution_count": 6,
   "metadata": {},
   "outputs": [
    {
     "name": "stdout",
     "output_type": "stream",
     "text": [
      "This SAMPLED database contains 10000 questions/titles + tags to be cleaned.\n"
     ]
    }
   ],
   "source": [
    "shapetest = data_test.shape\n",
    "\n",
    "print(\"This SAMPLED database contains\",shapetest[0], \n",
    "      \"questions/titles + tags to be cleaned.\")"
   ]
  },
  {
   "cell_type": "code",
   "execution_count": 7,
   "metadata": {},
   "outputs": [],
   "source": [
    "#data_test = data_text_raw"
   ]
  },
  {
   "cell_type": "markdown",
   "metadata": {},
   "source": [
    "<span style=\"color:#3366ff\"> This table contains a lot of html code and other symobols --> To be cleaned"
   ]
  },
  {
   "cell_type": "markdown",
   "metadata": {},
   "source": [
    "# <span style=\"color:#6600cc\"> Part 1: \"Text\" X CLEANING  - - - - - - - - - - - - - - - "
   ]
  },
  {
   "cell_type": "markdown",
   "metadata": {},
   "source": [
    "### Html code removing in \"Text\""
   ]
  },
  {
   "cell_type": "code",
   "execution_count": 8,
   "metadata": {},
   "outputs": [
    {
     "name": "stderr",
     "output_type": "stream",
     "text": [
      "/home/ubuntu/anaconda3/lib/python3.6/site-packages/bs4/__init__.py:181: UserWarning: No parser was explicitly specified, so I'm using the best available HTML parser for this system (\"lxml\"). This usually isn't a problem, but if you run this code on another system, or in a different virtual environment, it may use a different parser and behave differently.\n",
      "\n",
      "The code that caused this warning is on line 193 of the file /home/ubuntu/anaconda3/lib/python3.6/runpy.py. To get rid of this warning, change code that looks like this:\n",
      "\n",
      " BeautifulSoup(YOUR_MARKUP})\n",
      "\n",
      "to this:\n",
      "\n",
      " BeautifulSoup(YOUR_MARKUP, \"lxml\")\n",
      "\n",
      "  markup_type=markup_type))\n"
     ]
    },
    {
     "data": {
      "text/html": [
       "<div>\n",
       "<style scoped>\n",
       "    .dataframe tbody tr th:only-of-type {\n",
       "        vertical-align: middle;\n",
       "    }\n",
       "\n",
       "    .dataframe tbody tr th {\n",
       "        vertical-align: top;\n",
       "    }\n",
       "\n",
       "    .dataframe thead th {\n",
       "        text-align: right;\n",
       "    }\n",
       "</style>\n",
       "<table border=\"1\" class=\"dataframe\">\n",
       "  <thead>\n",
       "    <tr style=\"text-align: right;\">\n",
       "      <th></th>\n",
       "      <th>Text_tmp_soup</th>\n",
       "    </tr>\n",
       "  </thead>\n",
       "  <tbody>\n",
       "    <tr>\n",
       "      <th>0</th>\n",
       "      <td>i want to use a track bar to change a form s o...</td>\n",
       "    </tr>\n",
       "    <tr>\n",
       "      <th>1</th>\n",
       "      <td>i have an absolutely positioned div containing...</td>\n",
       "    </tr>\n",
       "    <tr>\n",
       "      <th>2</th>\n",
       "      <td>given a datetime representing a person s birth...</td>\n",
       "    </tr>\n",
       "    <tr>\n",
       "      <th>3</th>\n",
       "      <td>given a specific datetime value  how do i disp...</td>\n",
       "    </tr>\n",
       "    <tr>\n",
       "      <th>4</th>\n",
       "      <td>is there any standard way for a web server to ...</td>\n",
       "    </tr>\n",
       "  </tbody>\n",
       "</table>\n",
       "</div>"
      ],
      "text/plain": [
       "                                       Text_tmp_soup\n",
       "0  i want to use a track bar to change a form s o...\n",
       "1  i have an absolutely positioned div containing...\n",
       "2  given a datetime representing a person s birth...\n",
       "3  given a specific datetime value  how do i disp...\n",
       "4  is there any standard way for a web server to ..."
      ]
     },
     "execution_count": 8,
     "metadata": {},
     "output_type": "execute_result"
    }
   ],
   "source": [
    "# BeautifulSoup Applied on all the table\n",
    "data = [BeautifulSoup(x).get_text() for x in data_test[\"Text\"]]\n",
    "# \"Text\" LOWer\n",
    "data = [x.lower() for x in data]\n",
    "# \"Text\" Punctuation removal\n",
    "data = [x.translate(string.punctuation) for x in data]\n",
    "# Last Symbols removal\n",
    "data = [re.sub('[^a-zA-Z]',' ',x) for x in data]\n",
    "\n",
    "Text_tmp = pd.DataFrame(data, columns = ['Text_tmp_soup'])\n",
    "Text_tmp.head()"
   ]
  },
  {
   "cell_type": "markdown",
   "metadata": {},
   "source": [
    "### Stopwords removal"
   ]
  },
  {
   "cell_type": "code",
   "execution_count": 9,
   "metadata": {},
   "outputs": [],
   "source": [
    "# english words over used\n",
    "stops = set(stopwords.words('english'))"
   ]
  },
  {
   "cell_type": "code",
   "execution_count": 10,
   "metadata": {},
   "outputs": [],
   "source": [
    "def tok(x):\n",
    "    kkk = word_tokenize(x)\n",
    "    ttt = [w for w in kkk if w not in stops]\n",
    "    return ttt"
   ]
  },
  {
   "cell_type": "code",
   "execution_count": 11,
   "metadata": {},
   "outputs": [
    {
     "data": {
      "text/html": [
       "<div>\n",
       "<style scoped>\n",
       "    .dataframe tbody tr th:only-of-type {\n",
       "        vertical-align: middle;\n",
       "    }\n",
       "\n",
       "    .dataframe tbody tr th {\n",
       "        vertical-align: top;\n",
       "    }\n",
       "\n",
       "    .dataframe thead th {\n",
       "        text-align: right;\n",
       "    }\n",
       "</style>\n",
       "<table border=\"1\" class=\"dataframe\">\n",
       "  <thead>\n",
       "    <tr style=\"text-align: right;\">\n",
       "      <th></th>\n",
       "      <th>Text_tmp_nan_double</th>\n",
       "    </tr>\n",
       "  </thead>\n",
       "  <tbody>\n",
       "    <tr>\n",
       "      <th>0</th>\n",
       "      <td>want use track bar change form opacity code de...</td>\n",
       "    </tr>\n",
       "    <tr>\n",
       "      <th>1</th>\n",
       "      <td>absolutely positioned div containing several c...</td>\n",
       "    </tr>\n",
       "    <tr>\n",
       "      <th>2</th>\n",
       "      <td>given datetime representing person birthday ca...</td>\n",
       "    </tr>\n",
       "    <tr>\n",
       "      <th>3</th>\n",
       "      <td>given specific datetime value display relative...</td>\n",
       "    </tr>\n",
       "    <tr>\n",
       "      <th>4</th>\n",
       "      <td>standard way web server able determine user ti...</td>\n",
       "    </tr>\n",
       "    <tr>\n",
       "      <th>5</th>\n",
       "      <td>difference math floor math truncate net differ...</td>\n",
       "    </tr>\n",
       "    <tr>\n",
       "      <th>6</th>\n",
       "      <td>expose linq query asmx web service usually bus...</td>\n",
       "    </tr>\n",
       "    <tr>\n",
       "      <th>7</th>\n",
       "      <td>store binary data mysql binary data mysql</td>\n",
       "    </tr>\n",
       "    <tr>\n",
       "      <th>8</th>\n",
       "      <td>looking fastest way obtain value personal chal...</td>\n",
       "    </tr>\n",
       "    <tr>\n",
       "      <th>9</th>\n",
       "      <td>trigger update table throw error prevents upda...</td>\n",
       "    </tr>\n",
       "  </tbody>\n",
       "</table>\n",
       "</div>"
      ],
      "text/plain": [
       "                                 Text_tmp_nan_double\n",
       "0  want use track bar change form opacity code de...\n",
       "1  absolutely positioned div containing several c...\n",
       "2  given datetime representing person birthday ca...\n",
       "3  given specific datetime value display relative...\n",
       "4  standard way web server able determine user ti...\n",
       "5  difference math floor math truncate net differ...\n",
       "6  expose linq query asmx web service usually bus...\n",
       "7          store binary data mysql binary data mysql\n",
       "8  looking fastest way obtain value personal chal...\n",
       "9  trigger update table throw error prevents upda..."
      ]
     },
     "execution_count": 11,
     "metadata": {},
     "output_type": "execute_result"
    }
   ],
   "source": [
    "data = [\" \".join(tok(x)) for x in Text_tmp['Text_tmp_soup']]\n",
    "Text_tmp = pd.DataFrame(data, columns = ['Text_tmp_nan_double'])\n",
    "Text_tmp.head(10)"
   ]
  },
  {
   "cell_type": "code",
   "execution_count": null,
   "metadata": {},
   "outputs": [],
   "source": []
  },
  {
   "cell_type": "code",
   "execution_count": 12,
   "metadata": {},
   "outputs": [
    {
     "data": {
      "text/html": [
       "<div>\n",
       "<style scoped>\n",
       "    .dataframe tbody tr th:only-of-type {\n",
       "        vertical-align: middle;\n",
       "    }\n",
       "\n",
       "    .dataframe tbody tr th {\n",
       "        vertical-align: top;\n",
       "    }\n",
       "\n",
       "    .dataframe thead th {\n",
       "        text-align: right;\n",
       "    }\n",
       "</style>\n",
       "<table border=\"1\" class=\"dataframe\">\n",
       "  <thead>\n",
       "    <tr style=\"text-align: right;\">\n",
       "      <th></th>\n",
       "      <th>Text_tmp_nan_double</th>\n",
       "      <th>Tags</th>\n",
       "    </tr>\n",
       "  </thead>\n",
       "  <tbody>\n",
       "    <tr>\n",
       "      <th>0</th>\n",
       "      <td>want use track bar change form opacity code de...</td>\n",
       "      <td>&lt;c#&gt;&lt;floating-point&gt;&lt;type-conversion&gt;&lt;double&gt;&lt;...</td>\n",
       "    </tr>\n",
       "    <tr>\n",
       "      <th>1</th>\n",
       "      <td>absolutely positioned div containing several c...</td>\n",
       "      <td>&lt;html&gt;&lt;css&gt;&lt;css3&gt;&lt;internet-explorer-7&gt;</td>\n",
       "    </tr>\n",
       "    <tr>\n",
       "      <th>2</th>\n",
       "      <td>given datetime representing person birthday ca...</td>\n",
       "      <td>&lt;c#&gt;&lt;.net&gt;&lt;datetime&gt;</td>\n",
       "    </tr>\n",
       "    <tr>\n",
       "      <th>3</th>\n",
       "      <td>given specific datetime value display relative...</td>\n",
       "      <td>&lt;c#&gt;&lt;datetime&gt;&lt;time&gt;&lt;datediff&gt;&lt;relative-time-s...</td>\n",
       "    </tr>\n",
       "    <tr>\n",
       "      <th>4</th>\n",
       "      <td>standard way web server able determine user ti...</td>\n",
       "      <td>&lt;javascript&gt;&lt;html&gt;&lt;browser&gt;&lt;timezone&gt;&lt;timezone...</td>\n",
       "    </tr>\n",
       "    <tr>\n",
       "      <th>5</th>\n",
       "      <td>difference math floor math truncate net differ...</td>\n",
       "      <td>&lt;.net&gt;&lt;math&gt;</td>\n",
       "    </tr>\n",
       "    <tr>\n",
       "      <th>6</th>\n",
       "      <td>expose linq query asmx web service usually bus...</td>\n",
       "      <td>&lt;c#&gt;&lt;linq&gt;&lt;web-services&gt;&lt;.net-3.5&gt;</td>\n",
       "    </tr>\n",
       "    <tr>\n",
       "      <th>7</th>\n",
       "      <td>store binary data mysql binary data mysql</td>\n",
       "      <td>&lt;mysql&gt;&lt;database&gt;&lt;binary-data&gt;&lt;data-storage&gt;</td>\n",
       "    </tr>\n",
       "    <tr>\n",
       "      <th>8</th>\n",
       "      <td>looking fastest way obtain value personal chal...</td>\n",
       "      <td>&lt;performance&gt;&lt;algorithm&gt;&lt;language-agnostic&gt;&lt;un...</td>\n",
       "    </tr>\n",
       "    <tr>\n",
       "      <th>9</th>\n",
       "      <td>trigger update table throw error prevents upda...</td>\n",
       "      <td>&lt;mysql&gt;&lt;database&gt;&lt;triggers&gt;</td>\n",
       "    </tr>\n",
       "  </tbody>\n",
       "</table>\n",
       "</div>"
      ],
      "text/plain": [
       "                                 Text_tmp_nan_double  \\\n",
       "0  want use track bar change form opacity code de...   \n",
       "1  absolutely positioned div containing several c...   \n",
       "2  given datetime representing person birthday ca...   \n",
       "3  given specific datetime value display relative...   \n",
       "4  standard way web server able determine user ti...   \n",
       "5  difference math floor math truncate net differ...   \n",
       "6  expose linq query asmx web service usually bus...   \n",
       "7          store binary data mysql binary data mysql   \n",
       "8  looking fastest way obtain value personal chal...   \n",
       "9  trigger update table throw error prevents upda...   \n",
       "\n",
       "                                                Tags  \n",
       "0  <c#><floating-point><type-conversion><double><...  \n",
       "1             <html><css><css3><internet-explorer-7>  \n",
       "2                               <c#><.net><datetime>  \n",
       "3  <c#><datetime><time><datediff><relative-time-s...  \n",
       "4  <javascript><html><browser><timezone><timezone...  \n",
       "5                                       <.net><math>  \n",
       "6                 <c#><linq><web-services><.net-3.5>  \n",
       "7       <mysql><database><binary-data><data-storage>  \n",
       "8  <performance><algorithm><language-agnostic><un...  \n",
       "9                        <mysql><database><triggers>  "
      ]
     },
     "execution_count": 12,
     "metadata": {},
     "output_type": "execute_result"
    }
   ],
   "source": [
    "data_text_tmp = pd.concat([Text_tmp['Text_tmp_nan_double'], data_test[\"Tags\"]], axis = 1)\n",
    "data_text_tmp.head(10)"
   ]
  },
  {
   "cell_type": "markdown",
   "metadata": {},
   "source": [
    "### \"Text_OK\" Dropna"
   ]
  },
  {
   "cell_type": "code",
   "execution_count": 13,
   "metadata": {},
   "outputs": [
    {
     "data": {
      "text/html": [
       "<div>\n",
       "<style scoped>\n",
       "    .dataframe tbody tr th:only-of-type {\n",
       "        vertical-align: middle;\n",
       "    }\n",
       "\n",
       "    .dataframe tbody tr th {\n",
       "        vertical-align: top;\n",
       "    }\n",
       "\n",
       "    .dataframe thead th {\n",
       "        text-align: right;\n",
       "    }\n",
       "</style>\n",
       "<table border=\"1\" class=\"dataframe\">\n",
       "  <thead>\n",
       "    <tr style=\"text-align: right;\">\n",
       "      <th></th>\n",
       "      <th>Text_tmp_nan_double</th>\n",
       "      <th>Tags</th>\n",
       "    </tr>\n",
       "  </thead>\n",
       "  <tbody>\n",
       "    <tr>\n",
       "      <th>0</th>\n",
       "      <td>want use track bar change form opacity code de...</td>\n",
       "      <td>&lt;c#&gt;&lt;floating-point&gt;&lt;type-conversion&gt;&lt;double&gt;&lt;...</td>\n",
       "    </tr>\n",
       "    <tr>\n",
       "      <th>1</th>\n",
       "      <td>absolutely positioned div containing several c...</td>\n",
       "      <td>&lt;html&gt;&lt;css&gt;&lt;css3&gt;&lt;internet-explorer-7&gt;</td>\n",
       "    </tr>\n",
       "    <tr>\n",
       "      <th>2</th>\n",
       "      <td>given datetime representing person birthday ca...</td>\n",
       "      <td>&lt;c#&gt;&lt;.net&gt;&lt;datetime&gt;</td>\n",
       "    </tr>\n",
       "    <tr>\n",
       "      <th>3</th>\n",
       "      <td>given specific datetime value display relative...</td>\n",
       "      <td>&lt;c#&gt;&lt;datetime&gt;&lt;time&gt;&lt;datediff&gt;&lt;relative-time-s...</td>\n",
       "    </tr>\n",
       "    <tr>\n",
       "      <th>4</th>\n",
       "      <td>standard way web server able determine user ti...</td>\n",
       "      <td>&lt;javascript&gt;&lt;html&gt;&lt;browser&gt;&lt;timezone&gt;&lt;timezone...</td>\n",
       "    </tr>\n",
       "    <tr>\n",
       "      <th>5</th>\n",
       "      <td>difference math floor math truncate net differ...</td>\n",
       "      <td>&lt;.net&gt;&lt;math&gt;</td>\n",
       "    </tr>\n",
       "    <tr>\n",
       "      <th>6</th>\n",
       "      <td>expose linq query asmx web service usually bus...</td>\n",
       "      <td>&lt;c#&gt;&lt;linq&gt;&lt;web-services&gt;&lt;.net-3.5&gt;</td>\n",
       "    </tr>\n",
       "    <tr>\n",
       "      <th>7</th>\n",
       "      <td>store binary data mysql binary data mysql</td>\n",
       "      <td>&lt;mysql&gt;&lt;database&gt;&lt;binary-data&gt;&lt;data-storage&gt;</td>\n",
       "    </tr>\n",
       "    <tr>\n",
       "      <th>8</th>\n",
       "      <td>looking fastest way obtain value personal chal...</td>\n",
       "      <td>&lt;performance&gt;&lt;algorithm&gt;&lt;language-agnostic&gt;&lt;un...</td>\n",
       "    </tr>\n",
       "    <tr>\n",
       "      <th>9</th>\n",
       "      <td>trigger update table throw error prevents upda...</td>\n",
       "      <td>&lt;mysql&gt;&lt;database&gt;&lt;triggers&gt;</td>\n",
       "    </tr>\n",
       "    <tr>\n",
       "      <th>10</th>\n",
       "      <td>issues getting c sockets api work properly c s...</td>\n",
       "      <td>&lt;c++&gt;&lt;c&gt;&lt;sockets&gt;&lt;mainframe&gt;&lt;zos&gt;</td>\n",
       "    </tr>\n",
       "    <tr>\n",
       "      <th>11</th>\n",
       "      <td>forcefully unload bytearray memory using actio...</td>\n",
       "      <td>&lt;arrays&gt;&lt;actionscript-3&gt;&lt;flex&gt;</td>\n",
       "    </tr>\n",
       "    <tr>\n",
       "      <th>12</th>\n",
       "      <td>monitor sql server database changes table with...</td>\n",
       "      <td>&lt;sql&gt;&lt;sql-server&gt;&lt;datatable&gt;&lt;rdbms&gt;</td>\n",
       "    </tr>\n",
       "    <tr>\n",
       "      <th>13</th>\n",
       "      <td>aware net three timer types see comparing time...</td>\n",
       "      <td>&lt;c#&gt;&lt;.net&gt;&lt;vb.net&gt;&lt;timer&gt;</td>\n",
       "    </tr>\n",
       "    <tr>\n",
       "      <th>14</th>\n",
       "      <td>starting new web application php time around w...</td>\n",
       "      <td>&lt;php&gt;&lt;plugins&gt;&lt;architecture&gt;&lt;hook&gt;</td>\n",
       "    </tr>\n",
       "  </tbody>\n",
       "</table>\n",
       "</div>"
      ],
      "text/plain": [
       "                                  Text_tmp_nan_double  \\\n",
       "0   want use track bar change form opacity code de...   \n",
       "1   absolutely positioned div containing several c...   \n",
       "2   given datetime representing person birthday ca...   \n",
       "3   given specific datetime value display relative...   \n",
       "4   standard way web server able determine user ti...   \n",
       "5   difference math floor math truncate net differ...   \n",
       "6   expose linq query asmx web service usually bus...   \n",
       "7           store binary data mysql binary data mysql   \n",
       "8   looking fastest way obtain value personal chal...   \n",
       "9   trigger update table throw error prevents upda...   \n",
       "10  issues getting c sockets api work properly c s...   \n",
       "11  forcefully unload bytearray memory using actio...   \n",
       "12  monitor sql server database changes table with...   \n",
       "13  aware net three timer types see comparing time...   \n",
       "14  starting new web application php time around w...   \n",
       "\n",
       "                                                 Tags  \n",
       "0   <c#><floating-point><type-conversion><double><...  \n",
       "1              <html><css><css3><internet-explorer-7>  \n",
       "2                                <c#><.net><datetime>  \n",
       "3   <c#><datetime><time><datediff><relative-time-s...  \n",
       "4   <javascript><html><browser><timezone><timezone...  \n",
       "5                                        <.net><math>  \n",
       "6                  <c#><linq><web-services><.net-3.5>  \n",
       "7        <mysql><database><binary-data><data-storage>  \n",
       "8   <performance><algorithm><language-agnostic><un...  \n",
       "9                         <mysql><database><triggers>  \n",
       "10                  <c++><c><sockets><mainframe><zos>  \n",
       "11                     <arrays><actionscript-3><flex>  \n",
       "12                <sql><sql-server><datatable><rdbms>  \n",
       "13                          <c#><.net><vb.net><timer>  \n",
       "14                 <php><plugins><architecture><hook>  "
      ]
     },
     "execution_count": 13,
     "metadata": {},
     "output_type": "execute_result"
    }
   ],
   "source": [
    "data_text_drop = data_text_tmp.loc[data_text_tmp.Text_tmp_nan_double.str.len()>0]\n",
    "\n",
    "data_text_drop = pd.DataFrame(data_text_drop , columns = ['Text_tmp_nan_double', 'Tags']).reset_index()\n",
    "data_text_drop = data_text_drop.filter(items=(['Text_tmp_nan_double', 'Tags']))\n",
    "data_text_drop.head(15)"
   ]
  },
  {
   "cell_type": "code",
   "execution_count": 14,
   "metadata": {},
   "outputs": [
    {
     "name": "stdout",
     "output_type": "stream",
     "text": [
      "This SAMPLED & CLEANED database contains 10000 questions/titles  + tags.\n"
     ]
    }
   ],
   "source": [
    "shapetext = data_text_drop.shape\n",
    "\n",
    "print(\"This SAMPLED & CLEANED database contains\",shapetext[0], \n",
    "      \"questions/titles  + tags.\")"
   ]
  },
  {
   "cell_type": "markdown",
   "metadata": {},
   "source": [
    "### \"Text\" Lemmatization"
   ]
  },
  {
   "cell_type": "code",
   "execution_count": 15,
   "metadata": {},
   "outputs": [],
   "source": [
    "wnl = WordNetLemmatizer()\n",
    "\n",
    "def lemm(x):\n",
    "    lemlist = []\n",
    "    [lemlist.append(wnl.lemmatize(x))]\n",
    "    return lemlist"
   ]
  },
  {
   "cell_type": "code",
   "execution_count": 16,
   "metadata": {},
   "outputs": [
    {
     "data": {
      "text/html": [
       "<div>\n",
       "<style scoped>\n",
       "    .dataframe tbody tr th:only-of-type {\n",
       "        vertical-align: middle;\n",
       "    }\n",
       "\n",
       "    .dataframe tbody tr th {\n",
       "        vertical-align: top;\n",
       "    }\n",
       "\n",
       "    .dataframe thead th {\n",
       "        text-align: right;\n",
       "    }\n",
       "</style>\n",
       "<table border=\"1\" class=\"dataframe\">\n",
       "  <thead>\n",
       "    <tr style=\"text-align: right;\">\n",
       "      <th></th>\n",
       "      <th>Text_tmp_double</th>\n",
       "    </tr>\n",
       "  </thead>\n",
       "  <tbody>\n",
       "    <tr>\n",
       "      <th>0</th>\n",
       "      <td>want use track bar change form opacity code de...</td>\n",
       "    </tr>\n",
       "    <tr>\n",
       "      <th>1</th>\n",
       "      <td>absolutely positioned div containing several c...</td>\n",
       "    </tr>\n",
       "    <tr>\n",
       "      <th>2</th>\n",
       "      <td>given datetime representing person birthday ca...</td>\n",
       "    </tr>\n",
       "    <tr>\n",
       "      <th>3</th>\n",
       "      <td>given specific datetime value display relative...</td>\n",
       "    </tr>\n",
       "    <tr>\n",
       "      <th>4</th>\n",
       "      <td>standard way web server able determine user ti...</td>\n",
       "    </tr>\n",
       "    <tr>\n",
       "      <th>5</th>\n",
       "      <td>difference math floor math truncate net differ...</td>\n",
       "    </tr>\n",
       "    <tr>\n",
       "      <th>6</th>\n",
       "      <td>expose linq query asmx web service usually bus...</td>\n",
       "    </tr>\n",
       "    <tr>\n",
       "      <th>7</th>\n",
       "      <td>store binary data mysql binary data mysql</td>\n",
       "    </tr>\n",
       "    <tr>\n",
       "      <th>8</th>\n",
       "      <td>looking fastest way obtain value personal chal...</td>\n",
       "    </tr>\n",
       "    <tr>\n",
       "      <th>9</th>\n",
       "      <td>trigger update table throw error prevents upda...</td>\n",
       "    </tr>\n",
       "    <tr>\n",
       "      <th>10</th>\n",
       "      <td>issues getting c sockets api work properly c s...</td>\n",
       "    </tr>\n",
       "    <tr>\n",
       "      <th>11</th>\n",
       "      <td>forcefully unload bytearray memory using actio...</td>\n",
       "    </tr>\n",
       "    <tr>\n",
       "      <th>12</th>\n",
       "      <td>monitor sql server database changes table with...</td>\n",
       "    </tr>\n",
       "    <tr>\n",
       "      <th>13</th>\n",
       "      <td>aware net three timer types see comparing time...</td>\n",
       "    </tr>\n",
       "    <tr>\n",
       "      <th>14</th>\n",
       "      <td>starting new web application php time around w...</td>\n",
       "    </tr>\n",
       "  </tbody>\n",
       "</table>\n",
       "</div>"
      ],
      "text/plain": [
       "                                      Text_tmp_double\n",
       "0   want use track bar change form opacity code de...\n",
       "1   absolutely positioned div containing several c...\n",
       "2   given datetime representing person birthday ca...\n",
       "3   given specific datetime value display relative...\n",
       "4   standard way web server able determine user ti...\n",
       "5   difference math floor math truncate net differ...\n",
       "6   expose linq query asmx web service usually bus...\n",
       "7           store binary data mysql binary data mysql\n",
       "8   looking fastest way obtain value personal chal...\n",
       "9   trigger update table throw error prevents upda...\n",
       "10  issues getting c sockets api work properly c s...\n",
       "11  forcefully unload bytearray memory using actio...\n",
       "12  monitor sql server database changes table with...\n",
       "13  aware net three timer types see comparing time...\n",
       "14  starting new web application php time around w..."
      ]
     },
     "execution_count": 16,
     "metadata": {},
     "output_type": "execute_result"
    }
   ],
   "source": [
    "lemmi = [lemm(x) for x in data_text_drop[\"Text_tmp_nan_double\"]]\n",
    "lemmi = pd.DataFrame(lemmi, columns=['Text_tmp_double'])\n",
    "lemmi.head(15)"
   ]
  },
  {
   "cell_type": "code",
   "execution_count": 17,
   "metadata": {},
   "outputs": [
    {
     "data": {
      "text/html": [
       "<div>\n",
       "<style scoped>\n",
       "    .dataframe tbody tr th:only-of-type {\n",
       "        vertical-align: middle;\n",
       "    }\n",
       "\n",
       "    .dataframe tbody tr th {\n",
       "        vertical-align: top;\n",
       "    }\n",
       "\n",
       "    .dataframe thead th {\n",
       "        text-align: right;\n",
       "    }\n",
       "</style>\n",
       "<table border=\"1\" class=\"dataframe\">\n",
       "  <thead>\n",
       "    <tr style=\"text-align: right;\">\n",
       "      <th></th>\n",
       "      <th>Text_tmp_double</th>\n",
       "      <th>Tags</th>\n",
       "    </tr>\n",
       "  </thead>\n",
       "  <tbody>\n",
       "    <tr>\n",
       "      <th>0</th>\n",
       "      <td>want use track bar change form opacity code de...</td>\n",
       "      <td>&lt;c#&gt;&lt;floating-point&gt;&lt;type-conversion&gt;&lt;double&gt;&lt;...</td>\n",
       "    </tr>\n",
       "    <tr>\n",
       "      <th>1</th>\n",
       "      <td>absolutely positioned div containing several c...</td>\n",
       "      <td>&lt;html&gt;&lt;css&gt;&lt;css3&gt;&lt;internet-explorer-7&gt;</td>\n",
       "    </tr>\n",
       "    <tr>\n",
       "      <th>2</th>\n",
       "      <td>given datetime representing person birthday ca...</td>\n",
       "      <td>&lt;c#&gt;&lt;.net&gt;&lt;datetime&gt;</td>\n",
       "    </tr>\n",
       "    <tr>\n",
       "      <th>3</th>\n",
       "      <td>given specific datetime value display relative...</td>\n",
       "      <td>&lt;c#&gt;&lt;datetime&gt;&lt;time&gt;&lt;datediff&gt;&lt;relative-time-s...</td>\n",
       "    </tr>\n",
       "    <tr>\n",
       "      <th>4</th>\n",
       "      <td>standard way web server able determine user ti...</td>\n",
       "      <td>&lt;javascript&gt;&lt;html&gt;&lt;browser&gt;&lt;timezone&gt;&lt;timezone...</td>\n",
       "    </tr>\n",
       "    <tr>\n",
       "      <th>5</th>\n",
       "      <td>difference math floor math truncate net differ...</td>\n",
       "      <td>&lt;.net&gt;&lt;math&gt;</td>\n",
       "    </tr>\n",
       "    <tr>\n",
       "      <th>6</th>\n",
       "      <td>expose linq query asmx web service usually bus...</td>\n",
       "      <td>&lt;c#&gt;&lt;linq&gt;&lt;web-services&gt;&lt;.net-3.5&gt;</td>\n",
       "    </tr>\n",
       "    <tr>\n",
       "      <th>7</th>\n",
       "      <td>store binary data mysql binary data mysql</td>\n",
       "      <td>&lt;mysql&gt;&lt;database&gt;&lt;binary-data&gt;&lt;data-storage&gt;</td>\n",
       "    </tr>\n",
       "    <tr>\n",
       "      <th>8</th>\n",
       "      <td>looking fastest way obtain value personal chal...</td>\n",
       "      <td>&lt;performance&gt;&lt;algorithm&gt;&lt;language-agnostic&gt;&lt;un...</td>\n",
       "    </tr>\n",
       "    <tr>\n",
       "      <th>9</th>\n",
       "      <td>trigger update table throw error prevents upda...</td>\n",
       "      <td>&lt;mysql&gt;&lt;database&gt;&lt;triggers&gt;</td>\n",
       "    </tr>\n",
       "  </tbody>\n",
       "</table>\n",
       "</div>"
      ],
      "text/plain": [
       "                                     Text_tmp_double  \\\n",
       "0  want use track bar change form opacity code de...   \n",
       "1  absolutely positioned div containing several c...   \n",
       "2  given datetime representing person birthday ca...   \n",
       "3  given specific datetime value display relative...   \n",
       "4  standard way web server able determine user ti...   \n",
       "5  difference math floor math truncate net differ...   \n",
       "6  expose linq query asmx web service usually bus...   \n",
       "7          store binary data mysql binary data mysql   \n",
       "8  looking fastest way obtain value personal chal...   \n",
       "9  trigger update table throw error prevents upda...   \n",
       "\n",
       "                                                Tags  \n",
       "0  <c#><floating-point><type-conversion><double><...  \n",
       "1             <html><css><css3><internet-explorer-7>  \n",
       "2                               <c#><.net><datetime>  \n",
       "3  <c#><datetime><time><datediff><relative-time-s...  \n",
       "4  <javascript><html><browser><timezone><timezone...  \n",
       "5                                       <.net><math>  \n",
       "6                 <c#><linq><web-services><.net-3.5>  \n",
       "7       <mysql><database><binary-data><data-storage>  \n",
       "8  <performance><algorithm><language-agnostic><un...  \n",
       "9                        <mysql><database><triggers>  "
      ]
     },
     "execution_count": 17,
     "metadata": {},
     "output_type": "execute_result"
    }
   ],
   "source": [
    "data_text_lemm = pd.concat([lemmi['Text_tmp_double'], data_text_drop[\"Tags\"]], axis = 1)\n",
    "data_text_lemm.head(10)"
   ]
  },
  {
   "cell_type": "markdown",
   "metadata": {},
   "source": [
    "### \"Text\" Duplicate words removal"
   ]
  },
  {
   "cell_type": "code",
   "execution_count": 18,
   "metadata": {},
   "outputs": [],
   "source": [
    "def unique(l):\n",
    "    ulist = []\n",
    "    [ulist.append(x) for x in l if x not in ulist]\n",
    "    uniq = ' '.join(ulist)\n",
    "    return uniq"
   ]
  },
  {
   "cell_type": "code",
   "execution_count": 19,
   "metadata": {},
   "outputs": [],
   "source": [
    "unik = [unique(x.split()) for x in data_text_lemm[\"Text_tmp_double\"]]"
   ]
  },
  {
   "cell_type": "code",
   "execution_count": 20,
   "metadata": {},
   "outputs": [
    {
     "data": {
      "text/html": [
       "<div>\n",
       "<style scoped>\n",
       "    .dataframe tbody tr th:only-of-type {\n",
       "        vertical-align: middle;\n",
       "    }\n",
       "\n",
       "    .dataframe tbody tr th {\n",
       "        vertical-align: top;\n",
       "    }\n",
       "\n",
       "    .dataframe thead th {\n",
       "        text-align: right;\n",
       "    }\n",
       "</style>\n",
       "<table border=\"1\" class=\"dataframe\">\n",
       "  <thead>\n",
       "    <tr style=\"text-align: right;\">\n",
       "      <th></th>\n",
       "      <th>Text_OK</th>\n",
       "    </tr>\n",
       "  </thead>\n",
       "  <tbody>\n",
       "    <tr>\n",
       "      <th>0</th>\n",
       "      <td>want use track bar change form opacity code de...</td>\n",
       "    </tr>\n",
       "    <tr>\n",
       "      <th>1</th>\n",
       "      <td>absolutely positioned div containing several c...</td>\n",
       "    </tr>\n",
       "    <tr>\n",
       "      <th>2</th>\n",
       "      <td>given datetime representing person birthday ca...</td>\n",
       "    </tr>\n",
       "    <tr>\n",
       "      <th>3</th>\n",
       "      <td>given specific datetime value display relative...</td>\n",
       "    </tr>\n",
       "    <tr>\n",
       "      <th>4</th>\n",
       "      <td>standard way web server able determine user ti...</td>\n",
       "    </tr>\n",
       "    <tr>\n",
       "      <th>5</th>\n",
       "      <td>difference math floor truncate net</td>\n",
       "    </tr>\n",
       "    <tr>\n",
       "      <th>6</th>\n",
       "      <td>expose linq query asmx web service usually bus...</td>\n",
       "    </tr>\n",
       "    <tr>\n",
       "      <th>7</th>\n",
       "      <td>store binary data mysql</td>\n",
       "    </tr>\n",
       "    <tr>\n",
       "      <th>8</th>\n",
       "      <td>looking fastest way obtain value personal chal...</td>\n",
       "    </tr>\n",
       "    <tr>\n",
       "      <th>9</th>\n",
       "      <td>trigger update table throw error prevents mysql</td>\n",
       "    </tr>\n",
       "  </tbody>\n",
       "</table>\n",
       "</div>"
      ],
      "text/plain": [
       "                                             Text_OK\n",
       "0  want use track bar change form opacity code de...\n",
       "1  absolutely positioned div containing several c...\n",
       "2  given datetime representing person birthday ca...\n",
       "3  given specific datetime value display relative...\n",
       "4  standard way web server able determine user ti...\n",
       "5                 difference math floor truncate net\n",
       "6  expose linq query asmx web service usually bus...\n",
       "7                            store binary data mysql\n",
       "8  looking fastest way obtain value personal chal...\n",
       "9    trigger update table throw error prevents mysql"
      ]
     },
     "execution_count": 20,
     "metadata": {},
     "output_type": "execute_result"
    }
   ],
   "source": [
    "unik = pd.DataFrame(unik, columns= ['Text_OK'])\n",
    "unik.head(10)"
   ]
  },
  {
   "cell_type": "markdown",
   "metadata": {},
   "source": [
    "# <span style=\"color:#6600cc\"> Part 2 : \"Tags\" y Cleaning - - - - - - - - - - - - - - - - - - - - - - - - - "
   ]
  },
  {
   "cell_type": "markdown",
   "metadata": {},
   "source": [
    "### Html code removing in Tags"
   ]
  },
  {
   "cell_type": "code",
   "execution_count": 21,
   "metadata": {},
   "outputs": [
    {
     "data": {
      "text/html": [
       "<div>\n",
       "<style scoped>\n",
       "    .dataframe tbody tr th:only-of-type {\n",
       "        vertical-align: middle;\n",
       "    }\n",
       "\n",
       "    .dataframe tbody tr th {\n",
       "        vertical-align: top;\n",
       "    }\n",
       "\n",
       "    .dataframe thead th {\n",
       "        text-align: right;\n",
       "    }\n",
       "</style>\n",
       "<table border=\"1\" class=\"dataframe\">\n",
       "  <thead>\n",
       "    <tr style=\"text-align: right;\">\n",
       "      <th></th>\n",
       "      <th>Tags_OK</th>\n",
       "    </tr>\n",
       "  </thead>\n",
       "  <tbody>\n",
       "    <tr>\n",
       "      <th>0</th>\n",
       "      <td>c#  floating-point  type-conversion  double  ...</td>\n",
       "    </tr>\n",
       "    <tr>\n",
       "      <th>1</th>\n",
       "      <td>html  css  css3  internet-explorer-7</td>\n",
       "    </tr>\n",
       "    <tr>\n",
       "      <th>2</th>\n",
       "      <td>c#  .net  datetime</td>\n",
       "    </tr>\n",
       "    <tr>\n",
       "      <th>3</th>\n",
       "      <td>c#  datetime  time  datediff  relative-time-s...</td>\n",
       "    </tr>\n",
       "    <tr>\n",
       "      <th>4</th>\n",
       "      <td>javascript  html  browser  timezone  timezone...</td>\n",
       "    </tr>\n",
       "  </tbody>\n",
       "</table>\n",
       "</div>"
      ],
      "text/plain": [
       "                                             Tags_OK\n",
       "0   c#  floating-point  type-conversion  double  ...\n",
       "1              html  css  css3  internet-explorer-7 \n",
       "2                                c#  .net  datetime \n",
       "3   c#  datetime  time  datediff  relative-time-s...\n",
       "4   javascript  html  browser  timezone  timezone..."
      ]
     },
     "execution_count": 21,
     "metadata": {},
     "output_type": "execute_result"
    }
   ],
   "source": [
    "# symbol removing\n",
    "data_tags = [x.replace('<', ' ').replace('>', ' ') for x in data_text_lemm['Tags']]\n",
    "# \"Tags\" LOWer\n",
    "data_tags = [x.lower() for x in data_tags]\n",
    "\n",
    "Tags_tmp = pd.DataFrame(data_tags, columns = ['Tags_OK'])\n",
    "Tags_tmp.head()"
   ]
  },
  {
   "cell_type": "code",
   "execution_count": 22,
   "metadata": {},
   "outputs": [
    {
     "data": {
      "text/html": [
       "<div>\n",
       "<style scoped>\n",
       "    .dataframe tbody tr th:only-of-type {\n",
       "        vertical-align: middle;\n",
       "    }\n",
       "\n",
       "    .dataframe tbody tr th {\n",
       "        vertical-align: top;\n",
       "    }\n",
       "\n",
       "    .dataframe thead th {\n",
       "        text-align: right;\n",
       "    }\n",
       "</style>\n",
       "<table border=\"1\" class=\"dataframe\">\n",
       "  <thead>\n",
       "    <tr style=\"text-align: right;\">\n",
       "      <th></th>\n",
       "      <th>Text_OK</th>\n",
       "      <th>Tags_OK</th>\n",
       "    </tr>\n",
       "  </thead>\n",
       "  <tbody>\n",
       "    <tr>\n",
       "      <th>0</th>\n",
       "      <td>want use track bar change form opacity code de...</td>\n",
       "      <td>c#  floating-point  type-conversion  double  ...</td>\n",
       "    </tr>\n",
       "    <tr>\n",
       "      <th>1</th>\n",
       "      <td>absolutely positioned div containing several c...</td>\n",
       "      <td>html  css  css3  internet-explorer-7</td>\n",
       "    </tr>\n",
       "    <tr>\n",
       "      <th>2</th>\n",
       "      <td>given datetime representing person birthday ca...</td>\n",
       "      <td>c#  .net  datetime</td>\n",
       "    </tr>\n",
       "    <tr>\n",
       "      <th>3</th>\n",
       "      <td>given specific datetime value display relative...</td>\n",
       "      <td>c#  datetime  time  datediff  relative-time-s...</td>\n",
       "    </tr>\n",
       "    <tr>\n",
       "      <th>4</th>\n",
       "      <td>standard way web server able determine user ti...</td>\n",
       "      <td>javascript  html  browser  timezone  timezone...</td>\n",
       "    </tr>\n",
       "    <tr>\n",
       "      <th>5</th>\n",
       "      <td>difference math floor truncate net</td>\n",
       "      <td>.net  math</td>\n",
       "    </tr>\n",
       "    <tr>\n",
       "      <th>6</th>\n",
       "      <td>expose linq query asmx web service usually bus...</td>\n",
       "      <td>c#  linq  web-services  .net-3.5</td>\n",
       "    </tr>\n",
       "    <tr>\n",
       "      <th>7</th>\n",
       "      <td>store binary data mysql</td>\n",
       "      <td>mysql  database  binary-data  data-storage</td>\n",
       "    </tr>\n",
       "    <tr>\n",
       "      <th>8</th>\n",
       "      <td>looking fastest way obtain value personal chal...</td>\n",
       "      <td>performance  algorithm  language-agnostic  un...</td>\n",
       "    </tr>\n",
       "    <tr>\n",
       "      <th>9</th>\n",
       "      <td>trigger update table throw error prevents mysql</td>\n",
       "      <td>mysql  database  triggers</td>\n",
       "    </tr>\n",
       "  </tbody>\n",
       "</table>\n",
       "</div>"
      ],
      "text/plain": [
       "                                             Text_OK  \\\n",
       "0  want use track bar change form opacity code de...   \n",
       "1  absolutely positioned div containing several c...   \n",
       "2  given datetime representing person birthday ca...   \n",
       "3  given specific datetime value display relative...   \n",
       "4  standard way web server able determine user ti...   \n",
       "5                 difference math floor truncate net   \n",
       "6  expose linq query asmx web service usually bus...   \n",
       "7                            store binary data mysql   \n",
       "8  looking fastest way obtain value personal chal...   \n",
       "9    trigger update table throw error prevents mysql   \n",
       "\n",
       "                                             Tags_OK  \n",
       "0   c#  floating-point  type-conversion  double  ...  \n",
       "1              html  css  css3  internet-explorer-7   \n",
       "2                                c#  .net  datetime   \n",
       "3   c#  datetime  time  datediff  relative-time-s...  \n",
       "4   javascript  html  browser  timezone  timezone...  \n",
       "5                                        .net  math   \n",
       "6                  c#  linq  web-services  .net-3.5   \n",
       "7        mysql  database  binary-data  data-storage   \n",
       "8   performance  algorithm  language-agnostic  un...  \n",
       "9                         mysql  database  triggers   "
      ]
     },
     "execution_count": 22,
     "metadata": {},
     "output_type": "execute_result"
    }
   ],
   "source": [
    "data_text_OK_tags_OK = pd.concat([unik['Text_OK'], Tags_tmp[\"Tags_OK\"]], axis = 1)\n",
    "data_text_OK_tags_OK.head(10)"
   ]
  },
  {
   "cell_type": "code",
   "execution_count": 23,
   "metadata": {},
   "outputs": [
    {
     "data": {
      "text/plain": [
       "(10000, 2)"
      ]
     },
     "execution_count": 23,
     "metadata": {},
     "output_type": "execute_result"
    }
   ],
   "source": [
    "data_text_OK_tags_OK.shape"
   ]
  },
  {
   "cell_type": "markdown",
   "metadata": {},
   "source": [
    "# Database saving"
   ]
  },
  {
   "cell_type": "markdown",
   "metadata": {},
   "source": [
    "<strong> split for final test"
   ]
  },
  {
   "cell_type": "code",
   "execution_count": 24,
   "metadata": {},
   "outputs": [
    {
     "data": {
      "text/plain": [
       "8000"
      ]
     },
     "execution_count": 24,
     "metadata": {},
     "output_type": "execute_result"
    }
   ],
   "source": [
    "limite = (data_text_OK_tags_OK.shape[0])*80/100\n",
    "limite = int(limite)\n",
    "limite"
   ]
  },
  {
   "cell_type": "code",
   "execution_count": 25,
   "metadata": {},
   "outputs": [
    {
     "data": {
      "text/plain": [
       "(8000, 2)"
      ]
     },
     "execution_count": 25,
     "metadata": {},
     "output_type": "execute_result"
    }
   ],
   "source": [
    "data_text_FULL = data_text_OK_tags_OK[:limite]\n",
    "data_text_FULL.shape"
   ]
  },
  {
   "cell_type": "code",
   "execution_count": 26,
   "metadata": {},
   "outputs": [
    {
     "data": {
      "text/plain": [
       "(2000, 2)"
      ]
     },
     "execution_count": 26,
     "metadata": {},
     "output_type": "execute_result"
    }
   ],
   "source": [
    "data_text_FULL_test = data_text_OK_tags_OK[limite:]\n",
    "data_text_FULL_test.shape"
   ]
  },
  {
   "cell_type": "code",
   "execution_count": 27,
   "metadata": {},
   "outputs": [],
   "source": [
    "data_text_FULL.to_csv(path_or_buf='DATA_clean/20180924_data_Text.csv', \n",
    "                        index=True)"
   ]
  },
  {
   "cell_type": "code",
   "execution_count": 28,
   "metadata": {},
   "outputs": [],
   "source": [
    "data_text_FULL_test.to_csv(path_or_buf='DATA_clean/20180924_data_Text_test.csv', \n",
    "                        index=True)"
   ]
  }
 ],
 "metadata": {
  "kernelspec": {
   "display_name": "Python 3",
   "language": "python",
   "name": "python3"
  },
  "language_info": {
   "codemirror_mode": {
    "name": "ipython",
    "version": 3
   },
   "file_extension": ".py",
   "mimetype": "text/x-python",
   "name": "python",
   "nbconvert_exporter": "python",
   "pygments_lexer": "ipython3",
   "version": "3.6.4"
  }
 },
 "nbformat": 4,
 "nbformat_minor": 2
}
